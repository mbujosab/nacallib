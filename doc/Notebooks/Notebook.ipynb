{
 "cells": [
  {
   "cell_type": "markdown",
   "metadata": {
    "ein.tags": "worksheet-0",
    "slideshow": {
     "slide_type": "-"
    }
   },
   "source": [
    "${\\huge\\text{Jupyter notebook}}$"
   ]
  },
  {
   "cell_type": "markdown",
   "metadata": {},
   "source": [
    "**Índice de contenidos de este notebook** (Requiere ejecutar todo el Notebook para que aparezca el índice)\n",
    "<div id=\"toc\"></div>"
   ]
  },
  {
   "cell_type": "markdown",
   "metadata": {},
   "source": [
    "Para usar la librería, siempre debe ejecutar al comienzo de la sesión el código de la siguiente celda"
   ]
  },
  {
   "cell_type": "code",
   "execution_count": 1,
   "metadata": {
    "autoscroll": false,
    "ein.hycell": false,
    "ein.tags": "worksheet-0",
    "slideshow": {
     "slide_type": "-"
    }
   },
   "outputs": [],
   "source": [
    "from nacal import *"
   ]
  },
  {
   "cell_type": "markdown",
   "metadata": {},
   "source": [
    "Puede hacer pruebas en las celdas de código, como ésta de aquí abajo. O copiar código en la celda y ejecutarlo (recuerde que debe haber ejecutado la celda anterior)."
   ]
  },
  {
   "cell_type": "code",
   "execution_count": null,
   "metadata": {},
   "outputs": [],
   "source": []
  },
  {
   "cell_type": "markdown",
   "metadata": {},
   "source": [
    "Ejemplos de uso indicados en las notas de clase\n",
    "\n",
    "# Lección 1"
   ]
  },
  {
   "cell_type": "code",
   "execution_count": 2,
   "metadata": {},
   "outputs": [
    {
     "data": {
      "text/html": [
       "<p style=\"text-align:center;\">$\\begin{pmatrix}0\\\\4\\\\6\\end{pmatrix}$</p>"
      ],
      "text/plain": [
       "Vector([0, 4, 6])"
      ]
     },
     "execution_count": 2,
     "metadata": {},
     "output_type": "execute_result"
    }
   ],
   "source": [
    "b = Vector( [0, 4, 6] )   # Vector cuya lista de componentes es 0, 4 y 6\n",
    "b"
   ]
  },
  {
   "cell_type": "code",
   "execution_count": 3,
   "metadata": {},
   "outputs": [
    {
     "data": {
      "text/plain": [
       "6"
      ]
     },
     "execution_count": 3,
     "metadata": {},
     "output_type": "execute_result"
    }
   ],
   "source": [
    "b|3                       # tercera componente de b"
   ]
  },
  {
   "cell_type": "code",
   "execution_count": 4,
   "metadata": {},
   "outputs": [
    {
     "data": {
      "text/html": [
       "<p style=\"text-align:center;\">$\\begin{pmatrix}0\\\\0\\\\0\\end{pmatrix}$</p>"
      ],
      "text/plain": [
       "Vector([0, 0, 0])"
      ]
     },
     "execution_count": 4,
     "metadata": {},
     "output_type": "execute_result"
    }
   ],
   "source": [
    "V0( 3 )                   # es el vector nulo de tres componentes"
   ]
  },
  {
   "cell_type": "code",
   "execution_count": 5,
   "metadata": {},
   "outputs": [
    {
     "data": {
      "text/html": [
       "<p style=\"text-align:center;\">$\\begin{pmatrix}1\\\\5\\\\7\\end{pmatrix}$</p>"
      ],
      "text/plain": [
       "Vector([1, 5, 7])"
      ]
     },
     "execution_count": 5,
     "metadata": {},
     "output_type": "execute_result"
    }
   ],
   "source": [
    "a = Vector( [1, 1, 1] )\n",
    "a + b                     # suma de vectores"
   ]
  },
  {
   "cell_type": "code",
   "execution_count": 6,
   "metadata": {},
   "outputs": [
    {
     "data": {
      "text/html": [
       "<p style=\"text-align:center;\">$\\begin{pmatrix}7\\\\35\\\\49\\end{pmatrix}$</p>"
      ],
      "text/plain": [
       "Vector([7, 35, 49])"
      ]
     },
     "execution_count": 6,
     "metadata": {},
     "output_type": "execute_result"
    }
   ],
   "source": [
    "7 * (a + b)               # producto de un vector por un escalar"
   ]
  },
  {
   "cell_type": "code",
   "execution_count": 7,
   "metadata": {},
   "outputs": [
    {
     "data": {
      "text/html": [
       "<p style=\"text-align:center;\">$\\begin{bmatrix}1&2&3  \\\\0&-1&1\\end{bmatrix}$</p>"
      ],
      "text/plain": [
       "Matrix([Vector([1, 0]), Vector([2, -1]), Vector([3, 1])])"
      ]
     },
     "execution_count": 7,
     "metadata": {},
     "output_type": "execute_result"
    }
   ],
   "source": [
    "a = Vector( [1, 0] )\n",
    "b = Vector( [2,-1] )\n",
    "c = Vector( [3, 1] )\n",
    "B = Matrix( [a, b, c] )   # Matrix cuya lista de vectores es a, b, c\n",
    "B"
   ]
  },
  {
   "cell_type": "code",
   "execution_count": 8,
   "metadata": {},
   "outputs": [
    {
     "data": {
      "text/plain": [
       "-1"
      ]
     },
     "execution_count": 8,
     "metadata": {},
     "output_type": "execute_result"
    }
   ],
   "source": [
    "2|B|2                     # elemento de B situado en la segunda fila, segunda columna"
   ]
  },
  {
   "cell_type": "code",
   "execution_count": 9,
   "metadata": {},
   "outputs": [
    {
     "data": {
      "text/html": [
       "<p style=\"text-align:center;\">$\\begin{pmatrix}1,&2,&3\\end{pmatrix}$</p>"
      ],
      "text/plain": [
       "Vector([1, 2, 3])"
      ]
     },
     "execution_count": 9,
     "metadata": {},
     "output_type": "execute_result"
    }
   ],
   "source": [
    "1|B                       # primera fila de B"
   ]
  },
  {
   "cell_type": "code",
   "execution_count": 10,
   "metadata": {},
   "outputs": [
    {
     "data": {
      "text/html": [
       "<p style=\"text-align:center;\">$\\begin{pmatrix}2\\\\-1\\end{pmatrix}$</p>"
      ],
      "text/plain": [
       "Vector([2, -1])"
      ]
     },
     "execution_count": 10,
     "metadata": {},
     "output_type": "execute_result"
    }
   ],
   "source": [
    "B|2                       # segunda columna de B"
   ]
  },
  {
   "cell_type": "code",
   "execution_count": 11,
   "metadata": {},
   "outputs": [
    {
     "data": {
      "text/html": [
       "<p style=\"text-align:center;\">$\\begin{bmatrix}2  \\\\-1\\end{bmatrix}$</p>"
      ],
      "text/plain": [
       "Matrix([Vector([2, -1])])"
      ]
     },
     "execution_count": 11,
     "metadata": {},
     "output_type": "execute_result"
    }
   ],
   "source": [
    "Matrix( [ B|2 ] )         # Matriz cuya única columna es la segunda columna de B"
   ]
  },
  {
   "cell_type": "code",
   "execution_count": 12,
   "metadata": {},
   "outputs": [
    {
     "data": {
      "text/html": [
       "<p style=\"text-align:center;\">$\\begin{bmatrix}1&0  \\\\2&-1  \\\\3&1\\end{bmatrix}$</p>"
      ],
      "text/plain": [
       "Matrix([Vector([1, 2, 3]), Vector([0, -1, 1])])"
      ]
     },
     "execution_count": 12,
     "metadata": {},
     "output_type": "execute_result"
    }
   ],
   "source": [
    "~B                        # Transpuesta de la matriz B"
   ]
  },
  {
   "cell_type": "code",
   "execution_count": 13,
   "metadata": {},
   "outputs": [
    {
     "data": {
      "text/html": [
       "<p style=\"text-align:center;\">$\\begin{bmatrix}1&2&3\\end{bmatrix}$</p>"
      ],
      "text/plain": [
       "Matrix([Vector([1]), Vector([2]), Vector([3])])"
      ]
     },
     "execution_count": 13,
     "metadata": {},
     "output_type": "execute_result"
    }
   ],
   "source": [
    "~Matrix( [1|B] )          # Matriz cuya única fila es la primera fila de B"
   ]
  },
  {
   "cell_type": "code",
   "execution_count": 14,
   "metadata": {},
   "outputs": [
    {
     "data": {
      "text/html": [
       "<p style=\"text-align:center;\">$\\begin{bmatrix}3&1\\end{bmatrix}$</p>"
      ],
      "text/plain": [
       "Matrix([Vector([3]), Vector([1])])"
      ]
     },
     "execution_count": 14,
     "metadata": {},
     "output_type": "execute_result"
    }
   ],
   "source": [
    "~Matrix( [B|3] )          # Matriz cuya única fila es la tercera columna de B"
   ]
  },
  {
   "cell_type": "code",
   "execution_count": 15,
   "metadata": {},
   "outputs": [
    {
     "data": {
      "text/html": [
       "<p style=\"text-align:center;\">$\\begin{bmatrix}0&0&0  \\\\0&0&0  \\\\0&0&0  \\\\0&0&0\\end{bmatrix}$</p>"
      ],
      "text/plain": [
       "Matrix([Vector([0, 0, 0, 0]), Vector([0, 0, 0, 0]), Vector([0, 0, 0, 0])])"
      ]
     },
     "execution_count": 15,
     "metadata": {},
     "output_type": "execute_result"
    }
   ],
   "source": [
    "M0(4,3)                   # matriz nula de orden 4 por 3"
   ]
  },
  {
   "cell_type": "code",
   "execution_count": 16,
   "metadata": {},
   "outputs": [
    {
     "data": {
      "text/html": [
       "<p style=\"text-align:center;\">$\\begin{bmatrix}1&0&0&0  \\\\0&1&0&0  \\\\0&0&1&0  \\\\0&0&0&1\\end{bmatrix}$</p>"
      ],
      "text/plain": [
       "Matrix([Vector([1, 0, 0, 0]), Vector([0, 1, 0, 0]), Vector([0, 0, 1, 0]), Vector([0, 0, 0, 1])])"
      ]
     },
     "execution_count": 16,
     "metadata": {},
     "output_type": "execute_result"
    }
   ],
   "source": [
    "I(4)                      # matriz identidad de orden 4"
   ]
  },
  {
   "cell_type": "markdown",
   "metadata": {},
   "source": [
    "# Lección 2"
   ]
  },
  {
   "cell_type": "code",
   "execution_count": 17,
   "metadata": {},
   "outputs": [
    {
     "data": {
      "text/plain": [
       "10"
      ]
     },
     "execution_count": 17,
     "metadata": {},
     "output_type": "execute_result"
    }
   ],
   "source": [
    "a = Vector( [1, 1, 1] )\n",
    "b = Vector( [0, 4, 6] )\n",
    "\n",
    "a * b                     # producto punto entre los vectores a y b"
   ]
  },
  {
   "cell_type": "code",
   "execution_count": 18,
   "metadata": {},
   "outputs": [
    {
     "data": {
      "text/html": [
       "<p style=\"text-align:center;\">$\\begin{bmatrix}1&1&-2  \\\\1&0&2  \\\\1&1&1\\end{bmatrix}$</p>"
      ],
      "text/plain": [
       "Matrix([Vector([1, 1, 1]), Vector([1, 0, 1]), Vector([-2, 2, 1])])"
      ]
     },
     "execution_count": 18,
     "metadata": {},
     "output_type": "execute_result"
    }
   ],
   "source": [
    "A = Matrix( [ Vector([1,1,1]), Vector([1,0,1]), Vector([-2,2,1]) ] )\n",
    "A"
   ]
  },
  {
   "cell_type": "code",
   "execution_count": 19,
   "metadata": {},
   "outputs": [
    {
     "data": {
      "text/html": [
       "<p style=\"text-align:center;\">$\\begin{pmatrix}1\\\\2\\\\-3\\end{pmatrix}$</p>"
      ],
      "text/plain": [
       "Vector([1, 2, -3])"
      ]
     },
     "execution_count": 19,
     "metadata": {},
     "output_type": "execute_result"
    }
   ],
   "source": [
    "b = Vector( [1,2,-3] )\n",
    "b"
   ]
  },
  {
   "cell_type": "code",
   "execution_count": 20,
   "metadata": {},
   "outputs": [
    {
     "data": {
      "text/html": [
       "<p style=\"text-align:center;\">$\\begin{pmatrix}9\\\\-5\\\\0\\end{pmatrix}$</p>"
      ],
      "text/plain": [
       "Vector([9, -5, 0])"
      ]
     },
     "execution_count": 20,
     "metadata": {},
     "output_type": "execute_result"
    }
   ],
   "source": [
    "A*b"
   ]
  },
  {
   "cell_type": "code",
   "execution_count": 21,
   "metadata": {},
   "outputs": [
    {
     "data": {
      "text/html": [
       "<p style=\"text-align:center;\">$\\begin{pmatrix}9\\\\-5\\\\0\\end{pmatrix}$</p>"
      ],
      "text/plain": [
       "Vector([9, -5, 0])"
      ]
     },
     "execution_count": 21,
     "metadata": {},
     "output_type": "execute_result"
    }
   ],
   "source": [
    "(A|1)*(b|1) + (A|2)*(b|2) + (A|3)*(b|3)"
   ]
  },
  {
   "cell_type": "code",
   "execution_count": 22,
   "metadata": {},
   "outputs": [
    {
     "data": {
      "text/plain": [
       "True"
      ]
     },
     "execution_count": 22,
     "metadata": {},
     "output_type": "execute_result"
    }
   ],
   "source": [
    "2|(A*b) == (2|A)*b"
   ]
  },
  {
   "cell_type": "code",
   "execution_count": 23,
   "metadata": {},
   "outputs": [
    {
     "name": "stdout",
     "output_type": "stream",
     "text": [
      "True\n"
     ]
    },
    {
     "data": {
      "text/html": [
       "<p style=\"text-align:center;\">$\\begin{pmatrix}0,&-2,&-1\\end{pmatrix}$</p>"
      ],
      "text/plain": [
       "Vector([0, -2, -1])"
      ]
     },
     "execution_count": 23,
     "metadata": {},
     "output_type": "execute_result"
    }
   ],
   "source": [
    "print( b*A == ~A*b)\n",
    "b*A"
   ]
  },
  {
   "cell_type": "code",
   "execution_count": 24,
   "metadata": {},
   "outputs": [
    {
     "data": {
      "text/plain": [
       "True"
      ]
     },
     "execution_count": 24,
     "metadata": {},
     "output_type": "execute_result"
    }
   ],
   "source": [
    "(b*A)|3 == b*(A|3)"
   ]
  },
  {
   "cell_type": "markdown",
   "metadata": {},
   "source": [
    "# Lección 3"
   ]
  },
  {
   "cell_type": "code",
   "execution_count": 25,
   "metadata": {},
   "outputs": [
    {
     "data": {
      "text/html": [
       "<p style=\"text-align:center;\">$\\left[\\begin{array}{cccc|cc}1&1&1&1&2&2\\\\1&1&1&1&2&2\\\\1&1&1&1&2&2\\\\ \\hline 3&3&3&3&4&4\\\\3&3&3&3&4&4\\\\\\end{array}\\right]$</p>"
      ],
      "text/plain": [
       "BlockM([SisMat([Matrix([Vector([1, 1, 1]), Vector([1, 1, 1]), Vector([1, 1, 1]), Vector([1, 1, 1])]), Matrix([Vector([3, 3]), Vector([3, 3]), Vector([3, 3]), Vector([3, 3])])]), SisMat([Matrix([Vector([2, 2, 2]), Vector([2, 2, 2])]), Matrix([Vector([4, 4]), Vector([4, 4])])])])"
      ]
     },
     "execution_count": 25,
     "metadata": {},
     "output_type": "execute_result"
    }
   ],
   "source": [
    "a = Vector( [1,1,1,3,3] )\n",
    "b = Vector( [2,2,2,4,4] )\n",
    "B = Matrix( [a,a,a,a,b,b] )\n",
    "{3}|B|{4}"
   ]
  },
  {
   "cell_type": "markdown",
   "metadata": {},
   "source": [
    "# Lección 4"
   ]
  },
  {
   "cell_type": "code",
   "execution_count": 26,
   "metadata": {},
   "outputs": [
    {
     "data": {
      "text/html": [
       "<p style=\"text-align:center;\">$\\underset{\\left[\\left(8\\right)\\mathbf{2}+\\mathbf{3} \\right]}{\\mathbf{\\tau}}$</p>"
      ],
      "text/plain": [
       "T((8, 2, 3))"
      ]
     },
     "execution_count": 26,
     "metadata": {},
     "output_type": "execute_result"
    }
   ],
   "source": [
    "T( (8,2,3) )         # Suma ocho veces el segundo vector al tercero"
   ]
  },
  {
   "cell_type": "code",
   "execution_count": 27,
   "metadata": {},
   "outputs": [
    {
     "data": {
      "text/html": [
       "<p style=\"text-align:center;\">$\\begin{bmatrix}1&0&0  \\\\0&1&8  \\\\0&0&1\\end{bmatrix}$</p>"
      ],
      "text/plain": [
       "Matrix([Vector([1, 0, 0]), Vector([0, 1, 0]), Vector([0, 8, 1])])"
      ]
     },
     "execution_count": 27,
     "metadata": {},
     "output_type": "execute_result"
    }
   ],
   "source": [
    "I(3) & T( (8,2,3) )  # Transformación de las columnas de la matriz identidad de orden 3\n",
    "                     # (suma 8 veces la segunda columna a la tercera)"
   ]
  },
  {
   "cell_type": "code",
   "execution_count": 28,
   "metadata": {},
   "outputs": [
    {
     "data": {
      "text/html": [
       "<p style=\"text-align:center;\">$\\underset{\\left[\\left(5\\right)\\mathbf{2}\\right]}{\\mathbf{\\tau}}$</p>"
      ],
      "text/plain": [
       "T((5, 2))"
      ]
     },
     "execution_count": 28,
     "metadata": {},
     "output_type": "execute_result"
    }
   ],
   "source": [
    "T( (5, 2) )          # multiplica por 5 el segundo vector"
   ]
  },
  {
   "cell_type": "code",
   "execution_count": 29,
   "metadata": {},
   "outputs": [
    {
     "data": {
      "text/html": [
       "<p style=\"text-align:center;\">$\\begin{bmatrix}5&0&0  \\\\0&1&0  \\\\0&0&1\\end{bmatrix}$</p>"
      ],
      "text/plain": [
       "Matrix([Vector([5, 0, 0]), Vector([0, 1, 0]), Vector([0, 0, 1])])"
      ]
     },
     "execution_count": 29,
     "metadata": {},
     "output_type": "execute_result"
    }
   ],
   "source": [
    "I(3) & T( (5,1) )    # Transformación de las columnas de la matriz identidad de orden 3\n",
    "                     # (multiplica por 5 la primera columna)"
   ]
  },
  {
   "cell_type": "code",
   "execution_count": 30,
   "metadata": {},
   "outputs": [
    {
     "data": {
      "text/html": [
       "<p style=\"text-align:center;\">$\\underset{\\left[\\mathbf{1}\\rightleftharpoons\\mathbf{3}\\right]}{\\mathbf{\\tau}}$</p>"
      ],
      "text/plain": [
       "T({1, 3})"
      ]
     },
     "execution_count": 30,
     "metadata": {},
     "output_type": "execute_result"
    }
   ],
   "source": [
    "T( {1, 3} )          # intercambia los vectores primero y tercero"
   ]
  },
  {
   "cell_type": "code",
   "execution_count": 31,
   "metadata": {},
   "outputs": [
    {
     "data": {
      "text/html": [
       "<p style=\"text-align:center;\">$\\begin{bmatrix}1&0&0&0&0&0  \\\\0&0&0&0&1&0  \\\\0&0&1&0&0&0  \\\\0&0&0&1&0&0  \\\\0&1&0&0&0&0  \\\\0&0&0&0&0&1\\end{bmatrix}$</p>"
      ],
      "text/plain": [
       "Matrix([Vector([1, 0, 0, 0, 0, 0]), Vector([0, 0, 0, 0, 1, 0]), Vector([0, 0, 1, 0, 0, 0]), Vector([0, 0, 0, 1, 0, 0]), Vector([0, 1, 0, 0, 0, 0]), Vector([0, 0, 0, 0, 0, 1])])"
      ]
     },
     "execution_count": 31,
     "metadata": {},
     "output_type": "execute_result"
    }
   ],
   "source": [
    "i = 2; j= 5                                         # indicamos quienes son j e i\n",
    "I(6) & T( [(-1,j),(-1,j,i),(1,i,j),(-1,j,i)] )      # aplicación de lista de transf. elem.\n",
    "# I(6) & T( {i,j} )                                 # es más sencillo aplicar intercambio"
   ]
  },
  {
   "cell_type": "code",
   "execution_count": 32,
   "metadata": {},
   "outputs": [
    {
     "data": {
      "text/html": [
       "<p style=\"text-align:center;\">$\\begin{bmatrix}1&1&-2  \\\\0&1&2  \\\\1&1&1\\end{bmatrix}$</p>"
      ],
      "text/plain": [
       "Matrix([Vector([1, 0, 1]), Vector([1, 1, 1]), Vector([-2, 2, 1])])"
      ]
     },
     "execution_count": 32,
     "metadata": {},
     "output_type": "execute_result"
    }
   ],
   "source": [
    "A & T( {1,2} )                      # intercambio de las dos primeras columnas de A"
   ]
  },
  {
   "cell_type": "code",
   "execution_count": 33,
   "metadata": {},
   "outputs": [
    {
     "data": {
      "text/html": [
       "<p style=\"text-align:center;\">$\\begin{bmatrix}0&0&1&0&0  \\\\0&0&0&1&0  \\\\0&0&0&0&1  \\\\0&1&0&0&0  \\\\1&0&0&0&0\\end{bmatrix}$</p>"
      ],
      "text/plain": [
       "Matrix([Vector([0, 0, 0, 0, 1]), Vector([0, 0, 0, 1, 0]), Vector([1, 0, 0, 0, 0]), Vector([0, 1, 0, 0, 0]), Vector([0, 0, 1, 0, 0])])"
      ]
     },
     "execution_count": 33,
     "metadata": {},
     "output_type": "execute_result"
    }
   ],
   "source": [
    "I(5) & T( [{1,3}, {4,2}, {1,5}] )   # ejemplo de matriz permutación"
   ]
  },
  {
   "cell_type": "code",
   "execution_count": 34,
   "metadata": {},
   "outputs": [
    {
     "data": {
      "text/latex": [
       "$\\displaystyle \\begin{bmatrix}0&2&2  \\\\1&-2&-8  \\\\1&1&1\\end{bmatrix}\\xrightarrow{\\underset{\\begin{subarray}{c} \\left[\\left(-1\\right)\\mathbf{2}+\\mathbf{3} \\right]\\end{subarray}}{\\mathbf{\\tau}}}\\begin{bmatrix}0&2&0  \\\\1&-2&-6  \\\\1&1&0\\end{bmatrix}\\xrightarrow{\\underset{\\begin{subarray}{c} \\left[\\left(2\\right)\\mathbf{1}+\\mathbf{2} \\right]\\\\\\left[\\left(6\\right)\\mathbf{1}+\\mathbf{3} \\right]\\end{subarray}}{\\mathbf{\\tau}}}\\begin{bmatrix}0&2&0  \\\\1&0&0  \\\\1&3&6\\end{bmatrix}$"
      ],
      "text/plain": [
       "<IPython.core.display.Math object>"
      ]
     },
     "metadata": {},
     "output_type": "display_data"
    }
   ],
   "source": [
    "A = Matrix( [ [0,2,2], [1,-2,-8], [1,1,1] ] ) # Mat. descrita como lista de filas\n",
    "L = Elim(A,1)                                 # Eliminación por columnas"
   ]
  },
  {
   "cell_type": "code",
   "execution_count": 35,
   "metadata": {},
   "outputs": [
    {
     "data": {
      "text/latex": [
       "$\\displaystyle \\begin{bmatrix}0&2&2  \\\\1&-2&-8  \\\\1&1&1\\end{bmatrix}\\xrightarrow{\\underset{\\begin{subarray}{c} \\left[\\left(-1\\right)\\mathbf{2}+\\mathbf{3} \\right]\\end{subarray}}{\\mathbf{\\tau}}}\\begin{bmatrix}0&2&0  \\\\1&-2&-6  \\\\1&1&0\\end{bmatrix}\\xrightarrow{\\underset{\\begin{subarray}{c} \\left[\\left(2\\right)\\mathbf{1}+\\mathbf{2} \\right]\\\\\\left[\\left(6\\right)\\mathbf{1}+\\mathbf{3} \\right]\\end{subarray}}{\\mathbf{\\tau}}}\\begin{bmatrix}0&2&0  \\\\1&0&0  \\\\1&3&6\\end{bmatrix}\\xrightarrow{\\underset{\\begin{subarray}{c} \\left[\\mathbf{1}\\rightleftharpoons\\mathbf{2}\\right]\\end{subarray}}{\\mathbf{\\tau}}}\\begin{bmatrix}2&0&0  \\\\0&1&0  \\\\3&1&6\\end{bmatrix}$"
      ],
      "text/plain": [
       "<IPython.core.display.Math object>"
      ]
     },
     "metadata": {},
     "output_type": "display_data"
    }
   ],
   "source": [
    "A = Matrix( [ [0,2,2], [1,-2,-8], [1,1,1] ] ) # Mat. descrita como lista de filas\n",
    "L = ElimG(A,1)                                # Eliminación Gaussiana por columnas"
   ]
  },
  {
   "cell_type": "code",
   "execution_count": 36,
   "metadata": {},
   "outputs": [
    {
     "data": {
      "text/latex": [
       "$\\displaystyle \\begin{bmatrix}0&2&2  \\\\1&-2&-8  \\\\1&1&1\\end{bmatrix}\\xrightarrow{\\underset{\\begin{subarray}{c} \\left[\\left(-1\\right)\\mathbf{2}+\\mathbf{3} \\right]\\end{subarray}}{\\mathbf{\\tau}}}\\begin{bmatrix}0&2&0  \\\\1&-2&-6  \\\\1&1&0\\end{bmatrix}\\xrightarrow{\\underset{\\begin{subarray}{c} \\left[\\left(2\\right)\\mathbf{1}+\\mathbf{2} \\right]\\\\\\left[\\left(6\\right)\\mathbf{1}+\\mathbf{3} \\right]\\end{subarray}}{\\mathbf{\\tau}}}\\begin{bmatrix}0&2&0  \\\\1&0&0  \\\\1&3&6\\end{bmatrix}\\xrightarrow{\\underset{\\begin{subarray}{c} \\left[\\mathbf{1}\\rightleftharpoons\\mathbf{2}\\right]\\end{subarray}}{\\mathbf{\\tau}}}\\begin{bmatrix}2&0&0  \\\\0&1&0  \\\\3&1&6\\end{bmatrix}\\xrightarrow{\\underset{\\begin{subarray}{c} \\left[\\left(2\\right)\\mathbf{1}\\right]\\\\\\left[\\left(-1\\right)\\mathbf{3}+\\mathbf{1} \\right]\\\\\\left[\\left(6\\right)\\mathbf{2}\\right]\\\\\\left[\\left(-1\\right)\\mathbf{3}+\\mathbf{2} \\right]\\end{subarray}}{\\mathbf{\\tau}}}\\begin{bmatrix}4&0&0  \\\\0&6&0  \\\\0&0&6\\end{bmatrix}\\xrightarrow{\\underset{\\begin{subarray}{c} \\left[\\left(\\frac{1}{4}\\right)\\mathbf{1}\\right]\\\\\\left[\\left(\\frac{1}{6}\\right)\\mathbf{2}\\right]\\\\\\left[\\left(\\frac{1}{6}\\right)\\mathbf{3}\\right]\\end{subarray}}{\\mathbf{\\tau}}}\\begin{bmatrix}1&0&0  \\\\0&1&0  \\\\0&0&1\\end{bmatrix}$"
      ],
      "text/plain": [
       "<IPython.core.display.Math object>"
      ]
     },
     "metadata": {},
     "output_type": "display_data"
    }
   ],
   "source": [
    "A = Matrix( [ [0,2,2], [1,-2,-8], [1,1,1] ] ) # Mat. descrita como lista de filas\n",
    "L = ElimGJ(A,1)                               # Eliminación Gauss-Jordan por columnas"
   ]
  },
  {
   "cell_type": "code",
   "execution_count": 37,
   "metadata": {},
   "outputs": [
    {
     "data": {
      "text/html": [
       "<p style=\"text-align:center;\">$\\underset{\\begin{subarray}{c} \\left[\\left(-1\\right)\\mathbf{4}\\right]\\\\\\left[\\left(2\\right)\\mathbf{7}+\\mathbf{3} \\right]\\\\\\left[\\left(3\\right)\\mathbf{2}\\right]\\end{subarray}}{\\mathbf{\\tau}}$</p>"
      ],
      "text/plain": [
       "T([(-1, 4), (2, 7, 3), (3, 2)])"
      ]
     },
     "execution_count": 37,
     "metadata": {},
     "output_type": "execute_result"
    }
   ],
   "source": [
    "~T( [ (3,2), (2,7,3), (-1,4) ] )   # transposición invierte el orden de la secuencia de transformaciones."
   ]
  },
  {
   "cell_type": "code",
   "execution_count": 38,
   "metadata": {},
   "outputs": [
    {
     "data": {
      "text/latex": [
       "$\\displaystyle \\begin{bmatrix}0&2&2  \\\\1&-2&-8  \\\\3&6&-6\\end{bmatrix}\\xrightarrow[\\underset{\\begin{subarray}{c} \\left[\\left(-3\\right)\\mathbf{2}+\\mathbf{3} \\right]\\end{subarray}}{\\mathbf{\\tau}}]{}\\begin{bmatrix}0&2&2  \\\\1&-2&-8  \\\\0&12&18\\end{bmatrix}\\xrightarrow[\\underset{\\begin{subarray}{c} \\left[\\left(-6\\right)\\mathbf{1}+\\mathbf{3} \\right]\\\\\\left[\\left(1\\right)\\mathbf{1}+\\mathbf{2} \\right]\\end{subarray}}{\\mathbf{\\tau}}]{}\\begin{bmatrix}0&2&2  \\\\1&0&-6  \\\\0&0&6\\end{bmatrix}\\xrightarrow[\\underset{\\begin{subarray}{c} \\left[\\mathbf{1}\\rightleftharpoons\\mathbf{2}\\right]\\end{subarray}}{\\mathbf{\\tau}}]{}\\begin{bmatrix}1&0&-6  \\\\0&2&2  \\\\0&0&6\\end{bmatrix}$"
      ],
      "text/plain": [
       "<IPython.core.display.Math object>"
      ]
     },
     "metadata": {},
     "output_type": "display_data"
    }
   ],
   "source": [
    "A = Matrix([ [0,2,2], [1,-2,-8], [3,6,-6] ])\n",
    "L = ElimGF(A,1)                              # Escalonamiento operando con las filas"
   ]
  },
  {
   "cell_type": "markdown",
   "metadata": {},
   "source": [
    "# Lección 5"
   ]
  },
  {
   "cell_type": "code",
   "execution_count": 39,
   "metadata": {},
   "outputs": [
    {
     "data": {
      "text/html": [
       "<p style=\"text-align:center;\">$\\begin{bmatrix}1&0&0&0  \\\\0&1&0&0  \\\\0&0&1&0  \\\\0&0&0&1\\end{bmatrix}$</p>"
      ],
      "text/plain": [
       "Matrix([Vector([1, 0, 0, 0]), Vector([0, 1, 0, 0]), Vector([0, 0, 1, 0]), Vector([0, 0, 0, 1])])"
      ]
     },
     "execution_count": 39,
     "metadata": {},
     "output_type": "execute_result"
    }
   ],
   "source": [
    "t    = T([ (3,2), (2,1,3), (-1,3), (-2,1,2) ])     # Secuencia de transformaciones\n",
    "tInv = t**(-1)                                     # Inversa de la secuencia de transf.\n",
    "\n",
    "A    = I(4) & t                                    # A: producto de elementales\n",
    "B    = I(4) & t**(-1)                              # B es la inversa de A\n",
    "A*B                                                # Comprobación de que son inversas"
   ]
  },
  {
   "cell_type": "code",
   "execution_count": 40,
   "metadata": {},
   "outputs": [
    {
     "data": {
      "text/latex": [
       "$\\displaystyle \\begin{bmatrix}5&0&0  \\\\2&-2&0  \\\\6&9&3\\end{bmatrix}\\xrightarrow{\\underset{\\begin{subarray}{c} \\left[\\left(1\\right)\\mathbf{2}+\\mathbf{1} \\right]\\end{subarray}}{\\mathbf{\\tau}}}\\begin{bmatrix}5&0&0  \\\\0&-2&0  \\\\15&9&3\\end{bmatrix}\\xrightarrow{\\underset{\\begin{subarray}{c} \\left[\\left(-5\\right)\\mathbf{3}+\\mathbf{1} \\right]\\\\\\left[\\left(-3\\right)\\mathbf{3}+\\mathbf{2} \\right]\\end{subarray}}{\\mathbf{\\tau}}}\\begin{bmatrix}5&0&0  \\\\0&-2&0  \\\\0&0&3\\end{bmatrix}\\xrightarrow{\\underset{\\begin{subarray}{c} \\left[\\left(\\frac{1}{5}\\right)\\mathbf{1}\\right]\\\\\\left[\\left(- \\frac{1}{2}\\right)\\mathbf{2}\\right]\\\\\\left[\\left(\\frac{1}{3}\\right)\\mathbf{3}\\right]\\end{subarray}}{\\mathbf{\\tau}}}\\begin{bmatrix}1&0&0  \\\\0&1&0  \\\\0&0&1\\end{bmatrix}$"
      ],
      "text/plain": [
       "<IPython.core.display.Math object>"
      ]
     },
     "metadata": {},
     "output_type": "display_data"
    }
   ],
   "source": [
    "L = Matrix( [[5,0,0], [2,-2,0], [6,9,3]] )\n",
    "R = ElimGJ(L,1)                                    # Forma Escalonada Reducida"
   ]
  },
  {
   "cell_type": "code",
   "execution_count": 41,
   "metadata": {},
   "outputs": [
    {
     "data": {
      "text/latex": [
       "$\\displaystyle \\begin{bmatrix}5&0&0  \\\\2&-2&0  \\\\6&9&3\\end{bmatrix}\\xrightarrow{\\underset{\\begin{subarray}{c} \\left[\\left(1\\right)\\mathbf{2}+\\mathbf{1} \\right]\\end{subarray}}{\\mathbf{\\tau}}}\\begin{bmatrix}5&0&0  \\\\0&-2&0  \\\\15&9&3\\end{bmatrix}\\xrightarrow{\\underset{\\begin{subarray}{c} \\left[\\left(-5\\right)\\mathbf{3}+\\mathbf{1} \\right]\\\\\\left[\\left(-3\\right)\\mathbf{3}+\\mathbf{2} \\right]\\end{subarray}}{\\mathbf{\\tau}}}\\begin{bmatrix}5&0&0  \\\\0&-2&0  \\\\0&0&3\\end{bmatrix}\\xrightarrow{\\underset{\\begin{subarray}{c} \\left[\\left(\\frac{1}{5}\\right)\\mathbf{1}\\right]\\\\\\left[\\left(- \\frac{1}{2}\\right)\\mathbf{2}\\right]\\\\\\left[\\left(\\frac{1}{3}\\right)\\mathbf{3}\\right]\\end{subarray}}{\\mathbf{\\tau}}}\\begin{bmatrix}1&0&0  \\\\0&1&0  \\\\0&0&1\\end{bmatrix}$"
      ],
      "text/plain": [
       "<IPython.core.display.Math object>"
      ]
     },
     "metadata": {},
     "output_type": "display_data"
    },
    {
     "data": {
      "text/html": [
       "<p style=\"text-align:center;\">$\\begin{bmatrix}5&0&0  \\\\2&-2&0  \\\\6&9&3\\end{bmatrix}$</p>"
      ],
      "text/plain": [
       "Matrix([Vector([5, 2, 6]), Vector([0, -2, 9]), Vector([0, 0, 3])])"
      ]
     },
     "execution_count": 41,
     "metadata": {},
     "output_type": "execute_result"
    }
   ],
   "source": [
    "L = Matrix( [[5,0,0], [2,-2,0], [6,9,3]] )\n",
    "R = ElimGJ(L,1)                                     # Forma Escalonada Reducida\n",
    "I(L.n) & ( T(R.pasos[1]) )**-1                      # Producto de matrices elementales"
   ]
  },
  {
   "cell_type": "code",
   "execution_count": 42,
   "metadata": {},
   "outputs": [
    {
     "name": "stdout",
     "output_type": "stream",
     "text": [
      "T([(2, 2), (1, 1, 2), (1, 3), (0, 1, 3), (3, 3), (1, 2, 3), {1}, {2}, {3}, (3, 1), (1, 2, 1), (2, 1), (1, 3, 1), (2, 2), (1, 3, 2), (1/12, 1), (1/6, 2), (1/4, 3)])\n"
     ]
    }
   ],
   "source": [
    "A = Matrix( [ [2,-1,0], [-1,2,-1], [0,-1,2] ] )\n",
    "p = ElimGJ(A).pasos\n",
    "print(T(p[1]))                # secuencia de las transformaciones aplicadas a las columnas    "
   ]
  },
  {
   "cell_type": "code",
   "execution_count": 43,
   "metadata": {},
   "outputs": [
    {
     "data": {
      "text/html": [
       "<p style=\"text-align:center;\">$\\begin{bmatrix}\\frac{3}{4}&\\frac{1}{2}&\\frac{1}{4}  \\\\\\frac{1}{2}&1&\\frac{1}{2}  \\\\\\frac{1}{4}&\\frac{1}{2}&\\frac{3}{4}\\end{bmatrix}$</p>"
      ],
      "text/plain": [
       "Matrix([Vector([3/4, 1/2, 1/4]), Vector([1/2, 1, 1/2]), Vector([1/4, 1/2, 3/4])])"
      ]
     },
     "execution_count": 43,
     "metadata": {},
     "output_type": "execute_result"
    }
   ],
   "source": [
    "I(A.n) & T(p[1])              # es la inversa de A"
   ]
  },
  {
   "cell_type": "code",
   "execution_count": 44,
   "metadata": {},
   "outputs": [
    {
     "data": {
      "text/html": [
       "<p style=\"text-align:center;\">$\\begin{bmatrix}1&0&0  \\\\0&1&0  \\\\0&0&1\\end{bmatrix}$</p>"
      ],
      "text/plain": [
       "Matrix([Vector([1, 0, 0]), Vector([0, 1, 0]), Vector([0, 0, 1])])"
      ]
     },
     "execution_count": 44,
     "metadata": {},
     "output_type": "execute_result"
    }
   ],
   "source": [
    "A * ( I(A.n) & T(p[1]) )      # comprobación de que es la matriz inversa"
   ]
  },
  {
   "cell_type": "code",
   "execution_count": 45,
   "metadata": {},
   "outputs": [
    {
     "data": {
      "text/html": [
       "<p style=\"text-align:center;\">$\\begin{bmatrix}\\frac{3}{4}&\\frac{1}{2}&\\frac{1}{4}  \\\\\\frac{1}{2}&1&\\frac{1}{2}  \\\\\\frac{1}{4}&\\frac{1}{2}&\\frac{3}{4}\\end{bmatrix}$</p>"
      ],
      "text/plain": [
       "Matrix([Vector([3/4, 1/2, 1/4]), Vector([1/2, 1, 1/2]), Vector([1/4, 1/2, 3/4])])"
      ]
     },
     "execution_count": 45,
     "metadata": {},
     "output_type": "execute_result"
    }
   ],
   "source": [
    "A**-1                         # Devuelve la matriz inversa de A"
   ]
  },
  {
   "cell_type": "code",
   "execution_count": 46,
   "metadata": {},
   "outputs": [
    {
     "data": {
      "text/latex": [
       "$\\displaystyle \\left[\\begin{array}{ccc}2&-1&0\\\\-1&2&-1\\\\0&-1&2\\\\ \\hline 1&0&0\\\\0&1&0\\\\0&0&1\\\\\\end{array}\\right]\\xrightarrow{\\underset{\\begin{subarray}{c} \\left[\\left(2\\right)\\mathbf{2}\\right]\\\\\\left[\\left(1\\right)\\mathbf{1}+\\mathbf{2} \\right]\\end{subarray}}{\\mathbf{\\tau}}}\\left[\\begin{array}{ccc}2&0&0\\\\-1&3&-1\\\\0&-2&2\\\\ \\hline 1&1&0\\\\0&2&0\\\\0&0&1\\\\\\end{array}\\right]\\xrightarrow{\\underset{\\begin{subarray}{c} \\left[\\left(3\\right)\\mathbf{3}\\right]\\\\\\left[\\left(1\\right)\\mathbf{2}+\\mathbf{3} \\right]\\end{subarray}}{\\mathbf{\\tau}}}\\left[\\begin{array}{ccc}2&0&0\\\\-1&3&0\\\\0&-2&4\\\\ \\hline 1&1&1\\\\0&2&2\\\\0&0&3\\\\\\end{array}\\right]\\xrightarrow{\\underset{\\begin{subarray}{c} \\left[\\left(3\\right)\\mathbf{1}\\right]\\\\\\left[\\left(1\\right)\\mathbf{2}+\\mathbf{1} \\right]\\end{subarray}}{\\mathbf{\\tau}}}\\left[\\begin{array}{ccc}6&0&0\\\\0&3&0\\\\-2&-2&4\\\\ \\hline 4&1&1\\\\2&2&2\\\\0&0&3\\\\\\end{array}\\right]\\xrightarrow{\\underset{\\begin{subarray}{c} \\left[\\left(2\\right)\\mathbf{1}\\right]\\\\\\left[\\left(1\\right)\\mathbf{3}+\\mathbf{1} \\right]\\\\\\left[\\left(2\\right)\\mathbf{2}\\right]\\\\\\left[\\left(1\\right)\\mathbf{3}+\\mathbf{2} \\right]\\end{subarray}}{\\mathbf{\\tau}}}\\left[\\begin{array}{ccc}12&0&0\\\\0&6&0\\\\0&0&4\\\\ \\hline 9&3&1\\\\6&6&2\\\\3&3&3\\\\\\end{array}\\right]\\xrightarrow{\\underset{\\begin{subarray}{c} \\left[\\left(\\frac{1}{12}\\right)\\mathbf{1}\\right]\\\\\\left[\\left(\\frac{1}{6}\\right)\\mathbf{2}\\right]\\\\\\left[\\left(\\frac{1}{4}\\right)\\mathbf{3}\\right]\\end{subarray}}{\\mathbf{\\tau}}}\\left[\\begin{array}{ccc}1&0&0\\\\0&1&0\\\\0&0&1\\\\ \\hline \\frac{3}{4}&\\frac{1}{2}&\\frac{1}{4}\\\\\\frac{1}{2}&1&\\frac{1}{2}\\\\\\frac{1}{4}&\\frac{1}{2}&\\frac{3}{4}\\\\\\end{array}\\right]$"
      ],
      "text/plain": [
       "<IPython.core.display.Math object>"
      ]
     },
     "metadata": {},
     "output_type": "display_data"
    },
    {
     "data": {
      "text/html": [
       "<p style=\"text-align:center;\">$\\begin{bmatrix}\\frac{3}{4}&\\frac{1}{2}&\\frac{1}{4}  \\\\\\frac{1}{2}&1&\\frac{1}{2}  \\\\\\frac{1}{4}&\\frac{1}{2}&\\frac{3}{4}\\end{bmatrix}$</p>"
      ],
      "text/plain": [
       "Matrix([Vector([3/4, 1/2, 1/4]), Vector([1/2, 1, 1/2]), Vector([1/4, 1/2, 3/4])])"
      ]
     },
     "execution_count": 46,
     "metadata": {},
     "output_type": "execute_result"
    }
   ],
   "source": [
    "InvMat(A,1)                   # Calcula la inversa por eliminación Gauss-Jordan"
   ]
  },
  {
   "cell_type": "code",
   "execution_count": 47,
   "metadata": {},
   "outputs": [],
   "source": [
    "x, y, z = sympy.symbols('x y z')"
   ]
  },
  {
   "cell_type": "code",
   "execution_count": 48,
   "metadata": {},
   "outputs": [
    {
     "data": {
      "text/latex": [
       "$\\displaystyle \\left[\\begin{array}{cc}x&z\\\\\\sqrt{2} z&y\\\\ \\hline 1&0\\\\0&1\\\\\\end{array}\\right]\\xrightarrow{\\underset{\\begin{subarray}{c} \\left[\\left(- \\frac{z}{x}\\right)\\mathbf{1}+\\mathbf{2} \\right]\\end{subarray}}{\\mathbf{\\tau}}}\\left[\\begin{array}{cc}x&0\\\\\\sqrt{2} z&y - \\frac{\\sqrt{2} z^{2}}{x}\\\\ \\hline 1&- \\frac{z}{x}\\\\0&1\\\\\\end{array}\\right]\\xrightarrow{\\underset{\\begin{subarray}{c} \\left[\\left(- \\frac{\\sqrt{2} x z}{x y - \\sqrt{2} z^{2}}\\right)\\mathbf{2}+\\mathbf{1} \\right]\\end{subarray}}{\\mathbf{\\tau}}}\\left[\\begin{array}{cc}x&0\\\\0&y - \\frac{\\sqrt{2} z^{2}}{x}\\\\ \\hline \\frac{x y}{x y - \\sqrt{2} z^{2}}&- \\frac{z}{x}\\\\- \\frac{\\sqrt{2} x z}{x y - \\sqrt{2} z^{2}}&1\\\\\\end{array}\\right]\\xrightarrow{\\underset{\\begin{subarray}{c} \\left[\\left(\\frac{1}{x}\\right)\\mathbf{1}\\right]\\\\\\left[\\left(\\frac{x}{x y - \\sqrt{2} z^{2}}\\right)\\mathbf{2}\\right]\\end{subarray}}{\\mathbf{\\tau}}}\\left[\\begin{array}{cc}1&0\\\\0&1\\\\ \\hline \\frac{y}{x y - \\sqrt{2} z^{2}}&- \\frac{z}{x y - \\sqrt{2} z^{2}}\\\\- \\frac{\\sqrt{2} z}{x y - \\sqrt{2} z^{2}}&\\frac{x}{x y - \\sqrt{2} z^{2}}\\\\\\end{array}\\right]$"
      ],
      "text/plain": [
       "<IPython.core.display.Math object>"
      ]
     },
     "metadata": {},
     "output_type": "display_data"
    },
    {
     "data": {
      "text/html": [
       "<p style=\"text-align:center;\">$\\begin{bmatrix}1&0  \\\\0&1\\end{bmatrix}$</p>"
      ],
      "text/plain": [
       "Matrix([Vector([1, 0]), Vector([-y*z/(x*(y - sqrt(2)*z**2/x)) + z*(1 + sqrt(2)*z**2/(x*(y - sqrt(2)*z**2/x)))/x, y/(y - sqrt(2)*z**2/x) - sqrt(2)*z**2/(x*(y - sqrt(2)*z**2/x))])])"
      ]
     },
     "execution_count": 48,
     "metadata": {},
     "output_type": "execute_result"
    }
   ],
   "source": [
    "B = Matrix([[x,z],[sympy.sqrt(2)*z,y]])\n",
    "A = InvMat(B,1)\n",
    "#C=A.subs([(x,2),(y,-1),(z,1)])\n",
    "A*B"
   ]
  },
  {
   "cell_type": "markdown",
   "metadata": {},
   "source": [
    "# Lección 7"
   ]
  },
  {
   "cell_type": "code",
   "execution_count": 49,
   "metadata": {},
   "outputs": [
    {
     "data": {
      "text/latex": [
       "$\\displaystyle \\left[\\begin{array}{cccc}1&2&0&1\\\\0&1&1&0\\\\1&2&0&1\\\\ \\hline 1&0&0&0\\\\0&1&0&0\\\\0&0&1&0\\\\0&0&0&1\\\\\\end{array}\\right]\\xrightarrow{\\underset{\\begin{subarray}{c} \\left[\\left(-2\\right)\\mathbf{1}+\\mathbf{2} \\right]\\\\\\left[\\left(-1\\right)\\mathbf{1}+\\mathbf{4} \\right]\\end{subarray}}{\\mathbf{\\tau}}}\\left[\\begin{array}{cccc}1&0&0&0\\\\0&1&1&0\\\\1&0&0&0\\\\ \\hline 1&-2&0&-1\\\\0&1&0&0\\\\0&0&1&0\\\\0&0&0&1\\\\\\end{array}\\right]\\xrightarrow{\\underset{\\begin{subarray}{c} \\left[\\left(-1\\right)\\mathbf{2}+\\mathbf{3} \\right]\\end{subarray}}{\\mathbf{\\tau}}}\\left[\\begin{array}{cccc}1&0&0&0\\\\0&1&0&0\\\\1&0&0&0\\\\ \\hline 1&-2&2&-1\\\\0&1&-1&0\\\\0&0&1&0\\\\0&0&0&1\\\\\\end{array}\\right]$"
      ],
      "text/plain": [
       "<IPython.core.display.Math object>"
      ]
     },
     "metadata": {},
     "output_type": "display_data"
    },
    {
     "data": {
      "text/html": [
       "<p style=\"text-align:center;\">$\\text{Conjunto de combinaciones lineales de: }\\quad\\begin{pmatrix}2\\\\-1\\\\1\\\\0\\end{pmatrix},\\;\\;\\begin{pmatrix}-1\\\\0\\\\0\\\\1\\end{pmatrix}.$</p>"
      ],
      "text/plain": [
       "Combinaciones lineales de (Sistema([Vector([2, -1, 1, 0]); Vector([-1, 0, 0, 1]);]))"
      ]
     },
     "execution_count": 49,
     "metadata": {},
     "output_type": "execute_result"
    }
   ],
   "source": [
    "A = Matrix( [ [1,2,0,1],[0,1,1,0],[1,2,0,1] ] )\n",
    "Homogenea(A, 1)"
   ]
  },
  {
   "cell_type": "code",
   "execution_count": 50,
   "metadata": {},
   "outputs": [
    {
     "data": {
      "text/html": [
       "<p style=\"text-align:center;\">$\\left\\{ \\boldsymbol{v}\\in\\mathbb{R}^4\\ \\left|\\ \\exists\\boldsymbol{p}\\in\\mathbb{R}^2\\ \\text{tal que}\\ \\boldsymbol{v}= \\begin{bmatrix}2&0  \\\\-1&-1  \\\\1&1  \\\\0&2\\end{bmatrix}\\boldsymbol{p}\\right. \\right\\}\\; = \\;\\left\\{ \\boldsymbol{v}\\in\\mathbb{R}^4\\ \\left|\\ \\begin{bmatrix}0&2&2&0  \\\\1&2&0&1\\end{bmatrix}\\boldsymbol{v}=\\boldsymbol{0}\\right.\\right\\}$</p>"
      ],
      "text/plain": [
       "<notacion.SubEspacio at 0x7f7c8eaf1730>"
      ]
     },
     "execution_count": 50,
     "metadata": {},
     "output_type": "execute_result"
    }
   ],
   "source": [
    "Homogenea(A).enulo        # Espacio Nulo de A"
   ]
  },
  {
   "cell_type": "markdown",
   "metadata": {},
   "source": [
    "# Lección 8"
   ]
  },
  {
   "cell_type": "code",
   "execution_count": 51,
   "metadata": {},
   "outputs": [
    {
     "data": {
      "text/latex": [
       "$\\displaystyle \\left[\\begin{array}{ccc|c}1&1&2&-5\\\\2&2&4&-10\\\\3&1&4&-1\\\\4&1&5&1\\\\ \\hline 1&0&0&0\\\\0&1&0&0\\\\0&0&1&0\\\\ \\hline 0&0&0&1\\\\\\end{array}\\right]\\xrightarrow{\\underset{\\begin{subarray}{c} \\left[\\left(-1\\right)\\mathbf{1}+\\mathbf{2} \\right]\\\\\\left[\\left(-2\\right)\\mathbf{1}+\\mathbf{3} \\right]\\\\\\left[\\left(5\\right)\\mathbf{1}+\\mathbf{4} \\right]\\end{subarray}}{\\mathbf{\\tau}}}\\left[\\begin{array}{ccc|c}1&0&0&0\\\\2&0&0&0\\\\3&-2&-2&14\\\\4&-3&-3&21\\\\ \\hline 1&-1&-2&5\\\\0&1&0&0\\\\0&0&1&0\\\\ \\hline 0&0&0&1\\\\\\end{array}\\right]\\xrightarrow{\\underset{\\begin{subarray}{c} \\left[\\left(-1\\right)\\mathbf{2}+\\mathbf{3} \\right]\\\\\\left[\\left(7\\right)\\mathbf{2}+\\mathbf{4} \\right]\\end{subarray}}{\\mathbf{\\tau}}}\\left[\\begin{array}{ccc|c}1&0&0&0\\\\2&0&0&0\\\\3&-2&0&0\\\\4&-3&0&0\\\\ \\hline 1&-1&-1&-2\\\\0&1&-1&7\\\\0&0&1&0\\\\ \\hline 0&0&0&1\\\\\\end{array}\\right]$"
      ],
      "text/plain": [
       "<IPython.core.display.Math object>"
      ]
     },
     "metadata": {},
     "output_type": "display_data"
    },
    {
     "data": {
      "text/html": [
       "<p style=\"text-align:center;\">$\\text{Conjunto de vectores: }\\left\\{ \\boldsymbol{x}\\in\\mathbb{R}^3\\ \\left|\\ \\exists\\boldsymbol{p}\\in\\mathbb{R}^1\\ \\text{tal que}\\ \\boldsymbol{x}= \\begin{pmatrix}-2\\\\7\\\\0\\end{pmatrix}+\\begin{bmatrix}-1  \\\\-1  \\\\1\\end{bmatrix}\\boldsymbol{p}\\right. \\right\\}$</p>"
      ],
      "text/plain": [
       "Vector([-2, 7, 0]) + Combinaciones lineales de (Sistema([Vector([-1, -1, 1]);]))"
      ]
     },
     "execution_count": 51,
     "metadata": {},
     "output_type": "execute_result"
    }
   ],
   "source": [
    "A = Matrix( [ [1,1,2],[2,2,4],[3,1,4],[4,1,5] ] )\n",
    "b = Vector( [5,10,1,-1] )\n",
    "SEL( A, b, 1 )                                   # resuelve el Sistema de Ecuaciones Lineales"
   ]
  },
  {
   "cell_type": "code",
   "execution_count": 52,
   "metadata": {},
   "outputs": [
    {
     "data": {
      "text/latex": [
       "$\\displaystyle \\left[\\begin{array}{cccc|c}1&2&2&2&-2\\\\2&4&6&8&-2\\\\3&6&8&10&-4\\\\ \\hline 1&0&0&0&0\\\\0&1&0&0&0\\\\0&0&1&0&0\\\\0&0&0&1&0\\\\ \\hline 0&0&0&0&1\\\\\\end{array}\\right]\\xrightarrow{\\underset{\\begin{subarray}{c} \\left[\\left(-2\\right)\\mathbf{1}+\\mathbf{2} \\right]\\\\\\left[\\left(-2\\right)\\mathbf{1}+\\mathbf{3} \\right]\\\\\\left[\\left(-2\\right)\\mathbf{1}+\\mathbf{4} \\right]\\\\\\left[\\left(2\\right)\\mathbf{1}+\\mathbf{5} \\right]\\end{subarray}}{\\mathbf{\\tau}}}\\left[\\begin{array}{cccc|c}1&0&0&0&0\\\\2&0&2&4&2\\\\3&0&2&4&2\\\\ \\hline 1&-2&-2&-2&2\\\\0&1&0&0&0\\\\0&0&1&0&0\\\\0&0&0&1&0\\\\ \\hline 0&0&0&0&1\\\\\\end{array}\\right]\\xrightarrow{\\underset{\\begin{subarray}{c} \\left[\\left(-2\\right)\\mathbf{3}+\\mathbf{4} \\right]\\\\\\left[\\left(-1\\right)\\mathbf{3}+\\mathbf{5} \\right]\\end{subarray}}{\\mathbf{\\tau}}}\\left[\\begin{array}{cccc|c}1&0&0&0&0\\\\2&0&2&0&0\\\\3&0&2&0&0\\\\ \\hline 1&-2&-2&2&4\\\\0&1&0&0&0\\\\0&0&1&-2&-1\\\\0&0&0&1&0\\\\ \\hline 0&0&0&0&1\\\\\\end{array}\\right]$"
      ],
      "text/plain": [
       "<IPython.core.display.Math object>"
      ]
     },
     "metadata": {},
     "output_type": "display_data"
    },
    {
     "data": {
      "text/html": [
       "<p style=\"text-align:center;\">$\\text{Conjunto de vectores: }\\left\\{ \\boldsymbol{x}\\in\\mathbb{R}^4\\ \\left|\\ \\exists\\boldsymbol{p}\\in\\mathbb{R}^2\\ \\text{tal que}\\ \\boldsymbol{x}= \\begin{pmatrix}4\\\\0\\\\-1\\\\0\\end{pmatrix}+\\begin{bmatrix}-2&2  \\\\1&0  \\\\0&-2  \\\\0&1\\end{bmatrix}\\boldsymbol{p}\\right. \\right\\}$</p>"
      ],
      "text/plain": [
       "Vector([4, 0, -1, 0]) + Combinaciones lineales de (Sistema([Vector([-2, 1, 0, 0]); Vector([2, 0, -2, 1]);]))"
      ]
     },
     "execution_count": 52,
     "metadata": {},
     "output_type": "execute_result"
    }
   ],
   "source": [
    "A = Matrix( [ [1,2,2,2],[2,4,6,8],[3,6,8,10] ] )\n",
    "b = Vector( [2,2,4] )\n",
    "SEL( A, b, 1 )                                   # resuelve el Sistema de Ecuaciones Lineales"
   ]
  },
  {
   "cell_type": "code",
   "execution_count": 53,
   "metadata": {},
   "outputs": [
    {
     "data": {
      "text/latex": [
       "$\\displaystyle \\left[\\begin{array}{ccc|c}1&2&1&-4\\\\7&-3&0&-4\\\\6&4&2&-12\\\\ \\hline 1&0&0&0\\\\0&1&0&0\\\\0&0&1&0\\\\ \\hline 0&0&0&1\\\\\\end{array}\\right]\\xrightarrow{\\underset{\\begin{subarray}{c} \\left[\\left(-2\\right)\\mathbf{1}+\\mathbf{2} \\right]\\\\\\left[\\left(-1\\right)\\mathbf{1}+\\mathbf{3} \\right]\\\\\\left[\\left(4\\right)\\mathbf{1}+\\mathbf{4} \\right]\\end{subarray}}{\\mathbf{\\tau}}}\\left[\\begin{array}{ccc|c}1&0&0&0\\\\7&-17&-7&24\\\\6&-8&-4&12\\\\ \\hline 1&-2&-1&4\\\\0&1&0&0\\\\0&0&1&0\\\\ \\hline 0&0&0&1\\\\\\end{array}\\right]\\xrightarrow{\\underset{\\begin{subarray}{c} \\left[\\left(17\\right)\\mathbf{3}\\right]\\\\\\left[\\left(-7\\right)\\mathbf{2}+\\mathbf{3} \\right]\\\\\\left[\\left(17\\right)\\mathbf{4}\\right]\\\\\\left[\\left(24\\right)\\mathbf{2}+\\mathbf{4} \\right]\\end{subarray}}{\\mathbf{\\tau}}}\\left[\\begin{array}{ccc|c}1&0&0&0\\\\7&-17&0&0\\\\6&-8&-12&12\\\\ \\hline 1&-2&-3&20\\\\0&1&-7&24\\\\0&0&17&0\\\\ \\hline 0&0&0&17\\\\\\end{array}\\right]\\xrightarrow{\\underset{\\begin{subarray}{c} \\left[\\left(1\\right)\\mathbf{3}+\\mathbf{4} \\right]\\end{subarray}}{\\mathbf{\\tau}}}\\left[\\begin{array}{ccc|c}1&0&0&0\\\\7&-17&0&0\\\\6&-8&-12&0\\\\ \\hline 1&-2&-3&17\\\\0&1&-7&17\\\\0&0&17&17\\\\ \\hline 0&0&0&17\\\\\\end{array}\\right]\\xrightarrow{\\underset{\\begin{subarray}{c} \\left[\\left(\\frac{1}{17}\\right)\\mathbf{4}\\right]\\end{subarray}}{\\mathbf{\\tau}}}\\left[\\begin{array}{ccc|c}1&0&0&0\\\\7&-17&0&0\\\\6&-8&-12&0\\\\ \\hline 1&-2&-3&1\\\\0&1&-7&1\\\\0&0&17&1\\\\ \\hline 0&0&0&1\\\\\\end{array}\\right]$"
      ],
      "text/plain": [
       "<IPython.core.display.Math object>"
      ]
     },
     "metadata": {},
     "output_type": "display_data"
    },
    {
     "data": {
      "text/html": [
       "<p style=\"text-align:center;\">$\\text{Tiene solución única:  }\\boldsymbol{x}=\\begin{pmatrix}1\\\\1\\\\1\\end{pmatrix}$</p>"
      ],
      "text/plain": [
       "Vector([1, 1, 1]) + Combinaciones lineales de (Sistema([Vector([0, 0, 0]);]))"
      ]
     },
     "execution_count": 53,
     "metadata": {},
     "output_type": "execute_result"
    }
   ],
   "source": [
    "A = Matrix( [ [1,2,1], [7,-3,0], [6,4,2] ] )\n",
    "b = Vector([4,4,12])\n",
    "SEL( A, b, 1 )                                # Fíjese que en este caso es necesario normalizar la última columna"
   ]
  },
  {
   "cell_type": "markdown",
   "metadata": {},
   "source": [
    "# Lección 9"
   ]
  },
  {
   "cell_type": "code",
   "execution_count": 54,
   "metadata": {},
   "outputs": [
    {
     "data": {
      "text/html": [
       "<p style=\"text-align:center;\">$\\left[\\begin{pmatrix}1\\\\0\\end{pmatrix};\\;\\begin{pmatrix}2\\\\1\\end{pmatrix};\\;\\begin{pmatrix}3\\\\0\\end{pmatrix};\\right]$</p>"
      ],
      "text/plain": [
       "Sistema([Vector([1, 0]); Vector([2, 1]); Vector([3, 0]);])"
      ]
     },
     "execution_count": 54,
     "metadata": {},
     "output_type": "execute_result"
    }
   ],
   "source": [
    "a = Vector( [1, 0] )\n",
    "b = Vector( [2, 1] )\n",
    "c = Vector( [3, 0] )\n",
    "S = Sistema( [a, b, c] )\n",
    "S"
   ]
  },
  {
   "cell_type": "code",
   "execution_count": 55,
   "metadata": {},
   "outputs": [
    {
     "data": {
      "text/html": [
       "<p style=\"text-align:center;\">$\\begin{pmatrix}2\\\\1\\end{pmatrix}$</p>"
      ],
      "text/plain": [
       "Vector([2, 1])"
      ]
     },
     "execution_count": 55,
     "metadata": {},
     "output_type": "execute_result"
    }
   ],
   "source": [
    "S|2"
   ]
  },
  {
   "cell_type": "code",
   "execution_count": 56,
   "metadata": {},
   "outputs": [
    {
     "data": {
      "text/html": [
       "<p style=\"text-align:center;\">$\\begin{bmatrix}1&2&3  \\\\0&1&0\\end{bmatrix}$</p>"
      ],
      "text/plain": [
       "Matrix([Vector([1, 0]), Vector([2, 1]), Vector([3, 0])])"
      ]
     },
     "execution_count": 56,
     "metadata": {},
     "output_type": "execute_result"
    }
   ],
   "source": [
    "M = Matrix( [a, b, c] )\n",
    "M"
   ]
  },
  {
   "cell_type": "code",
   "execution_count": 57,
   "metadata": {},
   "outputs": [
    {
     "data": {
      "text/html": [
       "<p style=\"text-align:center;\">$\\left[\\begin{pmatrix}1\\\\0\\end{pmatrix};\\;\\begin{pmatrix}2\\\\1\\end{pmatrix};\\;\\begin{pmatrix}3\\\\0\\end{pmatrix};\\right]$</p>"
      ],
      "text/plain": [
       "Sistema([Vector([1, 0]); Vector([2, 1]); Vector([3, 0]);])"
      ]
     },
     "execution_count": 57,
     "metadata": {},
     "output_type": "execute_result"
    }
   ],
   "source": [
    "M.sis()                                            # El método sis() muestra el Sistema asociado a la Matrix (columnas)"
   ]
  },
  {
   "cell_type": "code",
   "execution_count": 58,
   "metadata": {},
   "outputs": [
    {
     "data": {
      "text/html": [
       "<p style=\"text-align:center;\">$\\begin{bmatrix}1&7&1  \\\\1&16&3\\end{bmatrix}$</p>"
      ],
      "text/plain": [
       "Matrix([Vector([1, 1]), Vector([7, 16]), Vector([1, 3])])"
      ]
     },
     "execution_count": 58,
     "metadata": {},
     "output_type": "execute_result"
    }
   ],
   "source": [
    "A = Matrix([ [1,-3, 0], [1,-6, 1] ])\n",
    "B = Matrix([ [1, 1, 1], [1, 2, 3] ])\n",
    "C = Matrix([ [1, 0, 0], [1, 1, 1] ])\n",
    "S = Sistema( [A, B, C] )                         # ¡Sistema de Matrices!\n",
    "S*Vector([-2, 1, 2])                             # Sistema por Vector (comb. lineal de matrices)"
   ]
  },
  {
   "cell_type": "code",
   "execution_count": 59,
   "metadata": {},
   "outputs": [
    {
     "data": {
      "text/html": [
       "<p style=\"text-align:center;\">$\\left[\\begin{bmatrix}1&-3&0  \\\\1&-6&1\\end{bmatrix};\\;\\begin{bmatrix}0&3&0  \\\\0&7&0\\end{bmatrix};\\right]$</p>"
      ],
      "text/plain": [
       "Sistema([Matrix([Vector([1, 1]), Vector([-3, -6]), Vector([0, 1])]); Matrix([Vector([0, 0]), Vector([3, 7]), Vector([0, 0])]);])"
      ]
     },
     "execution_count": 59,
     "metadata": {},
     "output_type": "execute_result"
    }
   ],
   "source": [
    "D = Matrix([ Vector([1,0,0]), Vector([-1,0,1]) ])\n",
    "S*D                                              # Sistema por Matriz (Sistema de Matrices) "
   ]
  },
  {
   "cell_type": "code",
   "execution_count": 60,
   "metadata": {},
   "outputs": [
    {
     "data": {
      "text/html": [
       "<p style=\"text-align:center;\">$\\left\\{ \\boldsymbol{v}\\in\\mathbb{R}^3\\ \\left|\\ \\exists\\boldsymbol{p}\\in\\mathbb{R}^2\\ \\text{tal que}\\ \\boldsymbol{v}= \\begin{bmatrix}1&0  \\\\0&0  \\\\0&1\\end{bmatrix}\\boldsymbol{p}\\right. \\right\\}\\; = \\;\\left\\{ \\boldsymbol{v}\\in\\mathbb{R}^3\\ \\left|\\ \\begin{bmatrix}0&1&0\\end{bmatrix}\\boldsymbol{v}=\\boldsymbol{0}\\right.\\right\\}$</p>"
      ],
      "text/plain": [
       "<notacion.SubEspacio at 0x7f7c8ee79280>"
      ]
     },
     "execution_count": 60,
     "metadata": {},
     "output_type": "execute_result"
    }
   ],
   "source": [
    "D = Matrix([ Vector([1,0,0]), Vector([-1,0,1]) ])\n",
    "SubEspacio( D.sis() )                            # SubEspacio generado por el Sistema de columnas de D\n",
    "                                                 # muestra la representación con ec. paramétricas y cartesianas"
   ]
  },
  {
   "cell_type": "code",
   "execution_count": 61,
   "metadata": {},
   "outputs": [
    {
     "data": {
      "text/html": [
       "<p style=\"text-align:center;\">$\\left[\\begin{pmatrix}0\\\\-1\\\\1\\end{pmatrix};\\right]$</p>"
      ],
      "text/plain": [
       "Sistema([Vector([0, -1, 1]);])"
      ]
     },
     "execution_count": 61,
     "metadata": {},
     "output_type": "execute_result"
    }
   ],
   "source": [
    "C = Matrix([ [1,0,0], [1,1,1] ])\n",
    "Homogenea(C).sgen                                # Sistema generador del espacio nulo de C"
   ]
  },
  {
   "cell_type": "code",
   "execution_count": 62,
   "metadata": {},
   "outputs": [
    {
     "data": {
      "text/html": [
       "<p style=\"text-align:center;\">$\\left\\{ \\boldsymbol{v}\\in\\mathbb{R}^3\\ \\left|\\ \\exists\\boldsymbol{p}\\in\\mathbb{R}^1\\ \\text{tal que}\\ \\boldsymbol{v}= \\begin{bmatrix}0  \\\\-1  \\\\1\\end{bmatrix}\\boldsymbol{p}\\right. \\right\\}\\; = \\;\\left\\{ \\boldsymbol{v}\\in\\mathbb{R}^3\\ \\left|\\ \\begin{bmatrix}1&0&0  \\\\0&1&1\\end{bmatrix}\\boldsymbol{v}=\\boldsymbol{0}\\right.\\right\\}$</p>"
      ],
      "text/plain": [
       "<notacion.SubEspacio at 0x7f7c8eaf4460>"
      ]
     },
     "execution_count": 62,
     "metadata": {},
     "output_type": "execute_result"
    }
   ],
   "source": [
    "Homogenea(C).enulo                               # Espacio nulo de C"
   ]
  },
  {
   "cell_type": "code",
   "execution_count": 63,
   "metadata": {},
   "outputs": [
    {
     "data": {
      "text/latex": [
       "$\\displaystyle \\left[\\begin{array}{cccc}1&-1&1&-1\\\\1&-1&1&-1\\\\1&-1&1&-1\\\\ \\hline 1&0&0&0\\\\0&1&0&0\\\\0&0&1&0\\\\0&0&0&1\\\\\\end{array}\\right]\\xrightarrow{\\underset{\\begin{subarray}{c} \\left[\\left(1\\right)\\mathbf{1}+\\mathbf{2} \\right]\\\\\\left[\\left(-1\\right)\\mathbf{1}+\\mathbf{3} \\right]\\\\\\left[\\left(1\\right)\\mathbf{1}+\\mathbf{4} \\right]\\end{subarray}}{\\mathbf{\\tau}}}\\left[\\begin{array}{cccc}1&0&0&0\\\\1&0&0&0\\\\1&0&0&0\\\\ \\hline 1&1&-1&1\\\\0&1&0&0\\\\0&0&1&0\\\\0&0&0&1\\\\\\end{array}\\right]$"
      ],
      "text/plain": [
       "<IPython.core.display.Math object>"
      ]
     },
     "metadata": {},
     "output_type": "display_data"
    },
    {
     "data": {
      "text/html": [
       "<p style=\"text-align:center;\">$\\text{Conjunto de combinaciones lineales de: }\\quad\\begin{pmatrix}1\\\\1\\\\0\\\\0\\end{pmatrix},\\;\\;\\begin{pmatrix}-1\\\\0\\\\1\\\\0\\end{pmatrix},\\;\\;\\begin{pmatrix}1\\\\0\\\\0\\\\1\\end{pmatrix}.$</p>"
      ],
      "text/plain": [
       "Combinaciones lineales de (Sistema([Vector([1, 1, 0, 0]); Vector([-1, 0, 1, 0]); Vector([1, 0, 0, 1]);]))"
      ]
     },
     "execution_count": 63,
     "metadata": {},
     "output_type": "execute_result"
    }
   ],
   "source": [
    "a=Vector([1,1,1])\n",
    "A=Matrix([a,-a,a,-a])\n",
    "Homogenea(A,1)"
   ]
  },
  {
   "cell_type": "code",
   "execution_count": 64,
   "metadata": {},
   "outputs": [
    {
     "data": {
      "text/html": [
       "<p style=\"text-align:center;\">$\\left[\\begin{pmatrix}1\\\\1\\\\0\\\\0\\end{pmatrix};\\;\\begin{pmatrix}-1\\\\0\\\\1\\\\0\\end{pmatrix};\\;\\begin{pmatrix}1\\\\0\\\\0\\\\1\\end{pmatrix};\\right]$</p>"
      ],
      "text/plain": [
       "Sistema([Vector([1, 1, 0, 0]); Vector([-1, 0, 1, 0]); Vector([1, 0, 0, 1]);])"
      ]
     },
     "execution_count": 64,
     "metadata": {},
     "output_type": "execute_result"
    }
   ],
   "source": [
    "Homogenea(A).sgen                           # Sistema generador del Espacio Nulo de A"
   ]
  },
  {
   "cell_type": "code",
   "execution_count": 65,
   "metadata": {},
   "outputs": [
    {
     "data": {
      "text/html": [
       "<p style=\"text-align:center;\">$\\left\\{ \\boldsymbol{v}\\in\\mathbb{R}^4\\ \\left|\\ \\exists\\boldsymbol{p}\\in\\mathbb{R}^3\\ \\text{tal que}\\ \\boldsymbol{v}= \\begin{bmatrix}1&0&0  \\\\1&1&0  \\\\0&1&1  \\\\0&0&1\\end{bmatrix}\\boldsymbol{p}\\right. \\right\\}\\; = \\;\\left\\{ \\boldsymbol{v}\\in\\mathbb{R}^4\\ \\left|\\ \\begin{bmatrix}-1&1&-1&1\\end{bmatrix}\\boldsymbol{v}=\\boldsymbol{0}\\right.\\right\\}$</p>"
      ],
      "text/plain": [
       "<notacion.SubEspacio at 0x7f7c8eab27c0>"
      ]
     },
     "execution_count": 65,
     "metadata": {},
     "output_type": "execute_result"
    }
   ],
   "source": [
    "Homogenea(A).enulo                          # Espacio nulo de A (Ec. paramétricas y cartesianas)"
   ]
  },
  {
   "cell_type": "code",
   "execution_count": 66,
   "metadata": {},
   "outputs": [
    {
     "data": {
      "text/html": [
       "<p style=\"text-align:center;\">$\\left[\\begin{pmatrix}1\\\\1\\\\0\\\\0\\end{pmatrix};\\;\\begin{pmatrix}0\\\\1\\\\1\\\\0\\end{pmatrix};\\;\\begin{pmatrix}0\\\\0\\\\1\\\\1\\end{pmatrix};\\right]$</p>"
      ],
      "text/plain": [
       "Sistema([Vector([1, 1, 0, 0]); Vector([0, 1, 1, 0]); Vector([0, 0, 1, 1]);])"
      ]
     },
     "execution_count": 66,
     "metadata": {},
     "output_type": "execute_result"
    }
   ],
   "source": [
    "Homogenea(A).enulo.sgen                       # Sistema generador del Espacio Nulo de A"
   ]
  },
  {
   "cell_type": "code",
   "execution_count": 67,
   "metadata": {},
   "outputs": [
    {
     "data": {
      "text/plain": [
       "True"
      ]
     },
     "execution_count": 67,
     "metadata": {},
     "output_type": "execute_result"
    }
   ],
   "source": [
    "A = Matrix( [[2,-1,0],[-1,2,-1]] )\n",
    "B = ElimGJ(Matrix(A))\n",
    "SubEspacio(A.sis()) == SubEspacio(B.sis())        # ¿Son equivalentes los Sistemas A.sis() y B.sis()?"
   ]
  },
  {
   "cell_type": "code",
   "execution_count": 68,
   "metadata": {},
   "outputs": [
    {
     "data": {
      "text/html": [
       "<p style=\"text-align:center;\">$\\left[\\begin{pmatrix}1\\\\0\\end{pmatrix};\\;\\begin{pmatrix}2\\\\1\\end{pmatrix};\\;\\begin{pmatrix}3\\\\0\\end{pmatrix};\\right]$</p>"
      ],
      "text/plain": [
       "Sistema([Vector([1, 0]); Vector([2, 1]); Vector([3, 0]);])"
      ]
     },
     "execution_count": 68,
     "metadata": {},
     "output_type": "execute_result"
    }
   ],
   "source": [
    "a = Vector( [1, 0] )\n",
    "b = Vector( [2, 1] )\n",
    "c = Vector( [3, 0] )\n",
    "S = Sistema( [a, b, c] )\n",
    "S"
   ]
  },
  {
   "cell_type": "code",
   "execution_count": 69,
   "metadata": {},
   "outputs": [
    {
     "data": {
      "text/html": [
       "<p style=\"text-align:center;\">$\\left[\\begin{pmatrix}100\\\\0\\end{pmatrix};\\;\\begin{pmatrix}0\\\\1\\end{pmatrix};\\;\\begin{pmatrix}0\\\\0\\end{pmatrix};\\right]$</p>"
      ],
      "text/plain": [
       "Sistema([Vector([100, 0]); Vector([0, 1]); Vector([0, 0]);])"
      ]
     },
     "execution_count": 69,
     "metadata": {},
     "output_type": "execute_result"
    }
   ],
   "source": [
    "S & T([ (-2,1,2), (-3,1,3), (100,1) ])            # Sucesión de transformaciones elementales aplicadas a un Sistema"
   ]
  },
  {
   "cell_type": "code",
   "execution_count": 70,
   "metadata": {},
   "outputs": [
    {
     "data": {
      "text/html": [
       "<p style=\"text-align:center;\">$\\left[\\begin{pmatrix}100\\\\0\\end{pmatrix};\\;\\begin{pmatrix}0\\\\1\\end{pmatrix};\\right]$</p>"
      ],
      "text/plain": [
       "Sistema([Vector([100, 0]); Vector([0, 1]);])"
      ]
     },
     "execution_count": 70,
     "metadata": {},
     "output_type": "execute_result"
    }
   ],
   "source": [
    "SubEspacio(S).base                                # Base del subespacio generado por S"
   ]
  },
  {
   "cell_type": "code",
   "execution_count": 71,
   "metadata": {},
   "outputs": [
    {
     "data": {
      "text/html": [
       "<p style=\"text-align:center;\">$\\left[\\begin{pmatrix}100\\\\0\\end{pmatrix};\\;\\begin{pmatrix}0\\\\1\\end{pmatrix};\\right]$</p>"
      ],
      "text/plain": [
       "Sistema([Vector([100, 0]); Vector([0, 1]);])"
      ]
     },
     "execution_count": 71,
     "metadata": {},
     "output_type": "execute_result"
    }
   ],
   "source": [
    "SubEspacio(S).sgen                                # Sistema generador del subespacio generado por S "
   ]
  },
  {
   "cell_type": "code",
   "execution_count": 72,
   "metadata": {},
   "outputs": [
    {
     "data": {
      "text/html": [
       "<p style=\"text-align:center;\">$\\left\\{ \\boldsymbol{v}\\in\\mathbb{R}^3\\ \\left|\\ \\exists\\boldsymbol{p}\\in\\mathbb{R}^1\\ \\text{tal que}\\ \\boldsymbol{v}= \\begin{bmatrix}0  \\\\0  \\\\0\\end{bmatrix}\\boldsymbol{p}\\right. \\right\\}\\; = \\;\\left\\{ \\boldsymbol{v}\\in\\mathbb{R}^3\\ \\left|\\ \\begin{bmatrix}1&0&0  \\\\0&1&0  \\\\0&0&1\\end{bmatrix}\\boldsymbol{v}=\\boldsymbol{0}\\right.\\right\\}$</p>"
      ],
      "text/plain": [
       "<notacion.SubEspacio at 0x7f7c8ea83cd0>"
      ]
     },
     "execution_count": 72,
     "metadata": {},
     "output_type": "execute_result"
    }
   ],
   "source": [
    "N=SubEspacio(Sistema([V0(3)]))          # SubEspacio generado por el vector nulo de R3\n",
    "N"
   ]
  },
  {
   "cell_type": "code",
   "execution_count": 73,
   "metadata": {},
   "outputs": [
    {
     "data": {
      "text/plain": [
       "0"
      ]
     },
     "execution_count": 73,
     "metadata": {},
     "output_type": "execute_result"
    }
   ],
   "source": [
    "N.dim                                   # Dimensión del espacio"
   ]
  },
  {
   "cell_type": "code",
   "execution_count": 74,
   "metadata": {},
   "outputs": [
    {
     "data": {
      "text/html": [
       "<p style=\"text-align:center;\">$\\left[;\\right]$</p>"
      ],
      "text/plain": [
       "Sistema([;])"
      ]
     },
     "execution_count": 74,
     "metadata": {},
     "output_type": "execute_result"
    }
   ],
   "source": [
    "N.base                                  # Base es una lista vacía"
   ]
  },
  {
   "cell_type": "code",
   "execution_count": 75,
   "metadata": {},
   "outputs": [
    {
     "data": {
      "text/html": [
       "<p style=\"text-align:center;\">$\\left[\\begin{pmatrix}0\\\\0\\\\0\\end{pmatrix};\\right]$</p>"
      ],
      "text/plain": [
       "Sistema([Vector([0, 0, 0]);])"
      ]
     },
     "execution_count": 75,
     "metadata": {},
     "output_type": "execute_result"
    }
   ],
   "source": [
    "N.sgen                                  # Sistema generador contiene el vector cero de R3"
   ]
  },
  {
   "cell_type": "code",
   "execution_count": 76,
   "metadata": {},
   "outputs": [
    {
     "data": {
      "text/plain": [
       "3"
      ]
     },
     "execution_count": 76,
     "metadata": {},
     "output_type": "execute_result"
    }
   ],
   "source": [
    "N.Rn                                    # Indica el número de componentes de los vectores del SubEspacio"
   ]
  },
  {
   "cell_type": "code",
   "execution_count": 77,
   "metadata": {},
   "outputs": [
    {
     "data": {
      "text/html": [
       "<p style=\"text-align:center;\">$\\begin{bmatrix}1&0&0  \\\\0&1&0  \\\\0&0&1\\end{bmatrix}$</p>"
      ],
      "text/plain": [
       "Matrix([Vector([1, 0, 0]), Vector([0, 1, 0]), Vector([0, 0, 1])])"
      ]
     },
     "execution_count": 77,
     "metadata": {},
     "output_type": "execute_result"
    }
   ],
   "source": [
    "N.cart                                  # Matriz empleada para generar las ecuaciones cartesianas"
   ]
  },
  {
   "cell_type": "code",
   "execution_count": 78,
   "metadata": {
    "scrolled": true
   },
   "outputs": [
    {
     "data": {
      "text/html": [
       "<p style=\"text-align:center;\">$\\left[\\begin{pmatrix}0\\\\1\\\\0\\end{pmatrix};\\;\\begin{pmatrix}2\\\\0\\\\3\\end{pmatrix};\\right]$</p>"
      ],
      "text/plain": [
       "Sistema([Vector([0, 1, 0]); Vector([2, 0, 3]);])"
      ]
     },
     "execution_count": 78,
     "metadata": {},
     "output_type": "execute_result"
    }
   ],
   "source": [
    "D=SubEspacio(Sistema([Vector([0,1,0]),Vector([2,1,3]),Vector([2,-2,3])]))\n",
    "D.base"
   ]
  },
  {
   "cell_type": "code",
   "execution_count": 79,
   "metadata": {},
   "outputs": [
    {
     "data": {
      "text/html": [
       "<p style=\"text-align:center;\">$\\left[\\begin{pmatrix}1\\\\3\\\\0\\end{pmatrix};\\;\\begin{pmatrix}0\\\\1\\\\1\\end{pmatrix};\\right]$</p>"
      ],
      "text/plain": [
       "Sistema([Vector([1, 3, 0]); Vector([0, 1, 1]);])"
      ]
     },
     "execution_count": 79,
     "metadata": {},
     "output_type": "execute_result"
    }
   ],
   "source": [
    "F=SubEspacio(Sistema([Vector([1,3,0]),Vector([0,1,1])]))\n",
    "F.base"
   ]
  },
  {
   "cell_type": "code",
   "execution_count": 80,
   "metadata": {},
   "outputs": [
    {
     "data": {
      "text/html": [
       "<p style=\"text-align:center;\">$\\left\\{ \\boldsymbol{v}\\in\\mathbb{R}^3\\ \\left|\\ \\exists\\boldsymbol{p}\\in\\mathbb{R}^1\\ \\text{tal que}\\ \\boldsymbol{v}= \\begin{bmatrix}2  \\\\9  \\\\3\\end{bmatrix}\\boldsymbol{p}\\right. \\right\\}\\; = \\;\\left\\{ \\boldsymbol{v}\\in\\mathbb{R}^3\\ \\left|\\ \\begin{bmatrix}-9&2&0  \\\\-3&0&2\\end{bmatrix}\\boldsymbol{v}=\\boldsymbol{0}\\right.\\right\\}$</p>"
      ],
      "text/plain": [
       "<notacion.SubEspacio at 0x7f7c8ee641c0>"
      ]
     },
     "execution_count": 80,
     "metadata": {},
     "output_type": "execute_result"
    }
   ],
   "source": [
    "G = D & F                                      # Intersección de subespacios\n",
    "G"
   ]
  },
  {
   "cell_type": "code",
   "execution_count": 81,
   "metadata": {},
   "outputs": [
    {
     "data": {
      "text/plain": [
       "True"
      ]
     },
     "execution_count": 81,
     "metadata": {},
     "output_type": "execute_result"
    }
   ],
   "source": [
    "G.contenido_en(D)                              # Indica si G está contenido en D"
   ]
  },
  {
   "cell_type": "code",
   "execution_count": 82,
   "metadata": {},
   "outputs": [
    {
     "data": {
      "text/plain": [
       "False"
      ]
     },
     "execution_count": 82,
     "metadata": {},
     "output_type": "execute_result"
    }
   ],
   "source": [
    "F.contenido_en(D)                              # Indica si F está contenido en D"
   ]
  },
  {
   "cell_type": "code",
   "execution_count": 83,
   "metadata": {},
   "outputs": [
    {
     "data": {
      "text/plain": [
       "False"
      ]
     },
     "execution_count": 83,
     "metadata": {},
     "output_type": "execute_result"
    }
   ],
   "source": [
    "F == G                                         # Indica si es cierto que el SubEspacio F es igual que el G"
   ]
  },
  {
   "cell_type": "code",
   "execution_count": 84,
   "metadata": {},
   "outputs": [
    {
     "data": {
      "text/plain": [
       "True"
      ]
     },
     "execution_count": 84,
     "metadata": {},
     "output_type": "execute_result"
    }
   ],
   "source": [
    "F != G                                         # Indica si es cierto que el SubEspacio F es distinto que el G"
   ]
  },
  {
   "cell_type": "code",
   "execution_count": 85,
   "metadata": {},
   "outputs": [
    {
     "data": {
      "text/plain": [
       "True"
      ]
     },
     "execution_count": 85,
     "metadata": {},
     "output_type": "execute_result"
    }
   ],
   "source": [
    "v = Vector([1,5,2])\n",
    "v in F                                         # Indica si v pertenece a F"
   ]
  },
  {
   "cell_type": "markdown",
   "metadata": {},
   "source": [
    "# Lección 10"
   ]
  },
  {
   "cell_type": "code",
   "execution_count": 86,
   "metadata": {},
   "outputs": [
    {
     "data": {
      "text/html": [
       "<p style=\"text-align:center;\">$\\begin{bmatrix}1&-3&0  \\\\1&-6&1\\end{bmatrix}$</p>"
      ],
      "text/plain": [
       "Matrix([Vector([1, 1]), Vector([-3, -6]), Vector([0, 1])])"
      ]
     },
     "execution_count": 86,
     "metadata": {},
     "output_type": "execute_result"
    }
   ],
   "source": [
    "A = Matrix([ [1,-3, 0], [1,-6, 1] ])\n",
    "A"
   ]
  },
  {
   "cell_type": "code",
   "execution_count": 87,
   "metadata": {},
   "outputs": [
    {
     "data": {
      "text/html": [
       "<p style=\"text-align:center;\">$\\left\\{ \\boldsymbol{v}\\in\\mathbb{R}^3\\ \\left|\\ \\exists\\boldsymbol{p}\\in\\mathbb{R}^1\\ \\text{tal que}\\ \\boldsymbol{v}= \\begin{bmatrix}3  \\\\1  \\\\3\\end{bmatrix}\\boldsymbol{p}\\right. \\right\\}\\; = \\;\\left\\{ \\boldsymbol{v}\\in\\mathbb{R}^3\\ \\left|\\ \\begin{bmatrix}-1&3&0  \\\\-1&0&1\\end{bmatrix}\\boldsymbol{v}=\\boldsymbol{0}\\right.\\right\\}$</p>"
      ],
      "text/plain": [
       "<notacion.SubEspacio at 0x7f7c8ee59730>"
      ]
     },
     "execution_count": 87,
     "metadata": {},
     "output_type": "execute_result"
    }
   ],
   "source": [
    "NA = SubEspacio(A)                      # Espacio Nulo de A\n",
    "NA                                      # Nos muestra las ecuaciones paramétricas y cartesianan del espacio"
   ]
  },
  {
   "cell_type": "code",
   "execution_count": 88,
   "metadata": {},
   "outputs": [
    {
     "data": {
      "text/plain": [
       "notacion.SubEspacio"
      ]
     },
     "execution_count": 88,
     "metadata": {},
     "output_type": "execute_result"
    }
   ],
   "source": [
    "type(NA)"
   ]
  },
  {
   "cell_type": "code",
   "execution_count": 89,
   "metadata": {},
   "outputs": [
    {
     "data": {
      "text/plain": [
       "1"
      ]
     },
     "execution_count": 89,
     "metadata": {},
     "output_type": "execute_result"
    }
   ],
   "source": [
    "NA.dim                                  # Dimensión del Espacio"
   ]
  },
  {
   "cell_type": "code",
   "execution_count": 90,
   "metadata": {},
   "outputs": [
    {
     "data": {
      "text/html": [
       "<p style=\"text-align:center;\">$\\left[\\begin{pmatrix}3\\\\1\\\\3\\end{pmatrix};\\right]$</p>"
      ],
      "text/plain": [
       "Sistema([Vector([3, 1, 3]);])"
      ]
     },
     "execution_count": 90,
     "metadata": {},
     "output_type": "execute_result"
    }
   ],
   "source": [
    "NA.base                                 # Base del espacio"
   ]
  },
  {
   "cell_type": "code",
   "execution_count": 91,
   "metadata": {},
   "outputs": [
    {
     "data": {
      "text/html": [
       "<p style=\"text-align:center;\">$\\left\\{ \\boldsymbol{v}\\in\\mathbb{R}^2\\ \\left|\\ \\exists\\boldsymbol{p}\\in\\mathbb{R}^2\\ \\text{tal que}\\ \\boldsymbol{v}= \\begin{bmatrix}1&0  \\\\1&-3\\end{bmatrix}\\boldsymbol{p}\\right. \\right\\}\\; = \\;\\left\\{ \\boldsymbol{v}\\in\\mathbb{R}^2\\ \\left|\\ \\begin{bmatrix}0&0\\end{bmatrix}\\boldsymbol{v}=\\boldsymbol{0}\\right.\\right\\}$</p>"
      ],
      "text/plain": [
       "<notacion.SubEspacio at 0x7f7c8eaf4550>"
      ]
     },
     "execution_count": 91,
     "metadata": {},
     "output_type": "execute_result"
    }
   ],
   "source": [
    "CA = SubEspacio(A.sis())                # Espacio Columna de A\n",
    "CA                                      # Nos muestra las ecuaciones paramétricas y cartesianan del espacio"
   ]
  },
  {
   "cell_type": "code",
   "execution_count": 92,
   "metadata": {},
   "outputs": [
    {
     "data": {
      "text/html": [
       "<p style=\"text-align:center;\">$\\left[\\begin{pmatrix}1\\\\1\\end{pmatrix};\\;\\begin{pmatrix}0\\\\-3\\end{pmatrix};\\right]$</p>"
      ],
      "text/plain": [
       "Sistema([Vector([1, 1]); Vector([0, -3]);])"
      ]
     },
     "execution_count": 92,
     "metadata": {},
     "output_type": "execute_result"
    }
   ],
   "source": [
    "CA.sgen                                 # Sistema generador del espacio"
   ]
  },
  {
   "cell_type": "code",
   "execution_count": 93,
   "metadata": {},
   "outputs": [
    {
     "data": {
      "text/html": [
       "<p style=\"text-align:center;\">$\\left\\{ \\boldsymbol{v}\\in\\mathbb{R}^3\\ \\left|\\ \\exists\\boldsymbol{p}\\in\\mathbb{R}^2\\ \\text{tal que}\\ \\boldsymbol{v}= \\begin{bmatrix}1&0  \\\\-3&-3  \\\\0&1\\end{bmatrix}\\boldsymbol{p}\\right. \\right\\}\\; = \\;\\left\\{ \\boldsymbol{v}\\in\\mathbb{R}^3\\ \\left|\\ \\begin{bmatrix}3&1&3\\end{bmatrix}\\boldsymbol{v}=\\boldsymbol{0}\\right.\\right\\}$</p>"
      ],
      "text/plain": [
       "<notacion.SubEspacio at 0x7f7c8ee578e0>"
      ]
     },
     "execution_count": 93,
     "metadata": {},
     "output_type": "execute_result"
    }
   ],
   "source": [
    "FA = SubEspacio((~A).sis())               # Espacio fila\n",
    "FA"
   ]
  },
  {
   "cell_type": "code",
   "execution_count": 94,
   "metadata": {},
   "outputs": [
    {
     "data": {
      "text/html": [
       "<p style=\"text-align:center;\">$\\left[\\begin{pmatrix}1\\\\-3\\\\0\\end{pmatrix};\\;\\begin{pmatrix}0\\\\-3\\\\1\\end{pmatrix};\\right]$</p>"
      ],
      "text/plain": [
       "Sistema([Vector([1, -3, 0]); Vector([0, -3, 1]);])"
      ]
     },
     "execution_count": 94,
     "metadata": {},
     "output_type": "execute_result"
    }
   ],
   "source": [
    "FA.base"
   ]
  },
  {
   "cell_type": "code",
   "execution_count": 95,
   "metadata": {},
   "outputs": [
    {
     "data": {
      "text/html": [
       "<p style=\"text-align:center;\">$\\left\\{ \\boldsymbol{v}\\in\\mathbb{R}^2\\ \\left|\\ \\exists\\boldsymbol{p}\\in\\mathbb{R}^1\\ \\text{tal que}\\ \\boldsymbol{v}= \\begin{bmatrix}0  \\\\0\\end{bmatrix}\\boldsymbol{p}\\right. \\right\\}\\; = \\;\\left\\{ \\boldsymbol{v}\\in\\mathbb{R}^2\\ \\left|\\ \\begin{bmatrix}1&0  \\\\0&1\\end{bmatrix}\\boldsymbol{v}=\\boldsymbol{0}\\right.\\right\\}$</p>"
      ],
      "text/plain": [
       "<notacion.SubEspacio at 0x7f7c8ee42550>"
      ]
     },
     "execution_count": 95,
     "metadata": {},
     "output_type": "execute_result"
    }
   ],
   "source": [
    "SubEspacio(~A)                         # Espacio nulo por la izquierda"
   ]
  },
  {
   "cell_type": "code",
   "execution_count": 96,
   "metadata": {},
   "outputs": [
    {
     "data": {
      "text/html": [
       "<p style=\"text-align:center;\">$\\left[;\\right]$</p>"
      ],
      "text/plain": [
       "Sistema([;])"
      ]
     },
     "execution_count": 96,
     "metadata": {},
     "output_type": "execute_result"
    }
   ],
   "source": [
    "SubEspacio(~A).base                    # Base del espacio nulo por la izquierda"
   ]
  },
  {
   "cell_type": "code",
   "execution_count": 97,
   "metadata": {},
   "outputs": [
    {
     "data": {
      "text/html": [
       "<p style=\"text-align:center;\">$\\left\\{ \\boldsymbol{v}\\in\\mathbb{R}^3\\ \\left|\\ \\exists\\boldsymbol{p}\\in\\mathbb{R}^3\\ \\text{tal que}\\ \\boldsymbol{v}= \\begin{bmatrix}1&0&0  \\\\-3&-3&0  \\\\0&1&19\\end{bmatrix}\\boldsymbol{p}\\right. \\right\\}\\; = \\;\\left\\{ \\boldsymbol{v}\\in\\mathbb{R}^3\\ \\left|\\ \\begin{bmatrix}0&0&0\\end{bmatrix}\\boldsymbol{v}=\\boldsymbol{0}\\right.\\right\\}$</p>"
      ],
      "text/plain": [
       "<notacion.SubEspacio at 0x7f7ca90cf040>"
      ]
     },
     "execution_count": 97,
     "metadata": {},
     "output_type": "execute_result"
    }
   ],
   "source": [
    "R = FA + NA                            # Suma de subespacios Fila y nulo\n",
    "R"
   ]
  },
  {
   "cell_type": "code",
   "execution_count": 98,
   "metadata": {},
   "outputs": [
    {
     "name": "stdout",
     "output_type": "stream",
     "text": [
      "Dimension del espacio: 3\n",
      "Número de componentes de los vectores: 3\n"
     ]
    }
   ],
   "source": [
    "print('Dimension del espacio:', R.dim)                     # La suma es todo R3\n",
    "print('Número de componentes de los vectores:', R.Rn)"
   ]
  },
  {
   "cell_type": "code",
   "execution_count": 99,
   "metadata": {},
   "outputs": [
    {
     "data": {
      "text/plain": [
       "3"
      ]
     },
     "execution_count": 99,
     "metadata": {},
     "output_type": "execute_result"
    }
   ],
   "source": [
    "FA.dim + NA.dim - (FA & NA).dim"
   ]
  },
  {
   "cell_type": "code",
   "execution_count": 100,
   "metadata": {},
   "outputs": [
    {
     "data": {
      "text/plain": [
       "0"
      ]
     },
     "execution_count": 100,
     "metadata": {},
     "output_type": "execute_result"
    }
   ],
   "source": [
    "(FA & NA).dim                          # FA + NA es suma directa"
   ]
  },
  {
   "cell_type": "code",
   "execution_count": 101,
   "metadata": {},
   "outputs": [
    {
     "data": {
      "text/html": [
       "<p style=\"text-align:center;\">$\\left\\{ \\boldsymbol{v}\\in\\mathbb{R}^3\\ \\left|\\ \\exists\\boldsymbol{p}\\in\\mathbb{R}^1\\ \\text{tal que}\\ \\boldsymbol{v}= \\begin{bmatrix}0  \\\\0  \\\\0\\end{bmatrix}\\boldsymbol{p}\\right. \\right\\}\\; = \\;\\left\\{ \\boldsymbol{v}\\in\\mathbb{R}^3\\ \\left|\\ \\begin{bmatrix}1&0&0  \\\\0&1&0  \\\\0&0&1\\end{bmatrix}\\boldsymbol{v}=\\boldsymbol{0}\\right.\\right\\}$</p>"
      ],
      "text/plain": [
       "<notacion.SubEspacio at 0x7f7c8ee6c130>"
      ]
     },
     "execution_count": 101,
     "metadata": {},
     "output_type": "execute_result"
    }
   ],
   "source": [
    "FA & NA"
   ]
  },
  {
   "cell_type": "code",
   "execution_count": 102,
   "metadata": {},
   "outputs": [
    {
     "data": {
      "text/plain": [
       "True"
      ]
     },
     "execution_count": 102,
     "metadata": {},
     "output_type": "execute_result"
    }
   ],
   "source": [
    "SubEspacio(I(3).sis()) == R              # FA y NA son espacios complementarios (suman todo R3 y su intersección es cero) "
   ]
  },
  {
   "cell_type": "markdown",
   "metadata": {},
   "source": [
    "# Lección 12"
   ]
  },
  {
   "cell_type": "code",
   "execution_count": 103,
   "metadata": {},
   "outputs": [
    {
     "data": {
      "text/html": [
       "<p style=\"text-align:center;\">$\\left\\{ \\boldsymbol{v}\\in\\mathbb{R}^3\\ \\left|\\ \\exists\\boldsymbol{p}\\in\\mathbb{R}^2\\ \\text{tal que}\\ \\boldsymbol{v}= \\begin{bmatrix}1&0  \\\\3&1  \\\\0&1\\end{bmatrix}\\boldsymbol{p}\\right. \\right\\}\\; = \\;\\left\\{ \\boldsymbol{v}\\in\\mathbb{R}^3\\ \\left|\\ \\begin{bmatrix}3&-1&1\\end{bmatrix}\\boldsymbol{v}=\\boldsymbol{0}\\right.\\right\\}$</p>"
      ],
      "text/plain": [
       "<notacion.SubEspacio at 0x7f7c8eab1d30>"
      ]
     },
     "execution_count": 103,
     "metadata": {},
     "output_type": "execute_result"
    }
   ],
   "source": [
    "S = SubEspacio(Sistema([Vector([1,3,0]),Vector([0,1,1])]))  # SubEspacio generado por un sistema de dos vectores\n",
    "S"
   ]
  },
  {
   "cell_type": "code",
   "execution_count": 104,
   "metadata": {},
   "outputs": [
    {
     "data": {
      "text/html": [
       "<p style=\"text-align:center;\">$\\left\\{ \\boldsymbol{v}\\in\\mathbb{R}^3\\ \\left|\\ \\exists\\boldsymbol{p}\\in\\mathbb{R}^1\\ \\text{tal que}\\ \\boldsymbol{v}= \\begin{bmatrix}3  \\\\-1  \\\\1\\end{bmatrix}\\boldsymbol{p}\\right. \\right\\}\\; = \\;\\left\\{ \\boldsymbol{v}\\in\\mathbb{R}^3\\ \\left|\\ \\begin{bmatrix}1&3&0  \\\\-1&0&3\\end{bmatrix}\\boldsymbol{v}=\\boldsymbol{0}\\right.\\right\\}$</p>"
      ],
      "text/plain": [
       "<notacion.SubEspacio at 0x7f7c8eab1430>"
      ]
     },
     "execution_count": 104,
     "metadata": {},
     "output_type": "execute_result"
    }
   ],
   "source": [
    "~S                                                          # Complemento ortogonal de S"
   ]
  },
  {
   "cell_type": "code",
   "execution_count": 105,
   "metadata": {},
   "outputs": [
    {
     "data": {
      "text/html": [
       "<p style=\"text-align:center;\">$\\begin{bmatrix}1&-1&1&-1  \\\\1&-1&1&-1  \\\\1&-1&1&-1\\end{bmatrix}$</p>"
      ],
      "text/plain": [
       "Matrix([Vector([1, 1, 1]), Vector([-1, -1, -1]), Vector([1, 1, 1]), Vector([-1, -1, -1])])"
      ]
     },
     "execution_count": 105,
     "metadata": {},
     "output_type": "execute_result"
    }
   ],
   "source": [
    "a=Vector([1,1,1])\n",
    "A=Matrix([a,-a,a,-a])\n",
    "A"
   ]
  },
  {
   "cell_type": "code",
   "execution_count": 106,
   "metadata": {},
   "outputs": [],
   "source": [
    "C = SubEspacio( A.sis() )                                   # Espacio columna de A"
   ]
  },
  {
   "cell_type": "code",
   "execution_count": 107,
   "metadata": {},
   "outputs": [
    {
     "data": {
      "text/html": [
       "<p style=\"text-align:center;\">$\\left[\\begin{pmatrix}1\\\\-1\\\\1\\\\-1\\end{pmatrix};\\right]$</p>"
      ],
      "text/plain": [
       "Sistema([Vector([1, -1, 1, -1]);])"
      ]
     },
     "execution_count": 107,
     "metadata": {},
     "output_type": "execute_result"
    }
   ],
   "source": [
    "F = SubEspacio( (~A).sis() )                                # Espacio fila de A\n",
    "F.base"
   ]
  },
  {
   "cell_type": "code",
   "execution_count": 108,
   "metadata": {},
   "outputs": [],
   "source": [
    "N = SubEspacio( A )                                         # Espacio nulo de A"
   ]
  },
  {
   "cell_type": "code",
   "execution_count": 109,
   "metadata": {},
   "outputs": [],
   "source": [
    "NI = SubEspacio( ~A )                                       # Espacio nulo por la izquierda de A"
   ]
  },
  {
   "cell_type": "markdown",
   "metadata": {},
   "source": [
    "Vamos a verificar que el complemento ortogonal del espacio nulo es igual al espacio fila"
   ]
  },
  {
   "cell_type": "code",
   "execution_count": 110,
   "metadata": {},
   "outputs": [
    {
     "data": {
      "text/plain": [
       "True"
      ]
     },
     "execution_count": 110,
     "metadata": {},
     "output_type": "execute_result"
    }
   ],
   "source": [
    "F == ~N"
   ]
  },
  {
   "cell_type": "markdown",
   "metadata": {},
   "source": [
    "Vamos a verificar que el complemento ortogonal del espacio columna es igual al espacio nulo por la izquierda"
   ]
  },
  {
   "cell_type": "code",
   "execution_count": 111,
   "metadata": {},
   "outputs": [
    {
     "data": {
      "text/plain": [
       "True"
      ]
     },
     "execution_count": 111,
     "metadata": {},
     "output_type": "execute_result"
    }
   ],
   "source": [
    "~C == NI"
   ]
  },
  {
   "cell_type": "markdown",
   "metadata": {},
   "source": [
    "Eliminación para generar una base del complemto ortogonal"
   ]
  },
  {
   "cell_type": "code",
   "execution_count": 112,
   "metadata": {},
   "outputs": [
    {
     "data": {
      "text/latex": [
       "$\\displaystyle \\left[\\begin{array}{cccc}1&-1&1&-1\\\\1&-1&1&-1\\\\1&-1&1&-1\\\\ \\hline 1&0&0&0\\\\0&1&0&0\\\\0&0&1&0\\\\0&0&0&1\\\\\\end{array}\\right]\\xrightarrow{\\underset{\\begin{subarray}{c} \\left[\\left(1\\right)\\mathbf{1}+\\mathbf{2} \\right]\\\\\\left[\\left(-1\\right)\\mathbf{1}+\\mathbf{3} \\right]\\\\\\left[\\left(1\\right)\\mathbf{1}+\\mathbf{4} \\right]\\end{subarray}}{\\mathbf{\\tau}}}\\left[\\begin{array}{cccc}1&0&0&0\\\\1&0&0&0\\\\1&0&0&0\\\\ \\hline 1&1&-1&1\\\\0&1&0&0\\\\0&0&1&0\\\\0&0&0&1\\\\\\end{array}\\right]$"
      ],
      "text/plain": [
       "<IPython.core.display.Math object>"
      ]
     },
     "metadata": {},
     "output_type": "display_data"
    },
    {
     "data": {
      "text/html": [
       "<p style=\"text-align:center;\">$\\left[\\begin{pmatrix}1\\\\1\\\\0\\\\0\\end{pmatrix};\\;\\begin{pmatrix}-1\\\\0\\\\1\\\\0\\end{pmatrix};\\;\\begin{pmatrix}1\\\\0\\\\0\\\\1\\end{pmatrix};\\right]$</p>"
      ],
      "text/plain": [
       "Sistema([Vector([1, 1, 0, 0]); Vector([-1, 0, 1, 0]); Vector([1, 0, 0, 1]);])"
      ]
     },
     "execution_count": 112,
     "metadata": {},
     "output_type": "execute_result"
    }
   ],
   "source": [
    "Homogenea(A,1).sgen                    # Sistema generador del complemento ortogonal del espacio fila de A"
   ]
  },
  {
   "cell_type": "code",
   "execution_count": 113,
   "metadata": {},
   "outputs": [
    {
     "data": {
      "text/latex": [
       "$\\displaystyle \\left[\\begin{array}{cccc}1&-1&1&-1\\\\1&-1&1&-1\\\\1&-1&1&-1\\\\ \\hline 1&0&0&0\\\\0&1&0&0\\\\0&0&1&0\\\\0&0&0&1\\\\\\end{array}\\right]\\xrightarrow{\\underset{\\begin{subarray}{c} \\left[\\left(1\\right)\\mathbf{1}+\\mathbf{2} \\right]\\\\\\left[\\left(-1\\right)\\mathbf{1}+\\mathbf{3} \\right]\\\\\\left[\\left(1\\right)\\mathbf{1}+\\mathbf{4} \\right]\\end{subarray}}{\\mathbf{\\tau}}}\\left[\\begin{array}{cccc}1&0&0&0\\\\1&0&0&0\\\\1&0&0&0\\\\ \\hline 1&1&-1&1\\\\0&1&0&0\\\\0&0&1&0\\\\0&0&0&1\\\\\\end{array}\\right]$"
      ],
      "text/plain": [
       "<IPython.core.display.Math object>"
      ]
     },
     "metadata": {},
     "output_type": "display_data"
    },
    {
     "data": {
      "text/plain": [
       "True"
      ]
     },
     "execution_count": 113,
     "metadata": {},
     "output_type": "execute_result"
    }
   ],
   "source": [
    "SubEspacio(Homogenea(A,1).sgen) == ~SubEspacio(F.base)"
   ]
  },
  {
   "cell_type": "markdown",
   "metadata": {},
   "source": [
    "Eliminación para generar una base del complemto ortogonal"
   ]
  },
  {
   "cell_type": "code",
   "execution_count": 114,
   "metadata": {},
   "outputs": [
    {
     "data": {
      "text/html": [
       "<p style=\"text-align:center;\">$\\left[\\begin{pmatrix}1\\\\-3\\\\0\\\\-1\\end{pmatrix};\\;\\begin{pmatrix}0\\\\-1\\\\1\\\\1\\end{pmatrix};\\;\\begin{pmatrix}1\\\\-4\\\\1\\\\0\\end{pmatrix};\\right]$</p>"
      ],
      "text/plain": [
       "Sistema([Vector([1, -3, 0, -1]); Vector([0, -1, 1, 1]); Vector([1, -4, 1, 0]);])"
      ]
     },
     "execution_count": 114,
     "metadata": {},
     "output_type": "execute_result"
    }
   ],
   "source": [
    "S = Sistema( [Vector([1,-3,0,-1]), Vector([0,-1,1,1]), Vector([1,-4,1,0])] )    # Sistema de Vectores \n",
    "S"
   ]
  },
  {
   "cell_type": "code",
   "execution_count": 115,
   "metadata": {},
   "outputs": [
    {
     "data": {
      "text/html": [
       "<p style=\"text-align:center;\">$\\begin{bmatrix}1&-3&0&-1  \\\\0&-1&1&1  \\\\1&-4&1&0\\end{bmatrix}$</p>"
      ],
      "text/plain": [
       "Matrix([Vector([1, 0, 1]), Vector([-3, -1, -4]), Vector([0, 1, 1]), Vector([-1, 1, 0])])"
      ]
     },
     "execution_count": 115,
     "metadata": {},
     "output_type": "execute_result"
    }
   ],
   "source": [
    "~Matrix(S)"
   ]
  },
  {
   "cell_type": "code",
   "execution_count": 116,
   "metadata": {},
   "outputs": [
    {
     "data": {
      "text/latex": [
       "$\\displaystyle \\left[\\begin{array}{cccc}1&-3&0&-1\\\\0&-1&1&1\\\\1&-4&1&0\\\\ \\hline 1&0&0&0\\\\0&1&0&0\\\\0&0&1&0\\\\0&0&0&1\\\\\\end{array}\\right]\\xrightarrow{\\underset{\\begin{subarray}{c} \\left[\\left(3\\right)\\mathbf{1}+\\mathbf{2} \\right]\\\\\\left[\\left(1\\right)\\mathbf{1}+\\mathbf{4} \\right]\\end{subarray}}{\\mathbf{\\tau}}}\\left[\\begin{array}{cccc}1&0&0&0\\\\0&-1&1&1\\\\1&-1&1&1\\\\ \\hline 1&3&0&1\\\\0&1&0&0\\\\0&0&1&0\\\\0&0&0&1\\\\\\end{array}\\right]\\xrightarrow{\\underset{\\begin{subarray}{c} \\left[\\left(1\\right)\\mathbf{2}+\\mathbf{3} \\right]\\\\\\left[\\left(1\\right)\\mathbf{2}+\\mathbf{4} \\right]\\end{subarray}}{\\mathbf{\\tau}}}\\left[\\begin{array}{cccc}1&0&0&0\\\\0&-1&0&0\\\\1&-1&0&0\\\\ \\hline 1&3&3&4\\\\0&1&1&1\\\\0&0&1&0\\\\0&0&0&1\\\\\\end{array}\\right]$"
      ],
      "text/plain": [
       "<IPython.core.display.Math object>"
      ]
     },
     "metadata": {},
     "output_type": "display_data"
    },
    {
     "data": {
      "text/html": [
       "<p style=\"text-align:center;\">$\\left[\\begin{pmatrix}3\\\\1\\\\1\\\\0\\end{pmatrix};\\;\\begin{pmatrix}4\\\\1\\\\0\\\\1\\end{pmatrix};\\right]$</p>"
      ],
      "text/plain": [
       "Sistema([Vector([3, 1, 1, 0]); Vector([4, 1, 0, 1]);])"
      ]
     },
     "execution_count": 116,
     "metadata": {},
     "output_type": "execute_result"
    }
   ],
   "source": [
    "Homogenea(~Matrix(S),1).sgen                             # Sistema generador del complento ortogonal"
   ]
  },
  {
   "cell_type": "code",
   "execution_count": 117,
   "metadata": {},
   "outputs": [
    {
     "data": {
      "text/plain": [
       "True"
      ]
     },
     "execution_count": 117,
     "metadata": {},
     "output_type": "execute_result"
    }
   ],
   "source": [
    "SubEspacio( Homogenea(~Matrix(S)).sgen ) == ~SubEspacio(S)   # Comprobación "
   ]
  },
  {
   "cell_type": "code",
   "execution_count": 118,
   "metadata": {},
   "outputs": [
    {
     "data": {
      "text/html": [
       "<p style=\"text-align:center;\">$\\left\\{ \\boldsymbol{v}\\in\\mathbb{R}^4\\ \\left|\\ \\exists\\boldsymbol{p}\\in\\mathbb{R}^2\\ \\text{tal que}\\ \\boldsymbol{v}= \\begin{bmatrix}3&0  \\\\1&-1  \\\\1&-4  \\\\0&3\\end{bmatrix}\\boldsymbol{p}\\right. \\right\\}\\; = \\;\\left\\{ \\boldsymbol{v}\\in\\mathbb{R}^4\\ \\left|\\ \\begin{bmatrix}3&-12&3&0  \\\\-1&3&0&1\\end{bmatrix}\\boldsymbol{v}=\\boldsymbol{0}\\right.\\right\\}$</p>"
      ],
      "text/plain": [
       "<notacion.SubEspacio at 0x7f7c8ea684c0>"
      ]
     },
     "execution_count": 118,
     "metadata": {},
     "output_type": "execute_result"
    }
   ],
   "source": [
    "~SubEspacio(S)"
   ]
  },
  {
   "cell_type": "code",
   "execution_count": 119,
   "metadata": {},
   "outputs": [
    {
     "data": {
      "text/html": [
       "<p style=\"text-align:center;\">$\\left\\{ \\boldsymbol{v}\\in\\mathbb{R}^4\\ \\left|\\ \\exists\\boldsymbol{p}\\in\\mathbb{R}^2\\ \\text{tal que}\\ \\boldsymbol{v}= \\begin{pmatrix}0\\\\0\\\\0\\\\1\\end{pmatrix}+\\begin{bmatrix}-1&0  \\\\-1&0  \\\\1&1  \\\\0&1\\end{bmatrix}\\boldsymbol{p}\\right. \\right\\}\\; = \\;\\left\\{ \\boldsymbol{v}\\in\\mathbb{R}^4\\ \\left|\\ \\begin{bmatrix}-1&1&0&0  \\\\-1&0&-1&1\\end{bmatrix}\\boldsymbol{v}=\\begin{pmatrix}0\\\\1\\end{pmatrix}\\right.\\right\\}$</p>"
      ],
      "text/plain": [
       "<notacion.EAfin at 0x7f7c8ea6c700>"
      ]
     },
     "execution_count": 119,
     "metadata": {},
     "output_type": "execute_result"
    }
   ],
   "source": [
    "A = Matrix( [ [-1,1,0,0], [-1,0,-1,1] ] )\n",
    "b = Vector([0,1])\n",
    "SEL(A,b).eafin"
   ]
  },
  {
   "cell_type": "code",
   "execution_count": 120,
   "metadata": {},
   "outputs": [
    {
     "data": {
      "text/html": [
       "<p style=\"text-align:center;\">$\\left\\{ \\boldsymbol{v}\\in\\mathbb{R}^4\\ \\left|\\ \\exists\\boldsymbol{p}\\in\\mathbb{R}^2\\ \\text{tal que}\\ \\boldsymbol{v}= \\begin{pmatrix}0\\\\0\\\\0\\\\1\\end{pmatrix}+\\begin{bmatrix}-1&1  \\\\-1&1  \\\\1&0  \\\\0&1\\end{bmatrix}\\boldsymbol{p}\\right. \\right\\}\\; = \\;\\left\\{ \\boldsymbol{v}\\in\\mathbb{R}^4\\ \\left|\\ \\begin{bmatrix}-1&1&0&0  \\\\-1&0&-1&1\\end{bmatrix}\\boldsymbol{v}=\\begin{pmatrix}0\\\\1\\end{pmatrix}\\right.\\right\\}$</p>"
      ],
      "text/plain": [
       "<notacion.EAfin at 0x7f7c8ea41640>"
      ]
     },
     "execution_count": 120,
     "metadata": {},
     "output_type": "execute_result"
    }
   ],
   "source": [
    "A = Matrix( [ [-1,1,0,0], [-1,0,-1,1] ] )\n",
    "v = Vector([0,0,0,1])\n",
    "EAfin(A,v)"
   ]
  },
  {
   "cell_type": "code",
   "execution_count": 121,
   "metadata": {},
   "outputs": [
    {
     "data": {
      "text/html": [
       "<p style=\"text-align:center;\">$\\left\\{ \\boldsymbol{v}\\in\\mathbb{R}^4\\ \\left|\\ \\exists\\boldsymbol{p}\\in\\mathbb{R}^2\\ \\text{tal que}\\ \\boldsymbol{v}= \\begin{pmatrix}0\\\\0\\\\0\\\\1\\end{pmatrix}+\\begin{bmatrix}-1&0  \\\\-1&0  \\\\1&1  \\\\0&1\\end{bmatrix}\\boldsymbol{p}\\right. \\right\\}\\; = \\;\\left\\{ \\boldsymbol{v}\\in\\mathbb{R}^4\\ \\left|\\ \\begin{bmatrix}-1&1&0&0  \\\\-1&0&-1&1\\end{bmatrix}\\boldsymbol{v}=\\begin{pmatrix}0\\\\1\\end{pmatrix}\\right.\\right\\}$</p>"
      ],
      "text/plain": [
       "<notacion.EAfin at 0x7f7c8ea6e3d0>"
      ]
     },
     "execution_count": 121,
     "metadata": {},
     "output_type": "execute_result"
    }
   ],
   "source": [
    "S = Sistema([ Vector([-1,-1,1,0]), Vector([0,0,1,1]) ])\n",
    "v = Vector([0,0,0,1])\n",
    "EAfin(S,v)"
   ]
  },
  {
   "cell_type": "code",
   "execution_count": 122,
   "metadata": {},
   "outputs": [
    {
     "data": {
      "text/html": [
       "<p style=\"text-align:center;\">$\\left\\{ \\boldsymbol{v}\\in\\mathbb{R}^4\\ \\left|\\ \\exists\\boldsymbol{p}\\in\\mathbb{R}^2\\ \\text{tal que}\\ \\boldsymbol{v}= \\begin{bmatrix}-1&0  \\\\-1&0  \\\\1&1  \\\\0&1\\end{bmatrix}\\boldsymbol{p}\\right. \\right\\}\\; = \\;\\left\\{ \\boldsymbol{v}\\in\\mathbb{R}^4\\ \\left|\\ \\begin{bmatrix}-1&1&0&0  \\\\-1&0&-1&1\\end{bmatrix}\\boldsymbol{v}=\\boldsymbol{0}\\right.\\right\\}$</p>"
      ],
      "text/plain": [
       "<notacion.SubEspacio at 0x7f7c8ea6edc0>"
      ]
     },
     "execution_count": 122,
     "metadata": {},
     "output_type": "execute_result"
    }
   ],
   "source": [
    "EAfin(S,v).S"
   ]
  },
  {
   "cell_type": "markdown",
   "metadata": {},
   "source": [
    "# Lección 15"
   ]
  },
  {
   "cell_type": "code",
   "execution_count": 123,
   "metadata": {},
   "outputs": [
    {
     "data": {
      "text/latex": [
       "$\\displaystyle 4$"
      ],
      "text/plain": [
       "4"
      ]
     },
     "execution_count": 123,
     "metadata": {},
     "output_type": "execute_result"
    }
   ],
   "source": [
    "A = Matrix([[1,-1,0],[1,1,1],[2,0,3]])\n",
    "A.determinante()"
   ]
  },
  {
   "cell_type": "code",
   "execution_count": 124,
   "metadata": {},
   "outputs": [
    {
     "data": {
      "text/latex": [
       "$\\displaystyle -4$"
      ],
      "text/plain": [
       "-4"
      ]
     },
     "execution_count": 124,
     "metadata": {},
     "output_type": "execute_result"
    }
   ],
   "source": [
    "(Matrix(A) & T({1,3}) ).determinante()"
   ]
  },
  {
   "cell_type": "code",
   "execution_count": 125,
   "metadata": {},
   "outputs": [
    {
     "data": {
      "text/latex": [
       "$\\displaystyle 40$"
      ],
      "text/plain": [
       "40"
      ]
     },
     "execution_count": 125,
     "metadata": {},
     "output_type": "execute_result"
    }
   ],
   "source": [
    "(~Matrix(A) & T((10,2)) ).determinante()"
   ]
  },
  {
   "cell_type": "markdown",
   "metadata": {},
   "source": [
    "# Lección 16"
   ]
  },
  {
   "cell_type": "code",
   "execution_count": 126,
   "metadata": {},
   "outputs": [
    {
     "data": {
      "text/latex": [
       "$\\displaystyle \\left[\\begin{array}{ccc|c}1&-1&0&0\\\\1&1&1&0\\\\2&0&3&0\\\\ \\hline 0&0&0&1\\\\\\end{array}\\right]\\xrightarrow[\\underset{\\begin{subarray}{c} \\left[\\left(1\\right)\\mathbf{4}\\right]\\end{subarray}}{\\mathbf{\\tau}}]{\\underset{\\begin{subarray}{c} \\left[\\left(1\\right)\\mathbf{1}+\\mathbf{2} \\right]\\end{subarray}}{\\mathbf{\\tau}}}\\left[\\begin{array}{ccc|c}1&0&0&0\\\\1&2&1&0\\\\2&2&3&0\\\\ \\hline 0&0&0&1\\\\\\end{array}\\right]\\xrightarrow[\\underset{\\begin{subarray}{c} \\left[\\left(\\frac{1}{2}\\right)\\mathbf{4}\\right]\\end{subarray}}{\\mathbf{\\tau}}]{\\underset{\\begin{subarray}{c} \\left[\\left(2\\right)\\mathbf{3}\\right]\\\\\\left[\\left(-1\\right)\\mathbf{2}+\\mathbf{3} \\right]\\end{subarray}}{\\mathbf{\\tau}}}\\left[\\begin{array}{ccc|c}1&0&0&0\\\\1&2&0&0\\\\2&2&4&0\\\\ \\hline 0&0&0&\\frac{1}{2}\\\\\\end{array}\\right]$"
      ],
      "text/plain": [
       "<IPython.core.display.Math object>"
      ]
     },
     "metadata": {},
     "output_type": "display_data"
    },
    {
     "data": {
      "text/html": [
       "<p style=\"text-align:center;\">$\\text{Valor del determinante: }\\;4$</p>"
      ],
      "text/plain": [
       "Valor del determinante:  4"
      ]
     },
     "execution_count": 126,
     "metadata": {},
     "output_type": "execute_result"
    }
   ],
   "source": [
    "Determinante(A,1)"
   ]
  },
  {
   "cell_type": "code",
   "execution_count": 127,
   "metadata": {},
   "outputs": [],
   "source": [
    "a, b, c, d, e, f, g, h, i = sympy.symbols('a b c d e f g h i')"
   ]
  },
  {
   "cell_type": "markdown",
   "metadata": {},
   "source": [
    "Asumiendo que $\\;a\\ne0$:"
   ]
  },
  {
   "cell_type": "code",
   "execution_count": 128,
   "metadata": {},
   "outputs": [
    {
     "data": {
      "text/latex": [
       "$\\displaystyle \\left[\\begin{array}{cc|c}a&b&0\\\\c&d&0\\\\ \\hline 0&0&1\\\\\\end{array}\\right]\\xrightarrow[\\underset{\\begin{subarray}{c} \\left[\\left(1\\right)\\mathbf{3}\\right]\\end{subarray}}{\\mathbf{\\tau}}]{\\underset{\\begin{subarray}{c} \\left[\\left(- \\frac{b}{a}\\right)\\mathbf{1}+\\mathbf{2} \\right]\\end{subarray}}{\\mathbf{\\tau}}}\\left[\\begin{array}{cc|c}a&0&0\\\\c&d - \\frac{b c}{a}&0\\\\ \\hline 0&0&1\\\\\\end{array}\\right]$"
      ],
      "text/plain": [
       "<IPython.core.display.Math object>"
      ]
     },
     "metadata": {},
     "output_type": "display_data"
    },
    {
     "data": {
      "text/latex": [
       "$\\displaystyle a d - b c$"
      ],
      "text/plain": [
       "a*d - b*c"
      ]
     },
     "execution_count": 128,
     "metadata": {},
     "output_type": "execute_result"
    }
   ],
   "source": [
    "D = Matrix([[a,b],[c,d]])\n",
    "Determinante(D,1).valor"
   ]
  },
  {
   "cell_type": "code",
   "execution_count": 129,
   "metadata": {},
   "outputs": [],
   "source": [
    "A = Matrix([[a,b,c],[d,e,f],[g,h,i]])"
   ]
  },
  {
   "cell_type": "markdown",
   "metadata": {},
   "source": [
    "Asumiendo que $\\;a\\ne0,\\;$ y que $\\;(ae-bd)\\ne0$:"
   ]
  },
  {
   "cell_type": "code",
   "execution_count": 130,
   "metadata": {
    "scrolled": false
   },
   "outputs": [
    {
     "data": {
      "text/latex": [
       "$\\displaystyle \\left[\\begin{array}{ccc|c}a&b&c&0\\\\d&e&f&0\\\\g&h&i&0\\\\ \\hline 0&0&0&1\\\\\\end{array}\\right]\\xrightarrow[\\underset{\\begin{subarray}{c} \\left[\\left(1\\right)\\mathbf{4}\\right]\\end{subarray}}{\\mathbf{\\tau}}]{\\underset{\\begin{subarray}{c} \\left[\\left(- \\frac{b}{a}\\right)\\mathbf{1}+\\mathbf{2} \\right]\\\\\\left[\\left(- \\frac{c}{a}\\right)\\mathbf{1}+\\mathbf{3} \\right]\\end{subarray}}{\\mathbf{\\tau}}}\\left[\\begin{array}{ccc|c}a&0&0&0\\\\d&e - \\frac{b d}{a}&f - \\frac{c d}{a}&0\\\\g&h - \\frac{b g}{a}&i - \\frac{c g}{a}&0\\\\ \\hline 0&0&0&1\\\\\\end{array}\\right]\\xrightarrow[\\underset{\\begin{subarray}{c} \\left[\\left(1\\right)\\mathbf{4}\\right]\\end{subarray}}{\\mathbf{\\tau}}]{\\underset{\\begin{subarray}{c} \\left[\\left(\\frac{- a f + c d}{a e - b d}\\right)\\mathbf{2}+\\mathbf{3} \\right]\\end{subarray}}{\\mathbf{\\tau}}}\\left[\\begin{array}{ccc|c}a&0&0&0\\\\d&e - \\frac{b d}{a}&0&0\\\\g&h - \\frac{b g}{a}&\\frac{a e i - a f h - b d i + b f g + c d h - c e g}{a e - b d}&0\\\\ \\hline 0&0&0&1\\\\\\end{array}\\right]$"
      ],
      "text/plain": [
       "<IPython.core.display.Math object>"
      ]
     },
     "metadata": {},
     "output_type": "display_data"
    },
    {
     "data": {
      "text/html": [
       "<p style=\"text-align:center;\">$\\text{Valor del determinante: }\\;a e i - a f h - b d i + b f g + c d h - c e g$</p>"
      ],
      "text/plain": [
       "Valor del determinante:  a*e*i - a*f*h - b*d*i + b*f*g + c*d*h - c*e*g"
      ]
     },
     "execution_count": 130,
     "metadata": {},
     "output_type": "execute_result"
    }
   ],
   "source": [
    "Determinante(A,1)"
   ]
  },
  {
   "cell_type": "markdown",
   "metadata": {},
   "source": [
    "# Lección 17"
   ]
  },
  {
   "cell_type": "code",
   "execution_count": 131,
   "metadata": {},
   "outputs": [
    {
     "data": {
      "text/latex": [
       "$\\displaystyle \\left[\\begin{array}{ccc|c}1 - \\lambda&-1&0&0\\\\0&- \\lambda&0&0\\\\0&-2&1 - \\lambda&0\\\\ \\hline 0&0&0&1\\\\\\end{array}\\right]\\xrightarrow[\\underset{\\begin{subarray}{c} \\left[\\left(1\\right)\\mathbf{4}\\right]\\end{subarray}}{\\mathbf{\\tau}}]{\\underset{\\begin{subarray}{c} \\left[\\left(- \\frac{1}{\\lambda - 1}\\right)\\mathbf{1}+\\mathbf{2} \\right]\\end{subarray}}{\\mathbf{\\tau}}}\\left[\\begin{array}{ccc|c}1 - \\lambda&0&0&0\\\\0&- \\lambda&0&0\\\\0&-2&1 - \\lambda&0\\\\ \\hline 0&0&0&1\\\\\\end{array}\\right]$"
      ],
      "text/plain": [
       "<IPython.core.display.Math object>"
      ]
     },
     "metadata": {},
     "output_type": "display_data"
    },
    {
     "data": {
      "text/html": [
       "<p style=\"text-align:center;\">$\\text{Valor del determinante: }\\;- \\lambda \\left(\\lambda - 1\\right)^{2}$</p>"
      ],
      "text/plain": [
       "Valor del determinante:  -\\lambda*(\\lambda - 1)**2"
      ]
     },
     "metadata": {},
     "output_type": "display_data"
    },
    {
     "data": {
      "text/latex": [
       "$\\displaystyle \\operatorname{Poly}{\\left( -\\lambda^{3} + 2 \\lambda^{2} - \\lambda, \\lambda, domain=\\mathbb{Z} \\right)}$"
      ],
      "text/plain": [
       "Poly(-\\lambda**3 + 2*\\lambda**2 - \\lambda, \\lambda, domain='ZZ')"
      ]
     },
     "execution_count": 131,
     "metadata": {},
     "output_type": "execute_result"
    }
   ],
   "source": [
    "A=Matrix([[1,-1,0],[0,0,0],[0,-2,1]])\n",
    "L=sympy.symbols('\\lambda')\n",
    "d=Determinante(A-L*I(A.n),1)\n",
    "display(d)\n",
    "p=sympy.poly(d.valor)\n",
    "p"
   ]
  },
  {
   "cell_type": "code",
   "execution_count": 132,
   "metadata": {},
   "outputs": [
    {
     "data": {
      "text/plain": [
       "[0, 1, 1]"
      ]
     },
     "execution_count": 132,
     "metadata": {},
     "output_type": "execute_result"
    }
   ],
   "source": [
    "sympy.real_roots(p)"
   ]
  },
  {
   "cell_type": "markdown",
   "metadata": {},
   "source": [
    "# Lección 18"
   ]
  },
  {
   "cell_type": "code",
   "execution_count": 133,
   "metadata": {},
   "outputs": [
    {
     "data": {
      "text/html": [
       "<p style=\"text-align:center;\">$\\underset{\\begin{subarray}{c} \\left[\\left(3\\right)\\mathbf{2}+\\mathbf{1} \\right]\\\\\\left[\\left(-2\\right)\\mathbf{3}+\\mathbf{2} \\right]\\\\\\left[\\left(7\\right)\\mathbf{1}+\\mathbf{3} \\right]\\\\\\left[\\mathbf{2}\\rightleftharpoons\\mathbf{3}\\right]\\\\\\left[\\left(20\\right)\\mathbf{1}\\right]\\end{subarray}}{\\mathbf{\\tau}}$</p>"
      ],
      "text/plain": [
       "T([(3, 2, 1), (-2, 3, 2), (7, 1, 3), {2, 3}, (20, 1)])"
      ]
     },
     "execution_count": 133,
     "metadata": {},
     "output_type": "execute_result"
    }
   ],
   "source": [
    "Tr = T((3,2,1)) & T((-2,3,2)) & T((7,1,3)) & T({2,3}) & T((20,1))  # Secuencia de transformaciones \n",
    "Tr"
   ]
  },
  {
   "cell_type": "code",
   "execution_count": 134,
   "metadata": {},
   "outputs": [
    {
     "data": {
      "text/html": [
       "<p style=\"text-align:center;\">$\\underset{\\begin{subarray}{c} \\left[\\left(3\\right)\\mathbf{1}+\\mathbf{2} \\right]\\\\\\left[\\left(-2\\right)\\mathbf{2}+\\mathbf{3} \\right]\\\\\\left[\\left(7\\right)\\mathbf{3}+\\mathbf{1} \\right]\\\\\\left[\\mathbf{2}\\rightleftharpoons\\mathbf{3}\\right]\\\\\\left[\\left(20\\right)\\mathbf{1}\\right]\\end{subarray}}{\\mathbf{\\tau}}$</p>"
      ],
      "text/plain": [
       "T([(3, 1, 2), (-2, 2, 3), (7, 3, 1), {2, 3}, (20, 1)])"
      ]
     },
     "execution_count": 134,
     "metadata": {},
     "output_type": "execute_result"
    }
   ],
   "source": [
    "Tr.espejo()                                                        # Trasformación \"espejo\""
   ]
  },
  {
   "cell_type": "code",
   "execution_count": 135,
   "metadata": {},
   "outputs": [
    {
     "data": {
      "text/html": [
       "<p style=\"text-align:center;\">$\\begin{bmatrix}20&7&0  \\\\60&21&1  \\\\0&1&-2\\end{bmatrix}$</p>"
      ],
      "text/plain": [
       "Matrix([Vector([20, 60, 0]), Vector([7, 21, 1]), Vector([0, 1, -2])])"
      ]
     },
     "execution_count": 135,
     "metadata": {},
     "output_type": "execute_result"
    }
   ],
   "source": [
    "A = I(3) & Tr                                                      # Transformación de las columnas de la Identidad\n",
    "A"
   ]
  },
  {
   "cell_type": "code",
   "execution_count": 136,
   "metadata": {},
   "outputs": [
    {
     "data": {
      "text/html": [
       "<p style=\"text-align:center;\">$\\begin{bmatrix}20&7&0  \\\\60&21&1  \\\\0&1&-2\\end{bmatrix}$</p>"
      ],
      "text/plain": [
       "Matrix([Vector([20, 60, 0]), Vector([7, 21, 1]), Vector([0, 1, -2])])"
      ]
     },
     "execution_count": 136,
     "metadata": {},
     "output_type": "execute_result"
    }
   ],
   "source": [
    "Tr.espejo() & I(3)                                  # Transformación espejo sobre las filas de la Identidad"
   ]
  },
  {
   "cell_type": "code",
   "execution_count": 137,
   "metadata": {},
   "outputs": [
    {
     "data": {
      "text/html": [
       "<p style=\"text-align:center;\">$\\begin{bmatrix}1&0&0  \\\\0&1&0  \\\\0&0&1\\end{bmatrix}$</p>"
      ],
      "text/plain": [
       "Matrix([Vector([1, 0, 0]), Vector([0, 1, 0]), Vector([0, 0, 1])])"
      ]
     },
     "execution_count": 137,
     "metadata": {},
     "output_type": "execute_result"
    }
   ],
   "source": [
    "(Tr**-1).espejo() & I(3) & Tr"
   ]
  },
  {
   "cell_type": "code",
   "execution_count": 138,
   "metadata": {},
   "outputs": [],
   "source": [
    "A  = Matrix([[1,1,1],[1,1,1],[1,1,1]])"
   ]
  },
  {
   "cell_type": "code",
   "execution_count": 139,
   "metadata": {},
   "outputs": [
    {
     "data": {
      "text/html": [
       "<p style=\"text-align:center;\">$\\begin{bmatrix}1&5&1  \\\\\\frac{1}{5}&1&\\frac{1}{5}  \\\\1&5&1\\end{bmatrix}$</p>"
      ],
      "text/plain": [
       "Matrix([Vector([1, 1/5, 1]), Vector([5, 1, 5]), Vector([1, 1/5, 1])])"
      ]
     },
     "execution_count": 139,
     "metadata": {},
     "output_type": "execute_result"
    }
   ],
   "source": [
    "Tr = T((5,2))\n",
    "(Tr**-1).espejo() & Matrix(A) & Tr              # No cambia la traza"
   ]
  },
  {
   "cell_type": "code",
   "execution_count": 140,
   "metadata": {},
   "outputs": [
    {
     "data": {
      "text/html": [
       "<p style=\"text-align:center;\">$\\begin{bmatrix}-1&1&1  \\\\-1&1&1  \\\\-3&3&3\\end{bmatrix}$</p>"
      ],
      "text/plain": [
       "Matrix([Vector([-1, -1, -3]), Vector([1, 1, 3]), Vector([1, 1, 3])])"
      ]
     },
     "execution_count": 140,
     "metadata": {},
     "output_type": "execute_result"
    }
   ],
   "source": [
    "Tr = T((-2,3,1))\n",
    "(Tr**-1).espejo() & Matrix(A) & Tr              # No cambia la traza"
   ]
  },
  {
   "cell_type": "code",
   "execution_count": 141,
   "metadata": {},
   "outputs": [
    {
     "data": {
      "text/html": [
       "<p style=\"text-align:center;\">$\\begin{bmatrix}-1&5&1  \\\\- \\frac{1}{5}&1&\\frac{1}{5}  \\\\-3&15&3\\end{bmatrix}$</p>"
      ],
      "text/plain": [
       "Matrix([Vector([-1, -1/5, -3]), Vector([5, 1, 15]), Vector([1, 1/5, 3])])"
      ]
     },
     "execution_count": 141,
     "metadata": {},
     "output_type": "execute_result"
    }
   ],
   "source": [
    "Tr = T((5,2)) & T((-2,3,1))\n",
    "(Tr**-1).espejo() & Matrix(A) & Tr              # No cambia la traza"
   ]
  },
  {
   "cell_type": "markdown",
   "metadata": {},
   "source": [
    "## Diagonalización por semejanza (Diagonalización por bloques triangulares)"
   ]
  },
  {
   "cell_type": "code",
   "execution_count": 142,
   "metadata": {},
   "outputs": [
    {
     "data": {
      "text/html": [
       "<p style=\"text-align:center;\">$\\begin{bmatrix}1&-1&0  \\\\0&0&0  \\\\0&-2&1\\end{bmatrix}$</p>"
      ],
      "text/plain": [
       "Matrix([Vector([1, 0, 0]), Vector([-1, 0, -2]), Vector([0, 0, 1])])"
      ]
     },
     "execution_count": 142,
     "metadata": {},
     "output_type": "execute_result"
    }
   ],
   "source": [
    "A=Matrix([[1,-1,0],[0,0,0],[0,-2,1]]); L=[0,1,1]; A"
   ]
  },
  {
   "cell_type": "code",
   "execution_count": 143,
   "metadata": {},
   "outputs": [
    {
     "data": {
      "text/latex": [
       "$\\displaystyle \\left[\\begin{array}{ccc}1&-1&0\\\\0&0&0\\\\0&-2&1\\\\ \\hline 1&0&0\\\\0&1&0\\\\0&0&1\\\\\\end{array}\\right]\\xrightarrow[0\\mathbf{I}]{(-)}\\left[\\begin{array}{ccc}1&-1&0\\\\0&0&0\\\\0&-2&1\\\\ \\hline 1&0&0\\\\0&1&0\\\\0&0&1\\\\\\end{array}\\right]\\xrightarrow{\\underset{\\begin{subarray}{c} \\left[\\left(1\\right)\\mathbf{1}+\\mathbf{2} \\right]\\end{subarray}}{\\mathbf{\\tau}}}\\left[\\begin{array}{ccc}1&0&0\\\\0&0&0\\\\0&-2&1\\\\ \\hline 1&1&0\\\\0&1&0\\\\0&0&1\\\\\\end{array}\\right]\\xrightarrow{\\underset{\\begin{subarray}{c} \\left[\\left(2\\right)\\mathbf{3}\\right]\\\\\\left[\\left(1\\right)\\mathbf{2}+\\mathbf{3} \\right]\\end{subarray}}{\\mathbf{\\tau}}}\\left[\\begin{array}{ccc}1&0&0\\\\0&0&0\\\\0&-2&0\\\\ \\hline 1&1&1\\\\0&1&1\\\\0&0&2\\\\\\end{array}\\right]\\xrightarrow[\\underset{\\begin{subarray}{c} \\left[\\left(-1\\right)\\mathbf{3}+\\mathbf{2} \\right]\\\\\\left[\\left(\\frac{1}{2}\\right)\\mathbf{3}\\right]\\\\\\left[\\left(-1\\right)\\mathbf{2}+\\mathbf{1} \\right]\\end{subarray}}{\\mathbf{\\tau}}]{}\\left[\\begin{array}{ccc}1&0&0\\\\0&1&0\\\\0&-1&0\\\\ \\hline 1&1&1\\\\0&1&1\\\\0&0&2\\\\\\end{array}\\right]\\xrightarrow[0\\mathbf{I}]{(+)}\\left[\\begin{array}{ccc}1&0&0\\\\0&1&0\\\\0&-1&0\\\\ \\hline 1&1&1\\\\0&1&1\\\\0&0&2\\\\\\end{array}\\right]\\xrightarrow[1\\mathbf{I}]{(-)}\\left[\\begin{array}{ccc}0&0&0\\\\0&0&0\\\\0&-1&-1\\\\ \\hline 1&1&1\\\\0&1&1\\\\0&0&2\\\\\\end{array}\\right]\\xrightarrow{\\underset{\\begin{subarray}{c} \\left[\\left(-1\\right)\\mathbf{3}+\\mathbf{2} \\right]\\end{subarray}}{\\mathbf{\\tau}}}\\left[\\begin{array}{ccc}0&0&0\\\\0&0&0\\\\0&0&-1\\\\ \\hline 1&0&1\\\\0&0&1\\\\0&-2&2\\\\\\end{array}\\right]\\xrightarrow[\\underset{\\begin{subarray}{c} \\left[\\left(1\\right)\\mathbf{2}+\\mathbf{3} \\right]\\end{subarray}}{\\mathbf{\\tau}}]{}\\left[\\begin{array}{ccc}0&0&0\\\\0&0&0\\\\0&0&-1\\\\ \\hline 1&0&1\\\\0&0&1\\\\0&-2&2\\\\\\end{array}\\right]\\xrightarrow[1\\mathbf{I}]{(+)}\\left[\\begin{array}{ccc}1&0&0\\\\0&1&0\\\\0&0&0\\\\ \\hline 1&0&1\\\\0&0&1\\\\0&-2&2\\\\\\end{array}\\right]\\xrightarrow[1\\mathbf{I}]{(-)}\\left[\\begin{array}{ccc}0&0&0\\\\0&0&0\\\\0&0&-1\\\\ \\hline 1&0&1\\\\0&0&1\\\\0&-2&2\\\\\\end{array}\\right]\\xrightarrow[1\\mathbf{I}]{(+)}\\left[\\begin{array}{ccc}1&0&0\\\\0&1&0\\\\0&0&0\\\\ \\hline 1&0&1\\\\0&0&1\\\\0&-2&2\\\\\\end{array}\\right]$"
      ],
      "text/plain": [
       "<IPython.core.display.Math object>"
      ]
     },
     "metadata": {},
     "output_type": "display_data"
    },
    {
     "data": {
      "text/html": [
       "<p style=\"text-align:center;\">$\\begin{bmatrix}1&0&0  \\\\0&1&0  \\\\0&0&0\\end{bmatrix}$</p>"
      ],
      "text/plain": [
       "Matrix([Vector([1, 0, 0]), Vector([0, 1, 0]), Vector([0, 0, 0])])"
      ]
     },
     "execution_count": 143,
     "metadata": {},
     "output_type": "execute_result"
    }
   ],
   "source": [
    "D = Diagonaliza (A, L, 1)          # Matriz diagonal por bloques triangulares\n",
    "D"
   ]
  },
  {
   "cell_type": "code",
   "execution_count": 144,
   "metadata": {},
   "outputs": [
    {
     "data": {
      "text/html": [
       "<p style=\"text-align:center;\">$\\begin{bmatrix}1&0&0  \\\\0&1&0  \\\\0&0&0\\end{bmatrix}$</p>"
      ],
      "text/plain": [
       "Matrix([Vector([1, 0, 0]), Vector([0, 1, 0]), Vector([0, 0, 0])])"
      ]
     },
     "execution_count": 144,
     "metadata": {},
     "output_type": "execute_result"
    }
   ],
   "source": [
    "(D.S**-1)*A*(D.S)"
   ]
  },
  {
   "cell_type": "code",
   "execution_count": 145,
   "metadata": {},
   "outputs": [
    {
     "data": {
      "text/html": [
       "<p style=\"text-align:center;\">$\\begin{bmatrix}-2&0&3  \\\\3&-2&-9  \\\\-1&2&6\\end{bmatrix}$</p>"
      ],
      "text/plain": [
       "Matrix([Vector([-2, 3, -1]), Vector([0, -2, 2]), Vector([3, -9, 6])])"
      ]
     },
     "execution_count": 145,
     "metadata": {},
     "output_type": "execute_result"
    }
   ],
   "source": [
    "A = Matrix([[-2,0,3],[3,-2,-9],[-1,2,6]]); L=[1,1,0]; A"
   ]
  },
  {
   "cell_type": "code",
   "execution_count": 146,
   "metadata": {},
   "outputs": [
    {
     "data": {
      "text/latex": [
       "$\\displaystyle \\left[\\begin{array}{ccc}-2&0&3\\\\3&-2&-9\\\\-1&2&6\\\\ \\hline 1&0&0\\\\0&1&0\\\\0&0&1\\\\\\end{array}\\right]\\xrightarrow[1\\mathbf{I}]{(-)}\\left[\\begin{array}{ccc}-3&0&3\\\\3&-3&-9\\\\-1&2&5\\\\ \\hline 1&0&0\\\\0&1&0\\\\0&0&1\\\\\\end{array}\\right]\\xrightarrow{\\underset{\\begin{subarray}{c} \\left[\\left(1\\right)\\mathbf{1}+\\mathbf{3} \\right]\\end{subarray}}{\\mathbf{\\tau}}}\\left[\\begin{array}{ccc}-3&0&0\\\\3&-3&-6\\\\-1&2&4\\\\ \\hline 1&0&1\\\\0&1&0\\\\0&0&1\\\\\\end{array}\\right]\\xrightarrow{\\underset{\\begin{subarray}{c} \\left[\\left(-2\\right)\\mathbf{2}+\\mathbf{3} \\right]\\end{subarray}}{\\mathbf{\\tau}}}\\left[\\begin{array}{ccc}-3&0&0\\\\3&-3&0\\\\-1&2&0\\\\ \\hline 1&0&1\\\\0&1&-2\\\\0&0&1\\\\\\end{array}\\right]\\xrightarrow[\\underset{\\begin{subarray}{c} \\left[\\left(2\\right)\\mathbf{3}+\\mathbf{2} \\right]\\\\\\left[\\left(-1\\right)\\mathbf{3}+\\mathbf{1} \\right]\\end{subarray}}{\\mathbf{\\tau}}]{}\\left[\\begin{array}{ccc}-2&-2&0\\\\1&1&0\\\\-1&2&0\\\\ \\hline 1&0&1\\\\0&1&-2\\\\0&0&1\\\\\\end{array}\\right]\\xrightarrow[1\\mathbf{I}]{(+)}\\left[\\begin{array}{ccc}-1&-2&0\\\\1&2&0\\\\-1&2&1\\\\ \\hline 1&0&1\\\\0&1&-2\\\\0&0&1\\\\\\end{array}\\right]\\xrightarrow[1\\mathbf{I}]{(-)}\\left[\\begin{array}{ccc}-2&-2&0\\\\1&1&0\\\\-1&2&0\\\\ \\hline 1&0&1\\\\0&1&-2\\\\0&0&1\\\\\\end{array}\\right]\\xrightarrow{\\underset{\\begin{subarray}{c} \\left[\\left(-1\\right)\\mathbf{1}+\\mathbf{2} \\right]\\end{subarray}}{\\mathbf{\\tau}}}\\left[\\begin{array}{ccc}-2&0&0\\\\1&0&0\\\\-1&3&0\\\\ \\hline 1&-1&1\\\\0&1&-2\\\\0&0&1\\\\\\end{array}\\right]\\xrightarrow[\\underset{\\begin{subarray}{c} \\left[\\left(1\\right)\\mathbf{2}+\\mathbf{1} \\right]\\end{subarray}}{\\mathbf{\\tau}}]{}\\left[\\begin{array}{ccc}-1&0&0\\\\1&0&0\\\\-1&3&0\\\\ \\hline 1&-1&1\\\\0&1&-2\\\\0&0&1\\\\\\end{array}\\right]\\xrightarrow[1\\mathbf{I}]{(+)}\\left[\\begin{array}{ccc}0&0&0\\\\1&1&0\\\\-1&3&1\\\\ \\hline 1&-1&1\\\\0&1&-2\\\\0&0&1\\\\\\end{array}\\right]\\xrightarrow[0\\mathbf{I}]{(-)}\\left[\\begin{array}{ccc}0&0&0\\\\1&1&0\\\\-1&3&1\\\\ \\hline 1&-1&1\\\\0&1&-2\\\\0&0&1\\\\\\end{array}\\right]\\xrightarrow{\\underset{\\begin{subarray}{c} \\left[\\left(-1\\right)\\mathbf{2}+\\mathbf{1} \\right]\\end{subarray}}{\\mathbf{\\tau}}}\\left[\\begin{array}{ccc}0&0&0\\\\0&1&0\\\\-4&3&1\\\\ \\hline 2&-1&1\\\\-1&1&-2\\\\0&0&1\\\\\\end{array}\\right]\\xrightarrow[\\underset{\\begin{subarray}{c} \\left[\\left(1\\right)\\mathbf{1}+\\mathbf{2} \\right]\\end{subarray}}{\\mathbf{\\tau}}]{}\\left[\\begin{array}{ccc}0&0&0\\\\0&1&0\\\\-4&3&1\\\\ \\hline 2&-1&1\\\\-1&1&-2\\\\0&0&1\\\\\\end{array}\\right]\\xrightarrow{\\underset{\\begin{subarray}{c} \\left[\\left(4\\right)\\mathbf{3}+\\mathbf{1} \\right]\\end{subarray}}{\\mathbf{\\tau}}}\\left[\\begin{array}{ccc}0&0&0\\\\0&1&0\\\\0&3&1\\\\ \\hline 6&-1&1\\\\-9&1&-2\\\\4&0&1\\\\\\end{array}\\right]\\xrightarrow[\\underset{\\begin{subarray}{c} \\left[\\left(-4\\right)\\mathbf{1}+\\mathbf{3} \\right]\\end{subarray}}{\\mathbf{\\tau}}]{}\\left[\\begin{array}{ccc}0&0&0\\\\0&1&0\\\\0&3&1\\\\ \\hline 6&-1&1\\\\-9&1&-2\\\\4&0&1\\\\\\end{array}\\right]\\xrightarrow[0\\mathbf{I}]{(+)}\\left[\\begin{array}{ccc}0&0&0\\\\0&1&0\\\\0&3&1\\\\ \\hline 6&-1&1\\\\-9&1&-2\\\\4&0&1\\\\\\end{array}\\right]$"
      ],
      "text/plain": [
       "<IPython.core.display.Math object>"
      ]
     },
     "metadata": {},
     "output_type": "display_data"
    },
    {
     "data": {
      "text/html": [
       "<p style=\"text-align:center;\">$\\begin{bmatrix}0&0&0  \\\\0&1&0  \\\\0&3&1\\end{bmatrix}$</p>"
      ],
      "text/plain": [
       "Matrix([Vector([0, 0, 0]), Vector([0, 1, 3]), Vector([0, 0, 1])])"
      ]
     },
     "execution_count": 146,
     "metadata": {},
     "output_type": "execute_result"
    }
   ],
   "source": [
    "D = Diagonaliza (A, L, 1)          # Matriz diagonal por bloques triangulares\n",
    "D"
   ]
  },
  {
   "cell_type": "code",
   "execution_count": 147,
   "metadata": {},
   "outputs": [
    {
     "data": {
      "text/html": [
       "<p style=\"text-align:center;\">$\\begin{bmatrix}6&-1&1  \\\\-9&1&-2  \\\\4&0&1\\end{bmatrix}$</p>"
      ],
      "text/plain": [
       "Matrix([Vector([6, -9, 4]), Vector([-1, 1, 0]), Vector([1, -2, 1])])"
      ]
     },
     "execution_count": 147,
     "metadata": {},
     "output_type": "execute_result"
    }
   ],
   "source": [
    "S = D.S                            # D = (S**-1) * A * S    (La matriz S se guarda como un atributo de D)\n",
    "S"
   ]
  },
  {
   "cell_type": "code",
   "execution_count": 148,
   "metadata": {},
   "outputs": [
    {
     "data": {
      "text/html": [
       "<p style=\"text-align:center;\">$\\begin{bmatrix}0&0&0  \\\\0&1&0  \\\\0&3&1\\end{bmatrix}$</p>"
      ],
      "text/plain": [
       "Matrix([Vector([0, 0, 0]), Vector([0, 1, 3]), Vector([0, 0, 1])])"
      ]
     },
     "execution_count": 148,
     "metadata": {},
     "output_type": "execute_result"
    }
   ],
   "source": [
    "(S**-1) * A * S                   # Comprobación"
   ]
  },
  {
   "cell_type": "code",
   "execution_count": 149,
   "metadata": {},
   "outputs": [
    {
     "data": {
      "text/html": [
       "<p style=\"text-align:center;\">$\\begin{bmatrix}3&0&-1&1  \\\\3&2&-2&2  \\\\1&-2&2&0  \\\\-3&-2&3&-1\\end{bmatrix}$</p>"
      ],
      "text/plain": [
       "Matrix([Vector([3, 3, 1, -3]), Vector([0, 2, -2, -2]), Vector([-1, -2, 2, 3]), Vector([1, 2, 0, -1])])"
      ]
     },
     "execution_count": 149,
     "metadata": {},
     "output_type": "execute_result"
    }
   ],
   "source": [
    "A  = Matrix([[3,0,-1,1],[3,2,-2,2],[1,-2,2,0],[-3,-2,3,-1]]); L=[1,1,2,2]; A"
   ]
  },
  {
   "cell_type": "code",
   "execution_count": 150,
   "metadata": {},
   "outputs": [
    {
     "data": {
      "text/html": [
       "<p style=\"text-align:center;\">$\\begin{bmatrix}2&0&0&0  \\\\2&2&0&0  \\\\0&0&1&0  \\\\0&0&1&1\\end{bmatrix}$</p>"
      ],
      "text/plain": [
       "Matrix([Vector([2, 2, 0, 0]), Vector([0, 2, 0, 0]), Vector([0, 0, 1, 1]), Vector([0, 0, 0, 1])])"
      ]
     },
     "execution_count": 150,
     "metadata": {},
     "output_type": "execute_result"
    }
   ],
   "source": [
    "D = Diagonaliza (A, L)        # Añade como tercer argumento un 1 si quieres ver los pasos\n",
    "D"
   ]
  },
  {
   "cell_type": "code",
   "execution_count": 151,
   "metadata": {},
   "outputs": [
    {
     "data": {
      "text/html": [
       "<p style=\"text-align:center;\">$\\begin{bmatrix}0&0&0&-2  \\\\1&0&2&-2  \\\\1&-1&2&-2  \\\\1&-1&0&2\\end{bmatrix}$</p>"
      ],
      "text/plain": [
       "Matrix([Vector([0, 1, 1, 1]), Vector([0, 0, -1, -1]), Vector([0, 2, 2, 0]), Vector([-2, -2, -2, 2])])"
      ]
     },
     "execution_count": 151,
     "metadata": {},
     "output_type": "execute_result"
    }
   ],
   "source": [
    "S = D.S\n",
    "S"
   ]
  },
  {
   "cell_type": "code",
   "execution_count": 152,
   "metadata": {},
   "outputs": [
    {
     "data": {
      "text/html": [
       "<p style=\"text-align:center;\">$\\begin{pmatrix}0\\\\0\\\\-2\\\\-2\\end{pmatrix}$</p>"
      ],
      "text/plain": [
       "Vector([0, 0, -2, -2])"
      ]
     },
     "execution_count": 152,
     "metadata": {},
     "output_type": "execute_result"
    }
   ],
   "source": [
    "# Las columnas de S que están bajo las que en D solo tienen una componente distinta de cero son autovectores\n",
    "A * (S|2)"
   ]
  },
  {
   "cell_type": "code",
   "execution_count": 153,
   "metadata": {},
   "outputs": [
    {
     "data": {
      "text/html": [
       "<p style=\"text-align:center;\">$\\begin{pmatrix}-2\\\\-2\\\\-2\\\\2\\end{pmatrix}$</p>"
      ],
      "text/plain": [
       "Vector([-2, -2, -2, 2])"
      ]
     },
     "execution_count": 153,
     "metadata": {},
     "output_type": "execute_result"
    }
   ],
   "source": [
    "A * (S|4)"
   ]
  },
  {
   "cell_type": "code",
   "execution_count": 154,
   "metadata": {},
   "outputs": [
    {
     "data": {
      "text/html": [
       "<p style=\"text-align:center;\">$\\begin{bmatrix}3&4&2  \\\\0&1&2  \\\\0&0&0\\end{bmatrix}$</p>"
      ],
      "text/plain": [
       "Matrix([Vector([3, 0, 0]), Vector([4, 1, 0]), Vector([2, 2, 0])])"
      ]
     },
     "execution_count": 154,
     "metadata": {},
     "output_type": "execute_result"
    }
   ],
   "source": [
    "A  = Matrix([[3,4,2],[0,1,2],[0,0,0]]); L=[0,1,3]; A"
   ]
  },
  {
   "cell_type": "code",
   "execution_count": 155,
   "metadata": {},
   "outputs": [
    {
     "data": {
      "text/latex": [
       "$\\displaystyle \\left[\\begin{array}{ccc}3&4&2\\\\0&1&2\\\\0&0&0\\\\ \\hline 1&0&0\\\\0&1&0\\\\0&0&1\\\\\\end{array}\\right]\\xrightarrow[0\\mathbf{I}]{(-)}\\left[\\begin{array}{ccc}3&4&2\\\\0&1&2\\\\0&0&0\\\\ \\hline 1&0&0\\\\0&1&0\\\\0&0&1\\\\\\end{array}\\right]\\xrightarrow{\\underset{\\begin{subarray}{c} \\left[\\left(3\\right)\\mathbf{2}\\right]\\\\\\left[\\left(-4\\right)\\mathbf{1}+\\mathbf{2} \\right]\\\\\\left[\\left(3\\right)\\mathbf{3}\\right]\\\\\\left[\\left(-2\\right)\\mathbf{1}+\\mathbf{3} \\right]\\end{subarray}}{\\mathbf{\\tau}}}\\left[\\begin{array}{ccc}3&0&0\\\\0&3&6\\\\0&0&0\\\\ \\hline 1&-4&-2\\\\0&3&0\\\\0&0&3\\\\\\end{array}\\right]\\xrightarrow{\\underset{\\begin{subarray}{c} \\left[\\left(-2\\right)\\mathbf{2}+\\mathbf{3} \\right]\\end{subarray}}{\\mathbf{\\tau}}}\\left[\\begin{array}{ccc}3&0&0\\\\0&3&0\\\\0&0&0\\\\ \\hline 1&-4&6\\\\0&3&-6\\\\0&0&3\\\\\\end{array}\\right]\\xrightarrow[\\underset{\\begin{subarray}{c} \\left[\\left(2\\right)\\mathbf{3}+\\mathbf{2} \\right]\\\\\\left[\\left(2\\right)\\mathbf{3}+\\mathbf{1} \\right]\\\\\\left[\\left(\\frac{1}{3}\\right)\\mathbf{3}\\right]\\\\\\left[\\left(4\\right)\\mathbf{2}+\\mathbf{1} \\right]\\\\\\left[\\left(\\frac{1}{3}\\right)\\mathbf{2}\\right]\\end{subarray}}{\\mathbf{\\tau}}]{}\\left[\\begin{array}{ccc}3&4&0\\\\0&1&0\\\\0&0&0\\\\ \\hline 1&-4&6\\\\0&3&-6\\\\0&0&3\\\\\\end{array}\\right]\\xrightarrow[0\\mathbf{I}]{(+)}\\left[\\begin{array}{ccc}3&4&0\\\\0&1&0\\\\0&0&0\\\\ \\hline 1&-4&6\\\\0&3&-6\\\\0&0&3\\\\\\end{array}\\right]\\xrightarrow[1\\mathbf{I}]{(-)}\\left[\\begin{array}{ccc}2&4&0\\\\0&0&0\\\\0&0&-1\\\\ \\hline 1&-4&6\\\\0&3&-6\\\\0&0&3\\\\\\end{array}\\right]\\xrightarrow{\\underset{\\begin{subarray}{c} \\left[\\left(-2\\right)\\mathbf{1}+\\mathbf{2} \\right]\\end{subarray}}{\\mathbf{\\tau}}}\\left[\\begin{array}{ccc}2&0&0\\\\0&0&0\\\\0&0&-1\\\\ \\hline 1&-6&6\\\\0&3&-6\\\\0&0&3\\\\\\end{array}\\right]\\xrightarrow[\\underset{\\begin{subarray}{c} \\left[\\left(2\\right)\\mathbf{2}+\\mathbf{1} \\right]\\end{subarray}}{\\mathbf{\\tau}}]{}\\left[\\begin{array}{ccc}2&0&0\\\\0&0&0\\\\0&0&-1\\\\ \\hline 1&-6&6\\\\0&3&-6\\\\0&0&3\\\\\\end{array}\\right]\\xrightarrow[1\\mathbf{I}]{(+)}\\left[\\begin{array}{ccc}3&0&0\\\\0&1&0\\\\0&0&0\\\\ \\hline 1&-6&6\\\\0&3&-6\\\\0&0&3\\\\\\end{array}\\right]\\xrightarrow[3\\mathbf{I}]{(-)}\\left[\\begin{array}{ccc}0&0&0\\\\0&-2&0\\\\0&0&-3\\\\ \\hline 1&-6&6\\\\0&3&-6\\\\0&0&3\\\\\\end{array}\\right]\\xrightarrow[3\\mathbf{I}]{(+)}\\left[\\begin{array}{ccc}3&0&0\\\\0&1&0\\\\0&0&0\\\\ \\hline 1&-6&6\\\\0&3&-6\\\\0&0&3\\\\\\end{array}\\right]$"
      ],
      "text/plain": [
       "<IPython.core.display.Math object>"
      ]
     },
     "metadata": {},
     "output_type": "display_data"
    },
    {
     "data": {
      "text/html": [
       "<p style=\"text-align:center;\">$\\begin{bmatrix}3&0&0  \\\\0&1&0  \\\\0&0&0\\end{bmatrix}$</p>"
      ],
      "text/plain": [
       "Matrix([Vector([3, 0, 0]), Vector([0, 1, 0]), Vector([0, 0, 0])])"
      ]
     },
     "execution_count": 155,
     "metadata": {},
     "output_type": "execute_result"
    }
   ],
   "source": [
    "Diagonaliza (A, L, 1)    # Esta matriz es diagonalizable"
   ]
  },
  {
   "cell_type": "markdown",
   "metadata": {},
   "source": [
    "# Lección 19"
   ]
  },
  {
   "cell_type": "code",
   "execution_count": 156,
   "metadata": {},
   "outputs": [
    {
     "data": {
      "text/html": [
       "<p style=\"text-align:center;\">$\\begin{bmatrix}1&1&1  \\\\1&0&0  \\\\1&0&0\\end{bmatrix}$</p>"
      ],
      "text/plain": [
       "Matrix([Vector([1, 1, 1]), Vector([1, 0, 0]), Vector([1, 0, 0])])"
      ]
     },
     "execution_count": 156,
     "metadata": {},
     "output_type": "execute_result"
    }
   ],
   "source": [
    "A = Matrix([[1,1,1],[1,0,0],[1,0,0]]); L = [-1,0,2]; A"
   ]
  },
  {
   "cell_type": "code",
   "execution_count": 157,
   "metadata": {},
   "outputs": [
    {
     "data": {
      "text/html": [
       "<p style=\"text-align:center;\">$\\begin{bmatrix}2&0&0  \\\\0&0&0  \\\\0&0&-1\\end{bmatrix}$</p>"
      ],
      "text/plain": [
       "Matrix([Vector([2, 0, 0]), Vector([0, 0, 0]), Vector([0, 0, -1])])"
      ]
     },
     "execution_count": 157,
     "metadata": {},
     "output_type": "execute_result"
    }
   ],
   "source": [
    "D=DiagonalizaO(A,L); D"
   ]
  },
  {
   "cell_type": "code",
   "execution_count": 158,
   "metadata": {},
   "outputs": [
    {
     "data": {
      "text/html": [
       "<p style=\"text-align:center;\">$\\begin{bmatrix}\\frac{\\sqrt{6}}{3}&0&- \\frac{\\sqrt{3}}{3}  \\\\\\frac{\\sqrt{6}}{6}&\\frac{\\sqrt{2}}{2}&\\frac{\\sqrt{3}}{3}  \\\\\\frac{\\sqrt{6}}{6}&- \\frac{\\sqrt{2}}{2}&\\frac{\\sqrt{3}}{3}\\end{bmatrix}$</p>"
      ],
      "text/plain": [
       "Matrix([Vector([sqrt(6)/3, sqrt(6)/6, sqrt(6)/6]), Vector([0, sqrt(2)/2, -sqrt(2)/2]), Vector([-sqrt(3)/3, sqrt(3)/3, sqrt(3)/3])])"
      ]
     },
     "execution_count": 158,
     "metadata": {},
     "output_type": "execute_result"
    }
   ],
   "source": [
    "D.Q"
   ]
  },
  {
   "cell_type": "code",
   "execution_count": 159,
   "metadata": {},
   "outputs": [
    {
     "data": {
      "text/html": [
       "<p style=\"text-align:center;\">$\\begin{bmatrix}1&0&0  \\\\0&1&0  \\\\0&0&1\\end{bmatrix}$</p>"
      ],
      "text/plain": [
       "Matrix([Vector([1, 0, 0]), Vector([0, 1, 0]), Vector([0, 0, 1])])"
      ]
     },
     "execution_count": 159,
     "metadata": {},
     "output_type": "execute_result"
    }
   ],
   "source": [
    "~(D.Q)*(D.Q)"
   ]
  },
  {
   "cell_type": "code",
   "execution_count": 160,
   "metadata": {},
   "outputs": [
    {
     "data": {
      "text/html": [
       "<p style=\"text-align:center;\">$\\begin{bmatrix}2&0&0  \\\\0&0&0  \\\\0&0&-1\\end{bmatrix}$</p>"
      ],
      "text/plain": [
       "Matrix([Vector([2, 0, 0]), Vector([0, 0, 0]), Vector([0, 0, -1])])"
      ]
     },
     "execution_count": 160,
     "metadata": {},
     "output_type": "execute_result"
    }
   ],
   "source": [
    "Q=D.Q\n",
    "~Q*A*Q"
   ]
  },
  {
   "cell_type": "code",
   "execution_count": 161,
   "metadata": {},
   "outputs": [
    {
     "data": {
      "text/plain": [
       "True"
      ]
     },
     "execution_count": 161,
     "metadata": {},
     "output_type": "execute_result"
    }
   ],
   "source": [
    "Diagonaliza(A, L).S.GS().normalizada() == D.Q"
   ]
  },
  {
   "cell_type": "code",
   "execution_count": 162,
   "metadata": {},
   "outputs": [
    {
     "data": {
      "text/latex": [
       "$\\displaystyle \\left[\\begin{array}{ccc}1&1&1\\\\1&0&0\\\\1&0&0\\\\ \\hline 1&0&0\\\\0&1&0\\\\0&0&1\\\\\\end{array}\\right]\\xrightarrow[2\\mathbf{I}]{(-)}\\left[\\begin{array}{ccc}-1&1&1\\\\1&-2&0\\\\1&0&-2\\\\ \\hline 1&0&0\\\\0&1&0\\\\0&0&1\\\\\\end{array}\\right]\\xrightarrow{\\underset{\\begin{subarray}{c} \\left[\\left(1\\right)\\mathbf{1}+\\mathbf{2} \\right]\\\\\\left[\\left(1\\right)\\mathbf{1}+\\mathbf{3} \\right]\\end{subarray}}{\\mathbf{\\tau}}}\\left[\\begin{array}{ccc}-1&0&0\\\\1&-1&1\\\\1&1&-1\\\\ \\hline 1&1&1\\\\0&1&0\\\\0&0&1\\\\\\end{array}\\right]\\xrightarrow{\\underset{\\begin{subarray}{c} \\left[\\left(1\\right)\\mathbf{2}+\\mathbf{3} \\right]\\end{subarray}}{\\mathbf{\\tau}}}\\left[\\begin{array}{ccc}-1&0&0\\\\1&-1&0\\\\1&1&0\\\\ \\hline 1&1&2\\\\0&1&1\\\\0&0&1\\\\\\end{array}\\right]\\xrightarrow[\\underset{\\begin{subarray}{c} \\left[\\left(-1\\right)\\mathbf{3}+\\mathbf{2} \\right]\\\\\\left[\\left(-1\\right)\\mathbf{3}+\\mathbf{1} \\right]\\\\\\left[\\left(-1\\right)\\mathbf{2}+\\mathbf{1} \\right]\\end{subarray}}{\\mathbf{\\tau}}]{}\\left[\\begin{array}{ccc}-3&0&0\\\\0&-2&0\\\\1&1&0\\\\ \\hline 1&1&2\\\\0&1&1\\\\0&0&1\\\\\\end{array}\\right]\\xrightarrow[2\\mathbf{I}]{(+)}\\left[\\begin{array}{ccc}-1&0&0\\\\0&0&0\\\\1&1&2\\\\ \\hline 1&1&2\\\\0&1&1\\\\0&0&1\\\\\\end{array}\\right]\\xrightarrow[0\\mathbf{I}]{(-)}\\left[\\begin{array}{ccc}-1&0&0\\\\0&0&0\\\\1&1&2\\\\ \\hline 1&1&2\\\\0&1&1\\\\0&0&1\\\\\\end{array}\\right]\\xrightarrow{\\underset{\\begin{subarray}{c} \\left[\\left(- \\frac{1}{2}\\right)\\mathbf{3}+\\mathbf{2} \\right]\\end{subarray}}{\\mathbf{\\tau}}}\\left[\\begin{array}{ccc}-1&0&0\\\\0&0&0\\\\1&0&2\\\\ \\hline 1&0&2\\\\0&\\frac{1}{2}&1\\\\0&- \\frac{1}{2}&1\\\\\\end{array}\\right]\\xrightarrow[\\underset{\\begin{subarray}{c} \\left[\\left(\\frac{1}{2}\\right)\\mathbf{2}+\\mathbf{3} \\right]\\end{subarray}}{\\mathbf{\\tau}}]{}\\left[\\begin{array}{ccc}-1&0&0\\\\0&0&0\\\\1&0&2\\\\ \\hline 1&0&2\\\\0&\\frac{1}{2}&1\\\\0&- \\frac{1}{2}&1\\\\\\end{array}\\right]\\xrightarrow[0\\mathbf{I}]{(+)}\\left[\\begin{array}{ccc}-1&0&0\\\\0&0&0\\\\1&0&2\\\\ \\hline 1&0&2\\\\0&\\frac{1}{2}&1\\\\0&- \\frac{1}{2}&1\\\\\\end{array}\\right]\\xrightarrow[-1\\mathbf{I}]{(-)}\\left[\\begin{array}{ccc}0&0&0\\\\0&1&0\\\\1&0&3\\\\ \\hline 1&0&2\\\\0&\\frac{1}{2}&1\\\\0&- \\frac{1}{2}&1\\\\\\end{array}\\right]\\xrightarrow{\\underset{\\begin{subarray}{c} \\left[\\left(- \\frac{1}{3}\\right)\\mathbf{3}+\\mathbf{1} \\right]\\end{subarray}}{\\mathbf{\\tau}}}\\left[\\begin{array}{ccc}0&0&0\\\\0&1&0\\\\0&0&3\\\\ \\hline \\frac{1}{3}&0&2\\\\- \\frac{1}{3}&\\frac{1}{2}&1\\\\- \\frac{1}{3}&- \\frac{1}{2}&1\\\\\\end{array}\\right]\\xrightarrow[\\underset{\\begin{subarray}{c} \\left[\\left(\\frac{1}{3}\\right)\\mathbf{1}+\\mathbf{3} \\right]\\end{subarray}}{\\mathbf{\\tau}}]{}\\left[\\begin{array}{ccc}0&0&0\\\\0&1&0\\\\0&0&3\\\\ \\hline \\frac{1}{3}&0&2\\\\- \\frac{1}{3}&\\frac{1}{2}&1\\\\- \\frac{1}{3}&- \\frac{1}{2}&1\\\\\\end{array}\\right]\\xrightarrow[-1\\mathbf{I}]{(+)}\\left[\\begin{array}{ccc}-1&0&0\\\\0&0&0\\\\0&0&2\\\\ \\hline \\frac{1}{3}&0&2\\\\- \\frac{1}{3}&\\frac{1}{2}&1\\\\- \\frac{1}{3}&- \\frac{1}{2}&1\\\\\\end{array}\\right]$"
      ],
      "text/plain": [
       "<IPython.core.display.Math object>"
      ]
     },
     "metadata": {},
     "output_type": "display_data"
    },
    {
     "data": {
      "text/html": [
       "<p style=\"text-align:center;\">$\\begin{bmatrix}-1&0&0  \\\\0&0&0  \\\\0&0&2\\end{bmatrix}$</p>"
      ],
      "text/plain": [
       "Matrix([Vector([-1, 0, 0]), Vector([0, 0, 0]), Vector([0, 0, 2])])"
      ]
     },
     "execution_count": 162,
     "metadata": {},
     "output_type": "execute_result"
    }
   ],
   "source": [
    "A.diagonalizaS(L,1)"
   ]
  },
  {
   "cell_type": "markdown",
   "metadata": {},
   "source": [
    "# Lección 20"
   ]
  },
  {
   "cell_type": "code",
   "execution_count": 163,
   "metadata": {},
   "outputs": [
    {
     "data": {
      "text/html": [
       "<p style=\"text-align:center;\">$\\begin{bmatrix}1&1&1  \\\\1&0&0  \\\\1&0&0\\end{bmatrix}$</p>"
      ],
      "text/plain": [
       "Matrix([Vector([1, 1, 1]), Vector([1, 0, 0]), Vector([1, 0, 0])])"
      ]
     },
     "execution_count": 163,
     "metadata": {},
     "output_type": "execute_result"
    }
   ],
   "source": [
    "A = Matrix([[1,1,1],[1,0,0],[1,0,0]]); L = [-1,0,2]; A"
   ]
  },
  {
   "cell_type": "code",
   "execution_count": 164,
   "metadata": {},
   "outputs": [
    {
     "data": {
      "text/latex": [
       "$\\displaystyle \\begin{bmatrix}1&1&1  \\\\1&0&0  \\\\1&0&0\\end{bmatrix}\\xrightarrow{\\underset{\\begin{subarray}{c} \\left[\\left(-1\\right)\\mathbf{1}+\\mathbf{2} \\right]\\\\\\left[\\left(-1\\right)\\mathbf{1}+\\mathbf{3} \\right]\\end{subarray}}{\\mathbf{\\tau}}}\\begin{bmatrix}1&0&0  \\\\1&-1&-1  \\\\1&-1&-1\\end{bmatrix}\\xrightarrow[\\underset{\\begin{subarray}{c} \\left[\\left(-1\\right)\\mathbf{1}+\\mathbf{3} \\right]\\\\\\left[\\left(-1\\right)\\mathbf{1}+\\mathbf{2} \\right]\\end{subarray}}{\\mathbf{\\tau}}]{}\\begin{bmatrix}1&0&0  \\\\0&-1&-1  \\\\0&-1&-1\\end{bmatrix}\\xrightarrow{\\underset{\\begin{subarray}{c} \\left[\\left(-1\\right)\\mathbf{2}+\\mathbf{3} \\right]\\end{subarray}}{\\mathbf{\\tau}}}\\begin{bmatrix}1&0&0  \\\\0&-1&0  \\\\0&-1&0\\end{bmatrix}\\xrightarrow[\\underset{\\begin{subarray}{c} \\left[\\left(-1\\right)\\mathbf{2}+\\mathbf{3} \\right]\\end{subarray}}{\\mathbf{\\tau}}]{}\\begin{bmatrix}1&0&0  \\\\0&-1&0  \\\\0&0&0\\end{bmatrix}$"
      ],
      "text/plain": [
       "<IPython.core.display.Math object>"
      ]
     },
     "metadata": {},
     "output_type": "display_data"
    },
    {
     "name": "stdout",
     "output_type": "stream",
     "text": [
      "Num de autovalores positivos: 1\n",
      "\n",
      "Num de autovalores nulos:     1\n",
      "\n",
      "Num de autovalores negativos: 1\n",
      "\n"
     ]
    },
    {
     "data": {
      "text/html": [
       "<p style=\"text-align:center;\">$\\begin{bmatrix}1&0&0  \\\\0&-1&0  \\\\0&0&0\\end{bmatrix}$</p>"
      ],
      "text/plain": [
       "Matrix([Vector([1, 0, 0]), Vector([0, -1, 0]), Vector([0, 0, 0])])"
      ]
     },
     "execution_count": 164,
     "metadata": {},
     "output_type": "execute_result"
    }
   ],
   "source": [
    "DiagonalizaC(A,1)                              # Diagonalización por congruencia"
   ]
  },
  {
   "cell_type": "code",
   "execution_count": 165,
   "metadata": {},
   "outputs": [
    {
     "data": {
      "text/html": [
       "<p style=\"text-align:center;\">$\\begin{bmatrix}0&1&1  \\\\1&0&1  \\\\1&1&0\\end{bmatrix}$</p>"
      ],
      "text/plain": [
       "Matrix([Vector([0, 1, 1]), Vector([1, 0, 1]), Vector([1, 1, 0])])"
      ]
     },
     "execution_count": 165,
     "metadata": {},
     "output_type": "execute_result"
    }
   ],
   "source": [
    "A = Matrix([[0,1,1],[1,0,1],[1,1,0]]); A"
   ]
  },
  {
   "cell_type": "code",
   "execution_count": 166,
   "metadata": {},
   "outputs": [
    {
     "data": {
      "text/latex": [
       "$\\displaystyle \\begin{bmatrix}0&1&1  \\\\1&0&1  \\\\1&1&0\\end{bmatrix}\\xrightarrow{\\underset{\\begin{subarray}{c} \\left[\\left(1\\right)\\mathbf{2}+\\mathbf{1} \\right]\\end{subarray}}{\\mathbf{\\tau}}}\\begin{bmatrix}1&1&1  \\\\1&0&1  \\\\2&1&0\\end{bmatrix}\\xrightarrow[\\underset{\\begin{subarray}{c} \\left[\\left(1\\right)\\mathbf{2}+\\mathbf{1} \\right]\\end{subarray}}{\\mathbf{\\tau}}]{}\\begin{bmatrix}2&1&2  \\\\1&0&1  \\\\2&1&0\\end{bmatrix}\\xrightarrow{\\underset{\\begin{subarray}{c} \\left[\\left(2\\right)\\mathbf{2}\\right]\\\\\\left[\\left(-1\\right)\\mathbf{1}+\\mathbf{2} \\right]\\\\\\left[\\left(-1\\right)\\mathbf{1}+\\mathbf{3} \\right]\\end{subarray}}{\\mathbf{\\tau}}}\\begin{bmatrix}2&0&0  \\\\1&-1&0  \\\\2&0&-2\\end{bmatrix}\\xrightarrow[\\underset{\\begin{subarray}{c} \\left[\\left(-1\\right)\\mathbf{1}+\\mathbf{3} \\right]\\\\\\left[\\left(-1\\right)\\mathbf{1}+\\mathbf{2} \\right]\\\\\\left[\\left(2\\right)\\mathbf{2}\\right]\\end{subarray}}{\\mathbf{\\tau}}]{}\\begin{bmatrix}2&0&0  \\\\0&-2&0  \\\\0&0&-2\\end{bmatrix}$"
      ],
      "text/plain": [
       "<IPython.core.display.Math object>"
      ]
     },
     "metadata": {},
     "output_type": "display_data"
    },
    {
     "name": "stdout",
     "output_type": "stream",
     "text": [
      "Num de autovalores positivos: 1\n",
      "\n",
      "Num de autovalores nulos:     0\n",
      "\n",
      "Num de autovalores negativos: 2\n",
      "\n"
     ]
    },
    {
     "data": {
      "text/html": [
       "<p style=\"text-align:center;\">$\\left[\\begin{bmatrix}2&0&0  \\\\0&-2&0  \\\\0&0&-2\\end{bmatrix};\\;\\begin{bmatrix}1&-1&-1  \\\\1&1&-1  \\\\0&0&1\\end{bmatrix};\\right]$</p>"
      ],
      "text/plain": [
       "Sistema([Matrix([Vector([2, 0, 0]), Vector([0, -2, 0]), Vector([0, 0, -2])]); Matrix([Vector([1, 1, 0]), Vector([-1, 1, 0]), Vector([-1, -1, 1])]);])"
      ]
     },
     "execution_count": 166,
     "metadata": {},
     "output_type": "execute_result"
    }
   ],
   "source": [
    "D = DiagonalizaC(A,1)                              # Diagonalización por congruencia\n",
    "Sistema([D, D.B])"
   ]
  },
  {
   "cell_type": "code",
   "execution_count": 167,
   "metadata": {},
   "outputs": [
    {
     "data": {
      "text/html": [
       "<p style=\"text-align:center;\">$\\begin{bmatrix}0&1  \\\\1&-2\\end{bmatrix}$</p>"
      ],
      "text/plain": [
       "Matrix([Vector([0, 1]), Vector([1, -2])])"
      ]
     },
     "execution_count": 167,
     "metadata": {},
     "output_type": "execute_result"
    }
   ],
   "source": [
    "A = Matrix([[0,1],[1,-2]]);A"
   ]
  },
  {
   "cell_type": "code",
   "execution_count": 168,
   "metadata": {},
   "outputs": [
    {
     "data": {
      "text/latex": [
       "$\\displaystyle \\begin{bmatrix}0&1  \\\\1&-2\\end{bmatrix}\\xrightarrow{\\underset{\\begin{subarray}{c} \\left[\\mathbf{1}\\rightleftharpoons\\mathbf{2}\\right]\\end{subarray}}{\\mathbf{\\tau}}}\\begin{bmatrix}1&0  \\\\-2&1\\end{bmatrix}\\xrightarrow[\\underset{\\begin{subarray}{c} \\left[\\mathbf{1}\\rightleftharpoons\\mathbf{2}\\right]\\end{subarray}}{\\mathbf{\\tau}}]{}\\begin{bmatrix}-2&1  \\\\1&0\\end{bmatrix}\\xrightarrow{\\underset{\\begin{subarray}{c} \\left[\\left(2\\right)\\mathbf{2}\\right]\\\\\\left[\\left(1\\right)\\mathbf{1}+\\mathbf{2} \\right]\\end{subarray}}{\\mathbf{\\tau}}}\\begin{bmatrix}-2&0  \\\\1&1\\end{bmatrix}\\xrightarrow[\\underset{\\begin{subarray}{c} \\left[\\left(1\\right)\\mathbf{1}+\\mathbf{2} \\right]\\\\\\left[\\left(2\\right)\\mathbf{2}\\right]\\end{subarray}}{\\mathbf{\\tau}}]{}\\begin{bmatrix}-2&0  \\\\0&2\\end{bmatrix}$"
      ],
      "text/plain": [
       "<IPython.core.display.Math object>"
      ]
     },
     "metadata": {},
     "output_type": "display_data"
    },
    {
     "name": "stdout",
     "output_type": "stream",
     "text": [
      "Num de autovalores positivos: 1\n",
      "\n",
      "Num de autovalores nulos:     0\n",
      "\n",
      "Num de autovalores negativos: 1\n",
      "\n"
     ]
    },
    {
     "data": {
      "text/html": [
       "<p style=\"text-align:center;\">$\\begin{bmatrix}-2&0  \\\\0&2\\end{bmatrix}$</p>"
      ],
      "text/plain": [
       "Matrix([Vector([-2, 0]), Vector([0, 2])])"
      ]
     },
     "execution_count": 168,
     "metadata": {},
     "output_type": "execute_result"
    }
   ],
   "source": [
    "DiagonalizaC(A,1)                              # Diagonalización por congruencia"
   ]
  },
  {
   "cell_type": "code",
   "execution_count": 169,
   "metadata": {},
   "outputs": [
    {
     "data": {
      "text/html": [
       "<p style=\"text-align:center;\">$\\begin{bmatrix}0&1&-2&1  \\\\1&0&3&-6  \\\\-2&3&-5&1  \\\\1&-6&1&0\\end{bmatrix}$</p>"
      ],
      "text/plain": [
       "Matrix([Vector([0, 1, -2, 1]), Vector([1, 0, 3, -6]), Vector([-2, 3, -5, 1]), Vector([1, -6, 1, 0])])"
      ]
     },
     "execution_count": 169,
     "metadata": {},
     "output_type": "execute_result"
    }
   ],
   "source": [
    "A = Matrix([[0,1,-2,1],[1,0,3,-6],[-2,3,-5,1],[1,-6,1,0]]); A"
   ]
  },
  {
   "cell_type": "code",
   "execution_count": 170,
   "metadata": {},
   "outputs": [
    {
     "data": {
      "text/latex": [
       "$\\displaystyle \\begin{bmatrix}0&1&-2&1  \\\\1&0&3&-6  \\\\-2&3&-5&1  \\\\1&-6&1&0\\end{bmatrix}\\xrightarrow{\\underset{\\begin{subarray}{c} \\left[\\left(1\\right)\\mathbf{2}+\\mathbf{1} \\right]\\end{subarray}}{\\mathbf{\\tau}}}\\begin{bmatrix}1&1&-2&1  \\\\1&0&3&-6  \\\\1&3&-5&1  \\\\-5&-6&1&0\\end{bmatrix}\\xrightarrow[\\underset{\\begin{subarray}{c} \\left[\\left(1\\right)\\mathbf{2}+\\mathbf{1} \\right]\\end{subarray}}{\\mathbf{\\tau}}]{}\\begin{bmatrix}2&1&1&-5  \\\\1&0&3&-6  \\\\1&3&-5&1  \\\\-5&-6&1&0\\end{bmatrix}\\xrightarrow{\\underset{\\begin{subarray}{c} \\left[\\left(2\\right)\\mathbf{2}\\right]\\\\\\left[\\left(-1\\right)\\mathbf{1}+\\mathbf{2} \\right]\\\\\\left[\\left(2\\right)\\mathbf{3}\\right]\\\\\\left[\\left(-1\\right)\\mathbf{1}+\\mathbf{3} \\right]\\\\\\left[\\left(2\\right)\\mathbf{4}\\right]\\\\\\left[\\left(5\\right)\\mathbf{1}+\\mathbf{4} \\right]\\end{subarray}}{\\mathbf{\\tau}}}\\begin{bmatrix}2&0&0&0  \\\\1&-1&5&-7  \\\\1&5&-11&7  \\\\-5&-7&7&-25\\end{bmatrix}\\xrightarrow[\\underset{\\begin{subarray}{c} \\left[\\left(5\\right)\\mathbf{1}+\\mathbf{4} \\right]\\\\\\left[\\left(2\\right)\\mathbf{4}\\right]\\\\\\left[\\left(-1\\right)\\mathbf{1}+\\mathbf{3} \\right]\\\\\\left[\\left(2\\right)\\mathbf{3}\\right]\\\\\\left[\\left(-1\\right)\\mathbf{1}+\\mathbf{2} \\right]\\\\\\left[\\left(2\\right)\\mathbf{2}\\right]\\end{subarray}}{\\mathbf{\\tau}}]{}\\begin{bmatrix}2&0&0&0  \\\\0&-2&10&-14  \\\\0&10&-22&14  \\\\0&-14&14&-50\\end{bmatrix}\\xrightarrow{\\underset{\\begin{subarray}{c} \\left[\\left(5\\right)\\mathbf{2}+\\mathbf{3} \\right]\\\\\\left[\\left(-7\\right)\\mathbf{2}+\\mathbf{4} \\right]\\end{subarray}}{\\mathbf{\\tau}}}\\begin{bmatrix}2&0&0&0  \\\\0&-2&0&0  \\\\0&10&28&-56  \\\\0&-14&-56&48\\end{bmatrix}\\xrightarrow[\\underset{\\begin{subarray}{c} \\left[\\left(-7\\right)\\mathbf{2}+\\mathbf{4} \\right]\\\\\\left[\\left(5\\right)\\mathbf{2}+\\mathbf{3} \\right]\\end{subarray}}{\\mathbf{\\tau}}]{}\\begin{bmatrix}2&0&0&0  \\\\0&-2&0&0  \\\\0&0&28&-56  \\\\0&0&-56&48\\end{bmatrix}\\xrightarrow{\\underset{\\begin{subarray}{c} \\left[\\left(2\\right)\\mathbf{3}+\\mathbf{4} \\right]\\end{subarray}}{\\mathbf{\\tau}}}\\begin{bmatrix}2&0&0&0  \\\\0&-2&0&0  \\\\0&0&28&0  \\\\0&0&-56&-64\\end{bmatrix}\\xrightarrow[\\underset{\\begin{subarray}{c} \\left[\\left(2\\right)\\mathbf{3}+\\mathbf{4} \\right]\\end{subarray}}{\\mathbf{\\tau}}]{}\\begin{bmatrix}2&0&0&0  \\\\0&-2&0&0  \\\\0&0&28&0  \\\\0&0&0&-64\\end{bmatrix}$"
      ],
      "text/plain": [
       "<IPython.core.display.Math object>"
      ]
     },
     "metadata": {},
     "output_type": "display_data"
    },
    {
     "name": "stdout",
     "output_type": "stream",
     "text": [
      "Num de autovalores positivos: 2\n",
      "\n",
      "Num de autovalores nulos:     0\n",
      "\n",
      "Num de autovalores negativos: 2\n",
      "\n"
     ]
    },
    {
     "data": {
      "text/html": [
       "<p style=\"text-align:center;\">$\\begin{bmatrix}2&0&0&0  \\\\0&-2&0&0  \\\\0&0&28&0  \\\\0&0&0&-64\\end{bmatrix}$</p>"
      ],
      "text/plain": [
       "Matrix([Vector([2, 0, 0, 0]), Vector([0, -2, 0, 0]), Vector([0, 0, 28, 0]), Vector([0, 0, 0, -64])])"
      ]
     },
     "execution_count": 170,
     "metadata": {},
     "output_type": "execute_result"
    }
   ],
   "source": [
    "DiagonalizaC(A,1)                              # Diagonalización por congruencia"
   ]
  },
  {
   "cell_type": "code",
   "execution_count": 171,
   "metadata": {},
   "outputs": [
    {
     "data": {
      "text/html": [
       "<p style=\"text-align:center;\">$\\begin{bmatrix}1&1&1  \\\\1&1&1  \\\\1&1&-2\\end{bmatrix}$</p>"
      ],
      "text/plain": [
       "Matrix([Vector([1, 1, 1]), Vector([1, 1, 1]), Vector([1, 1, -2])])"
      ]
     },
     "execution_count": 171,
     "metadata": {},
     "output_type": "execute_result"
    }
   ],
   "source": [
    "A = Matrix([[1,1,1],[1,1,1],[1,1,-2]]); A"
   ]
  },
  {
   "cell_type": "code",
   "execution_count": 172,
   "metadata": {},
   "outputs": [
    {
     "data": {
      "text/latex": [
       "$\\displaystyle \\begin{bmatrix}1&1&1  \\\\1&1&1  \\\\1&1&-2\\end{bmatrix}\\xrightarrow{\\underset{\\begin{subarray}{c} \\left[\\left(-1\\right)\\mathbf{1}+\\mathbf{2} \\right]\\\\\\left[\\left(-1\\right)\\mathbf{1}+\\mathbf{3} \\right]\\end{subarray}}{\\mathbf{\\tau}}}\\begin{bmatrix}1&0&0  \\\\1&0&0  \\\\1&0&-3\\end{bmatrix}\\xrightarrow[\\underset{\\begin{subarray}{c} \\left[\\left(-1\\right)\\mathbf{1}+\\mathbf{3} \\right]\\\\\\left[\\left(-1\\right)\\mathbf{1}+\\mathbf{2} \\right]\\end{subarray}}{\\mathbf{\\tau}}]{}\\begin{bmatrix}1&0&0  \\\\0&0&0  \\\\0&0&-3\\end{bmatrix}$"
      ],
      "text/plain": [
       "<IPython.core.display.Math object>"
      ]
     },
     "metadata": {},
     "output_type": "display_data"
    },
    {
     "name": "stdout",
     "output_type": "stream",
     "text": [
      "Num de autovalores positivos: 1\n",
      "\n",
      "Num de autovalores nulos:     1\n",
      "\n",
      "Num de autovalores negativos: 1\n",
      "\n"
     ]
    },
    {
     "data": {
      "text/html": [
       "<p style=\"text-align:center;\">$\\begin{bmatrix}1&0&0  \\\\0&0&0  \\\\0&0&-3\\end{bmatrix}$</p>"
      ],
      "text/plain": [
       "Matrix([Vector([1, 0, 0]), Vector([0, 0, 0]), Vector([0, 0, -3])])"
      ]
     },
     "execution_count": 172,
     "metadata": {},
     "output_type": "execute_result"
    }
   ],
   "source": [
    "DiagonalizaC(A,1)                              # Diagonalización por congruencia"
   ]
  },
  {
   "cell_type": "code",
   "execution_count": 173,
   "metadata": {},
   "outputs": [
    {
     "data": {
      "text/html": [
       "<p style=\"text-align:center;\">$\\begin{bmatrix}2&-1&0  \\\\-1&2&-1  \\\\0&-1&2\\end{bmatrix}$</p>"
      ],
      "text/plain": [
       "Matrix([Vector([2, -1, 0]), Vector([-1, 2, -1]), Vector([0, -1, 2])])"
      ]
     },
     "execution_count": 173,
     "metadata": {},
     "output_type": "execute_result"
    }
   ],
   "source": [
    "A = Matrix([[2,-1,0],[-1,2,-1],[0,-1,2]]);A"
   ]
  },
  {
   "cell_type": "code",
   "execution_count": 174,
   "metadata": {},
   "outputs": [
    {
     "data": {
      "text/latex": [
       "$\\displaystyle \\begin{bmatrix}2&-1&0  \\\\-1&2&-1  \\\\0&-1&2\\end{bmatrix}\\xrightarrow{\\underset{\\begin{subarray}{c} \\left[\\left(2\\right)\\mathbf{2}\\right]\\\\\\left[\\left(1\\right)\\mathbf{1}+\\mathbf{2} \\right]\\end{subarray}}{\\mathbf{\\tau}}}\\begin{bmatrix}2&0&0  \\\\-1&3&-1  \\\\0&-2&2\\end{bmatrix}\\xrightarrow[\\underset{\\begin{subarray}{c} \\left[\\left(1\\right)\\mathbf{1}+\\mathbf{2} \\right]\\\\\\left[\\left(2\\right)\\mathbf{2}\\right]\\end{subarray}}{\\mathbf{\\tau}}]{}\\begin{bmatrix}2&0&0  \\\\0&6&-2  \\\\0&-2&2\\end{bmatrix}\\xrightarrow{\\underset{\\begin{subarray}{c} \\left[\\left(3\\right)\\mathbf{3}\\right]\\\\\\left[\\left(1\\right)\\mathbf{2}+\\mathbf{3} \\right]\\end{subarray}}{\\mathbf{\\tau}}}\\begin{bmatrix}2&0&0  \\\\0&6&0  \\\\0&-2&4\\end{bmatrix}\\xrightarrow[\\underset{\\begin{subarray}{c} \\left[\\left(1\\right)\\mathbf{2}+\\mathbf{3} \\right]\\\\\\left[\\left(3\\right)\\mathbf{3}\\right]\\end{subarray}}{\\mathbf{\\tau}}]{}\\begin{bmatrix}2&0&0  \\\\0&6&0  \\\\0&0&12\\end{bmatrix}$"
      ],
      "text/plain": [
       "<IPython.core.display.Math object>"
      ]
     },
     "metadata": {},
     "output_type": "display_data"
    },
    {
     "name": "stdout",
     "output_type": "stream",
     "text": [
      "Num de autovalores positivos: 3\n",
      "\n",
      "Num de autovalores nulos:     0\n",
      "\n",
      "Num de autovalores negativos: 0\n",
      "\n"
     ]
    },
    {
     "data": {
      "text/html": [
       "<p style=\"text-align:center;\">$\\left[\\begin{bmatrix}2&0&0  \\\\0&6&0  \\\\0&0&12\\end{bmatrix};\\;\\begin{bmatrix}1&1&1  \\\\0&2&2  \\\\0&0&3\\end{bmatrix};\\right]$</p>"
      ],
      "text/plain": [
       "Sistema([Matrix([Vector([2, 0, 0]), Vector([0, 6, 0]), Vector([0, 0, 12])]); Matrix([Vector([1, 0, 0]), Vector([1, 2, 0]), Vector([1, 2, 3])]);])"
      ]
     },
     "execution_count": 174,
     "metadata": {},
     "output_type": "execute_result"
    }
   ],
   "source": [
    "D = DiagonalizaC(A,1)                              # Diagonalización por congruencia (evitamos dividir)\n",
    "Sistema([D,D.B])"
   ]
  },
  {
   "cell_type": "code",
   "execution_count": 175,
   "metadata": {},
   "outputs": [
    {
     "data": {
      "text/latex": [
       "$\\displaystyle \\begin{bmatrix}2&-1&0  \\\\-1&2&-1  \\\\0&-1&2\\end{bmatrix}\\xrightarrow{\\underset{\\begin{subarray}{c} \\left[\\left(\\frac{1}{2}\\right)\\mathbf{1}+\\mathbf{2} \\right]\\end{subarray}}{\\mathbf{\\tau}}}\\begin{bmatrix}2&0&0  \\\\-1&\\frac{3}{2}&-1  \\\\0&-1&2\\end{bmatrix}\\xrightarrow[\\underset{\\begin{subarray}{c} \\left[\\left(\\frac{1}{2}\\right)\\mathbf{1}+\\mathbf{2} \\right]\\end{subarray}}{\\mathbf{\\tau}}]{}\\begin{bmatrix}2&0&0  \\\\0&\\frac{3}{2}&-1  \\\\0&-1&2\\end{bmatrix}\\xrightarrow{\\underset{\\begin{subarray}{c} \\left[\\left(\\frac{2}{3}\\right)\\mathbf{2}+\\mathbf{3} \\right]\\end{subarray}}{\\mathbf{\\tau}}}\\begin{bmatrix}2&0&0  \\\\0&\\frac{3}{2}&0  \\\\0&-1&\\frac{4}{3}\\end{bmatrix}\\xrightarrow[\\underset{\\begin{subarray}{c} \\left[\\left(\\frac{2}{3}\\right)\\mathbf{2}+\\mathbf{3} \\right]\\end{subarray}}{\\mathbf{\\tau}}]{}\\begin{bmatrix}2&0&0  \\\\0&\\frac{3}{2}&0  \\\\0&0&\\frac{4}{3}\\end{bmatrix}$"
      ],
      "text/plain": [
       "<IPython.core.display.Math object>"
      ]
     },
     "metadata": {},
     "output_type": "display_data"
    },
    {
     "name": "stdout",
     "output_type": "stream",
     "text": [
      "Num de autovalores positivos: 3\n",
      "\n",
      "Num de autovalores nulos:     0\n",
      "\n",
      "Num de autovalores negativos: 0\n",
      "\n"
     ]
    },
    {
     "data": {
      "text/html": [
       "<p style=\"text-align:center;\">$\\left[\\begin{bmatrix}2&0&0  \\\\0&\\frac{3}{2}&0  \\\\0&0&\\frac{4}{3}\\end{bmatrix};\\;\\begin{bmatrix}1&\\frac{1}{2}&\\frac{1}{3}  \\\\0&1&\\frac{2}{3}  \\\\0&0&1\\end{bmatrix};\\right]$</p>"
      ],
      "text/plain": [
       "Sistema([Matrix([Vector([2, 0, 0]), Vector([0, 3/2, 0]), Vector([0, 0, 4/3])]); Matrix([Vector([1, 0, 0]), Vector([1/2, 1, 0]), Vector([1/3, 2/3, 1])]);])"
      ]
     },
     "execution_count": 175,
     "metadata": {},
     "output_type": "execute_result"
    }
   ],
   "source": [
    "D = DiagonalizaCr(A,1)                              # Diagonalización por congruencia (no evitamos dividir)\n",
    "Sistema([D,D.B])"
   ]
  },
  {
   "cell_type": "code",
   "execution_count": 176,
   "metadata": {},
   "outputs": [],
   "source": [
    "A = Matrix([[0,1,0,0],[1,0,1,1],[0,1,0,1],[0,1,1,1]])"
   ]
  },
  {
   "cell_type": "code",
   "execution_count": 177,
   "metadata": {
    "scrolled": true
   },
   "outputs": [
    {
     "data": {
      "text/latex": [
       "$\\displaystyle \\begin{bmatrix}0&1&0&0  \\\\1&0&1&1  \\\\0&1&0&1  \\\\0&1&1&1\\end{bmatrix}\\xrightarrow{\\underset{\\begin{subarray}{c} \\left[\\left(1\\right)\\mathbf{2}+\\mathbf{1} \\right]\\end{subarray}}{\\mathbf{\\tau}}}\\begin{bmatrix}1&1&0&0  \\\\1&0&1&1  \\\\1&1&0&1  \\\\1&1&1&1\\end{bmatrix}\\xrightarrow[\\underset{\\begin{subarray}{c} \\left[\\left(1\\right)\\mathbf{2}+\\mathbf{1} \\right]\\end{subarray}}{\\mathbf{\\tau}}]{}\\begin{bmatrix}2&1&1&1  \\\\1&0&1&1  \\\\1&1&0&1  \\\\1&1&1&1\\end{bmatrix}\\xrightarrow{\\underset{\\begin{subarray}{c} \\left[\\left(2\\right)\\mathbf{2}\\right]\\\\\\left[\\left(-1\\right)\\mathbf{1}+\\mathbf{2} \\right]\\\\\\left[\\left(2\\right)\\mathbf{3}\\right]\\\\\\left[\\left(-1\\right)\\mathbf{1}+\\mathbf{3} \\right]\\\\\\left[\\left(2\\right)\\mathbf{4}\\right]\\\\\\left[\\left(-1\\right)\\mathbf{1}+\\mathbf{4} \\right]\\end{subarray}}{\\mathbf{\\tau}}}\\begin{bmatrix}2&0&0&0  \\\\1&-1&1&1  \\\\1&1&-1&1  \\\\1&1&1&1\\end{bmatrix}\\xrightarrow[\\underset{\\begin{subarray}{c} \\left[\\left(-1\\right)\\mathbf{1}+\\mathbf{4} \\right]\\\\\\left[\\left(2\\right)\\mathbf{4}\\right]\\\\\\left[\\left(-1\\right)\\mathbf{1}+\\mathbf{3} \\right]\\\\\\left[\\left(2\\right)\\mathbf{3}\\right]\\\\\\left[\\left(-1\\right)\\mathbf{1}+\\mathbf{2} \\right]\\\\\\left[\\left(2\\right)\\mathbf{2}\\right]\\end{subarray}}{\\mathbf{\\tau}}]{}\\begin{bmatrix}2&0&0&0  \\\\0&-2&2&2  \\\\0&2&-2&2  \\\\0&2&2&2\\end{bmatrix}\\xrightarrow{\\underset{\\begin{subarray}{c} \\left[\\left(1\\right)\\mathbf{2}+\\mathbf{3} \\right]\\\\\\left[\\left(1\\right)\\mathbf{2}+\\mathbf{4} \\right]\\end{subarray}}{\\mathbf{\\tau}}}\\begin{bmatrix}2&0&0&0  \\\\0&-2&0&0  \\\\0&2&0&4  \\\\0&2&4&4\\end{bmatrix}\\xrightarrow[\\underset{\\begin{subarray}{c} \\left[\\left(1\\right)\\mathbf{2}+\\mathbf{4} \\right]\\\\\\left[\\left(1\\right)\\mathbf{2}+\\mathbf{3} \\right]\\end{subarray}}{\\mathbf{\\tau}}]{}\\begin{bmatrix}2&0&0&0  \\\\0&-2&0&0  \\\\0&0&0&4  \\\\0&0&4&4\\end{bmatrix}\\xrightarrow{\\underset{\\begin{subarray}{c} \\left[\\mathbf{3}\\rightleftharpoons\\mathbf{4}\\right]\\end{subarray}}{\\mathbf{\\tau}}}\\begin{bmatrix}2&0&0&0  \\\\0&-2&0&0  \\\\0&0&4&0  \\\\0&0&4&4\\end{bmatrix}\\xrightarrow[\\underset{\\begin{subarray}{c} \\left[\\mathbf{3}\\rightleftharpoons\\mathbf{4}\\right]\\end{subarray}}{\\mathbf{\\tau}}]{}\\begin{bmatrix}2&0&0&0  \\\\0&-2&0&0  \\\\0&0&4&4  \\\\0&0&4&0\\end{bmatrix}\\xrightarrow{\\underset{\\begin{subarray}{c} \\left[\\left(-1\\right)\\mathbf{3}+\\mathbf{4} \\right]\\end{subarray}}{\\mathbf{\\tau}}}\\begin{bmatrix}2&0&0&0  \\\\0&-2&0&0  \\\\0&0&4&0  \\\\0&0&4&-4\\end{bmatrix}\\xrightarrow[\\underset{\\begin{subarray}{c} \\left[\\left(-1\\right)\\mathbf{3}+\\mathbf{4} \\right]\\end{subarray}}{\\mathbf{\\tau}}]{}\\begin{bmatrix}2&0&0&0  \\\\0&-2&0&0  \\\\0&0&4&0  \\\\0&0&0&-4\\end{bmatrix}$"
      ],
      "text/plain": [
       "<IPython.core.display.Math object>"
      ]
     },
     "metadata": {},
     "output_type": "display_data"
    },
    {
     "name": "stdout",
     "output_type": "stream",
     "text": [
      "Num de autovalores positivos: 2\n",
      "\n",
      "Num de autovalores nulos:     0\n",
      "\n",
      "Num de autovalores negativos: 2\n",
      "\n"
     ]
    }
   ],
   "source": [
    "D = DiagonalizaC(A,1)"
   ]
  },
  {
   "cell_type": "code",
   "execution_count": 178,
   "metadata": {},
   "outputs": [
    {
     "data": {
      "text/html": [
       "<p style=\"text-align:center;\">$\\begin{bmatrix}1&-1&-2&0  \\\\1&1&0&0  \\\\0&0&0&2  \\\\0&0&2&-2\\end{bmatrix}$</p>"
      ],
      "text/plain": [
       "Matrix([Vector([1, 1, 0, 0]), Vector([-1, 1, 0, 0]), Vector([-2, 0, 0, 2]), Vector([0, 0, 2, -2])])"
      ]
     },
     "execution_count": 178,
     "metadata": {},
     "output_type": "execute_result"
    }
   ],
   "source": [
    "B = D.B                #  Matrix que realiza las transformaciones de las columnas\n",
    "B"
   ]
  },
  {
   "cell_type": "code",
   "execution_count": 179,
   "metadata": {},
   "outputs": [
    {
     "data": {
      "text/html": [
       "<p style=\"text-align:center;\">$\\begin{bmatrix}2&0&0&0  \\\\0&-2&0&0  \\\\0&0&4&0  \\\\0&0&0&-4\\end{bmatrix}$</p>"
      ],
      "text/plain": [
       "Matrix([Vector([2, 0, 0, 0]), Vector([0, -2, 0, 0]), Vector([0, 0, 4, 0]), Vector([0, 0, 0, -4])])"
      ]
     },
     "execution_count": 179,
     "metadata": {},
     "output_type": "execute_result"
    }
   ],
   "source": [
    "~B*A*B                    # D es congruente con A"
   ]
  },
  {
   "cell_type": "code",
   "execution_count": 180,
   "metadata": {},
   "outputs": [
    {
     "data": {
      "text/html": [
       "<p style=\"text-align:center;\">$\\begin{bmatrix}2&0&0&0  \\\\0&- \\frac{1}{2}&0&0  \\\\0&0&1&0  \\\\0&0&0&-1\\end{bmatrix}$</p>"
      ],
      "text/plain": [
       "Matrix([Vector([2, 0, 0, 0]), Vector([0, -1/2, 0, 0]), Vector([0, 0, 1, 0]), Vector([0, 0, 0, -1])])"
      ]
     },
     "execution_count": 180,
     "metadata": {},
     "output_type": "execute_result"
    }
   ],
   "source": [
    "A.diagonalizaCr()"
   ]
  },
  {
   "cell_type": "code",
   "execution_count": 181,
   "metadata": {},
   "outputs": [
    {
     "data": {
      "application/javascript": [
       "$.getScript('https://kmahelona.github.io/ipython_notebook_goodies/ipython_notebook_toc.js')\n",
       "$.getScript('https://kmahelona.github.io/ipython_notebook_goodies/ipython_notebook_toc.js')\n"
      ],
      "text/plain": [
       "<IPython.core.display.Javascript object>"
      ]
     },
     "metadata": {},
     "output_type": "display_data"
    }
   ],
   "source": [
    "%%javascript\n",
    "$.getScript('https://kmahelona.github.io/ipython_notebook_goodies/ipython_notebook_toc.js')\n",
    "$.getScript('https://kmahelona.github.io/ipython_notebook_goodies/ipython_notebook_toc.js')"
   ]
  }
 ],
 "metadata": {
  "kernelspec": {
   "display_name": "Python 3",
   "language": "python",
   "name": "python3"
  },
  "language_info": {
   "codemirror_mode": {
    "name": "ipython",
    "version": 3
   },
   "file_extension": ".py",
   "mimetype": "text/x-python",
   "name": "python",
   "nbconvert_exporter": "python",
   "pygments_lexer": "ipython3",
   "version": "3.8.5"
  },
  "name": "Notebook.ipynb"
 },
 "nbformat": 4,
 "nbformat_minor": 2
}
