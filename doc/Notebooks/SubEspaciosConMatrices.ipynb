{
 "cells": [
  {
   "cell_type": "code",
   "execution_count": 1,
   "id": "young-madison",
   "metadata": {},
   "outputs": [],
   "source": [
    "from nacal import *"
   ]
  },
  {
   "cell_type": "code",
   "execution_count": 2,
   "id": "framed-reach",
   "metadata": {},
   "outputs": [
    {
     "data": {
      "image/png": "[encoded data removed]",
      "text/html": [
       "<p style=\"text-align:center;\">$\\left[ \\begin{array}{cc}1&2\\\\2&3\\\\ \\end{array} \\right]$</p>"
      ],
      "text/latex": [
       "$\\left[ \\begin{array}{cc}1&2\\\\2&3\\\\ \\end{array} \\right]$"
      ],
      "text/plain": [
       "Matrix([Vector([1, 2]), Vector([2, 3])])"
      ]
     },
     "execution_count": 2,
     "metadata": {},
     "output_type": "execute_result"
    }
   ],
   "source": [
    "A = Matrix([[1,2],[2,3]])\n",
    "A"
   ]
  },
  {
   "cell_type": "code",
   "execution_count": 3,
   "id": "neural-attendance",
   "metadata": {},
   "outputs": [
    {
     "data": {
      "image/png": "[encoded data removed]",
      "text/html": [
       "<p style=\"text-align:center;\">$\\left[ \\begin{array}{ccc}\\left[ \\begin{array}{cc}1&0\\\\0&1\\\\ \\end{array} \\right];& \\left[ \\begin{array}{cc}1&2\\\\2&3\\\\ \\end{array} \\right];& \\left[ \\begin{array}{cc}5&8\\\\8&13\\\\ \\end{array} \\right];\\end{array} \\right]$</p>"
      ],
      "text/latex": [
       "$\\left[ \\begin{array}{ccc}\\left[ \\begin{array}{cc}1&0\\\\0&1\\\\ \\end{array} \\right];& \\left[ \\begin{array}{cc}1&2\\\\2&3\\\\ \\end{array} \\right];& \\left[ \\begin{array}{cc}5&8\\\\8&13\\\\ \\end{array} \\right];\\end{array} \\right]$"
      ],
      "text/plain": [
       "Sistema([Matrix([Vector([1, 0]), Vector([0, 1])]); Matrix([Vector([1, 2]), Vector([2, 3])]); Matrix([Vector([5, 8]), Vector([8, 13])]);])"
      ]
     },
     "execution_count": 3,
     "metadata": {},
     "output_type": "execute_result"
    }
   ],
   "source": [
    "M = Sistema([A**n for n in range(3) ])\n",
    "M"
   ]
  },
  {
   "cell_type": "code",
   "execution_count": 4,
   "id": "productive-homework",
   "metadata": {},
   "outputs": [
    {
     "data": {
      "image/png": "[encoded data removed]",
      "text/html": [
       "<p style=\"text-align:center;\">$\\left[ \\begin{array}{ccc|c}\\left[ \\begin{array}{cc}1&0\\\\0&1\\\\ \\end{array} \\right];& \\left[ \\begin{array}{cc}1&2\\\\2&3\\\\ \\end{array} \\right];& \\left[ \\begin{array}{cc}5&8\\\\8&13\\\\ \\end{array} \\right];& \\left[ \\begin{array}{cc}7&10\\\\10&17\\\\ \\end{array} \\right];\\end{array} \\right]$</p>"
      ],
      "text/latex": [
       "$\\left[ \\begin{array}{ccc|c}\\left[ \\begin{array}{cc}1&0\\\\0&1\\\\ \\end{array} \\right];& \\left[ \\begin{array}{cc}1&2\\\\2&3\\\\ \\end{array} \\right];& \\left[ \\begin{array}{cc}5&8\\\\8&13\\\\ \\end{array} \\right];& \\left[ \\begin{array}{cc}7&10\\\\10&17\\\\ \\end{array} \\right];\\end{array} \\right]$"
      ],
      "text/plain": [
       "Sistema([Matrix([Vector([1, 0]), Vector([0, 1])]); Matrix([Vector([1, 2]), Vector([2, 3])]); Matrix([Vector([5, 8]), Vector([8, 13])]); Matrix([Vector([7, 10]), Vector([10, 17])]);])"
      ]
     },
     "execution_count": 4,
     "metadata": {},
     "output_type": "execute_result"
    }
   ],
   "source": [
    "J = M.amplia(M*Vector([1,1,1]),1)\n",
    "J"
   ]
  },
  {
   "cell_type": "code",
   "execution_count": 5,
   "id": "passive-trial",
   "metadata": {},
   "outputs": [
    {
     "data": {
      "text/html": [
       "<p style=\"text-align:center;\">$\\left\\{ \\pmb{\\mathsf{M}}\\in\\mathbb{R}^{2\\times2}\\ \\left|\\ \\exists\\boldsymbol{p}\\in\\mathbb{R}^2,\\; \\mathsf{\\pmb{M}}= \\left[ \\begin{array}{cc}\\left[ \\begin{array}{cc}1&0\\\\0&1\\\\ \\end{array} \\right];& \\left[ \\begin{array}{cc}1&2\\\\2&3\\\\ \\end{array} \\right];\\end{array} \\right]\\boldsymbol{p}\\right. \\right\\}\\; = \\;\\left\\{ \\mathsf{\\pmb{M}}\\in\\mathbb{R}^{2\\times2}\\ \\left|\\ \\left[ \\begin{array}{cccc}0&-1&1&0\\\\-1&-1&0&1\\\\ \\end{array} \\right]vec(\\mathsf{\\pmb{M}})=\\begin{pmatrix}0\\\\ 0\\end{pmatrix}\\right.\\right\\}$</p>"
      ],
      "text/plain": [
       "<nacal.nacal.SubEspacio at 0x7f9fb834d1c0>"
      ]
     },
     "execution_count": 5,
     "metadata": {},
     "output_type": "execute_result"
    }
   ],
   "source": [
    "M.span()"
   ]
  },
  {
   "cell_type": "code",
   "execution_count": 6,
   "id": "returning-isaac",
   "metadata": {},
   "outputs": [
    {
     "data": {
      "text/html": [
       "<p style=\"text-align:center;\">$\\left\\{ \\pmb{\\mathsf{M}}\\in\\mathbb{R}^{2\\times2}\\ \\left|\\ \\exists\\boldsymbol{p}\\in\\mathbb{R}^2,\\; \\mathsf{\\pmb{M}}= \\left[ \\begin{array}{cc}\\left[ \\begin{array}{cc}1&0\\\\0&1\\\\ \\end{array} \\right];& \\left[ \\begin{array}{cc}1&2\\\\2&3\\\\ \\end{array} \\right];\\end{array} \\right]\\boldsymbol{p}\\right. \\right\\}\\; = \\;\\left\\{ \\mathsf{\\pmb{M}}\\in\\mathbb{R}^{2\\times2}\\ \\left|\\ \\left[ \\begin{array}{cccc}0&-1&1&0\\\\-1&-1&0&1\\\\ \\end{array} \\right]vec(\\mathsf{\\pmb{M}})=\\begin{pmatrix}0\\\\ 0\\end{pmatrix}\\right.\\right\\}$</p>"
      ],
      "text/plain": [
       "<nacal.nacal.SubEspacio at 0x7f9fb08ce2e0>"
      ]
     },
     "execution_count": 6,
     "metadata": {},
     "output_type": "execute_result"
    }
   ],
   "source": [
    "J.span()"
   ]
  },
  {
   "cell_type": "code",
   "execution_count": 7,
   "id": "beautiful-encounter",
   "metadata": {},
   "outputs": [
    {
     "data": {
      "image/png": "[encoded data removed]",
      "text/html": [
       "<p style=\"text-align:center;\">$\\left[ \\begin{array}{ccc}\\left[ \\begin{array}{cc}1&2\\\\3&4\\\\ \\end{array} \\right];& \\left[ \\begin{array}{cc}7&10\\\\15&22\\\\ \\end{array} \\right];& \\left[ \\begin{array}{cc}37&54\\\\81&118\\\\ \\end{array} \\right];\\end{array} \\right]$</p>"
      ],
      "text/latex": [
       "$\\left[ \\begin{array}{ccc}\\left[ \\begin{array}{cc}1&2\\\\3&4\\\\ \\end{array} \\right];& \\left[ \\begin{array}{cc}7&10\\\\15&22\\\\ \\end{array} \\right];& \\left[ \\begin{array}{cc}37&54\\\\81&118\\\\ \\end{array} \\right];\\end{array} \\right]$"
      ],
      "text/plain": [
       "Sistema([Matrix([Vector([1, 3]), Vector([2, 4])]); Matrix([Vector([7, 15]), Vector([10, 22])]); Matrix([Vector([37, 81]), Vector([54, 118])]);])"
      ]
     },
     "execution_count": 7,
     "metadata": {},
     "output_type": "execute_result"
    }
   ],
   "source": [
    "B = Matrix([[1,2],[3,4]])\n",
    "MB = Sistema([B**n for n,i in enumerate(range(3),1) ])\n",
    "MB"
   ]
  },
  {
   "cell_type": "code",
   "execution_count": 8,
   "id": "champion-ceremony",
   "metadata": {},
   "outputs": [
    {
     "data": {
      "text/html": [
       "<p style=\"text-align:center;\">$\\left\\{ \\pmb{\\mathsf{M}}\\in\\mathbb{R}^{2\\times2}\\ \\left|\\ \\exists\\boldsymbol{p}\\in\\mathbb{R}^1,\\; \\mathsf{\\pmb{M}}= \\left[ \\begin{array}{c}\\left[ \\begin{array}{cc}-4&0\\\\0&-4\\\\ \\end{array} \\right];\\end{array} \\right]\\boldsymbol{p}\\right. \\right\\}\\; = \\;\\left\\{ \\mathsf{\\pmb{M}}\\in\\mathbb{R}^{2\\times2}\\ \\left|\\ \\left[ \\begin{array}{cccc}0&1&0&0\\\\0&0&1&0\\\\-1&0&0&1\\\\ \\end{array} \\right]vec(\\mathsf{\\pmb{M}})=\\begin{pmatrix}0\\\\ 0\\\\ 0\\end{pmatrix}\\right.\\right\\}$</p>"
      ],
      "text/plain": [
       "<nacal.nacal.SubEspacio at 0x7f9fb8313ee0>"
      ]
     },
     "execution_count": 8,
     "metadata": {},
     "output_type": "execute_result"
    }
   ],
   "source": [
    "M.span() & MB.span()"
   ]
  },
  {
   "cell_type": "code",
   "execution_count": 9,
   "id": "controversial-edition",
   "metadata": {},
   "outputs": [
    {
     "data": {
      "text/html": [
       "<p style=\"text-align:center;\">$\\left\\{ \\pmb{\\mathsf{M}}\\in\\mathbb{R}^{2\\times2}\\ \\left|\\ \\exists\\boldsymbol{p}\\in\\mathbb{R}^3,\\; \\mathsf{\\pmb{M}}= \\left[ \\begin{array}{ccc}\\left[ \\begin{array}{cc}1&0\\\\0&1\\\\ \\end{array} \\right];& \\left[ \\begin{array}{cc}1&2\\\\2&3\\\\ \\end{array} \\right];& \\left[ \\begin{array}{cc}1&2\\\\3&4\\\\ \\end{array} \\right];\\end{array} \\right]\\boldsymbol{p}\\right. \\right\\}\\; = \\;\\left\\{ \\mathsf{\\pmb{M}}\\in\\mathbb{R}^{2\\times2}\\ \\left|\\ \\left[ \\begin{array}{cccc}-1&-1&0&1\\\\ \\end{array} \\right]vec(\\mathsf{\\pmb{M}})=\\begin{pmatrix}0,\\end{pmatrix}\\right.\\right\\}$</p>"
      ],
      "text/plain": [
       "<nacal.nacal.SubEspacio at 0x7f9fb08c8e20>"
      ]
     },
     "execution_count": 9,
     "metadata": {},
     "output_type": "execute_result"
    }
   ],
   "source": [
    "M.span() + MB.span()"
   ]
  },
  {
   "cell_type": "code",
   "execution_count": 10,
   "id": "false-situation",
   "metadata": {},
   "outputs": [
    {
     "data": {
      "text/html": [
       "<p style=\"text-align:center;\">$\\left\\{ \\pmb{\\mathsf{M}}\\in\\mathbb{R}^{2\\times2}\\ \\left|\\ \\exists\\boldsymbol{p}\\in\\mathbb{R}^2,\\; \\mathsf{\\pmb{M}}= \\left[ \\begin{array}{cc}\\left[ \\begin{array}{cc}0&1\\\\-1&0\\\\ \\end{array} \\right];& \\left[ \\begin{array}{cc}-1&0\\\\-1&1\\\\ \\end{array} \\right];\\end{array} \\right]\\boldsymbol{p}\\right. \\right\\}\\; = \\;\\left\\{ \\mathsf{\\pmb{M}}\\in\\mathbb{R}^{2\\times2}\\ \\left|\\ \\left[ \\begin{array}{cccc}-1&1&1&0\\\\1&0&0&1\\\\ \\end{array} \\right]vec(\\mathsf{\\pmb{M}})=\\begin{pmatrix}0\\\\ 0\\end{pmatrix}\\right.\\right\\}$</p>"
      ],
      "text/plain": [
       "<nacal.nacal.SubEspacio at 0x7f9fb830ae80>"
      ]
     },
     "execution_count": 10,
     "metadata": {},
     "output_type": "execute_result"
    }
   ],
   "source": [
    "~(M.span())"
   ]
  },
  {
   "cell_type": "code",
   "execution_count": 11,
   "id": "roman-column",
   "metadata": {},
   "outputs": [
    {
     "data": {
      "text/html": [
       "<p style=\"text-align:center;\">$\\left\\{ \\pmb{\\mathsf{M}}\\in\\mathbb{R}^{2\\times2}\\ \\left|\\ \\exists\\boldsymbol{p}\\in\\mathbb{R}^4,\\; \\mathsf{\\pmb{M}}= \\left[ \\begin{array}{cccc}\\left[ \\begin{array}{cc}1&0\\\\0&1\\\\ \\end{array} \\right];& \\left[ \\begin{array}{cc}1&2\\\\2&3\\\\ \\end{array} \\right];& \\left[ \\begin{array}{cc}0&1\\\\-1&0\\\\ \\end{array} \\right];& \\left[ \\begin{array}{cc}-1&0\\\\-1&1\\\\ \\end{array} \\right];\\end{array} \\right]\\boldsymbol{p}\\right. \\right\\}\\; = \\;\\left\\{ \\mathsf{\\pmb{M}}\\in\\mathbb{R}^{2\\times2}\\ \\left|\\ \\left[ \\begin{array}{cccc}0&0&0&0\\\\ \\end{array} \\right]vec(\\mathsf{\\pmb{M}})=\\begin{pmatrix}0,\\end{pmatrix}\\right.\\right\\}$</p>"
      ],
      "text/plain": [
       "<nacal.nacal.SubEspacio at 0x7f9fb83a64f0>"
      ]
     },
     "execution_count": 11,
     "metadata": {},
     "output_type": "execute_result"
    }
   ],
   "source": [
    "M.span() + ~(M.span())"
   ]
  },
  {
   "cell_type": "code",
   "execution_count": 12,
   "id": "functional-cross",
   "metadata": {},
   "outputs": [
    {
     "data": {
      "image/png": "[encoded data removed]",
      "text/html": [
       "<p style=\"text-align:center;\">$\\left[ \\begin{array}{cccc}\\left[ \\begin{array}{cc}1&0\\\\0&0\\\\ \\end{array} \\right];& \\left[ \\begin{array}{cc}0&0\\\\1&0\\\\ \\end{array} \\right];& \\left[ \\begin{array}{cc}0&1\\\\0&0\\\\ \\end{array} \\right];& \\left[ \\begin{array}{cc}0&0\\\\0&1\\\\ \\end{array} \\right];\\end{array} \\right]$</p>"
      ],
      "text/latex": [
       "$\\left[ \\begin{array}{cccc}\\left[ \\begin{array}{cc}1&0\\\\0&0\\\\ \\end{array} \\right];& \\left[ \\begin{array}{cc}0&0\\\\1&0\\\\ \\end{array} \\right];& \\left[ \\begin{array}{cc}0&1\\\\0&0\\\\ \\end{array} \\right];& \\left[ \\begin{array}{cc}0&0\\\\0&1\\\\ \\end{array} \\right];\\end{array} \\right]$"
      ],
      "text/plain": [
       "Sistema([Matrix([Vector([1, 0]), Vector([0, 0])]); Matrix([Vector([0, 1]), Vector([0, 0])]); Matrix([Vector([0, 0]), Vector([1, 0])]); Matrix([Vector([0, 0]), Vector([0, 1])]);])"
      ]
     },
     "execution_count": 12,
     "metadata": {},
     "output_type": "execute_result"
    }
   ],
   "source": [
    "(M.span() + ~(M.span())).base.elim(12)"
   ]
  },
  {
   "cell_type": "code",
   "execution_count": 13,
   "id": "alleged-mattress",
   "metadata": {},
   "outputs": [
    {
     "data": {
      "text/html": [
       "<p style=\"text-align:center;\">$\\left\\{\\ \\left[ \\begin{array}{cc}0&0\\\\0&0\\\\ \\end{array} \\right]\\ \\right\\}$</p>"
      ],
      "text/plain": [
       "<nacal.nacal.SubEspacio at 0x7f9fb83b6100>"
      ]
     },
     "execution_count": 13,
     "metadata": {},
     "output_type": "execute_result"
    }
   ],
   "source": [
    "M.span() & ~(M.span())"
   ]
  },
  {
   "cell_type": "code",
   "execution_count": 14,
   "id": "surface-district",
   "metadata": {},
   "outputs": [
    {
     "data": {
      "image/png": "[encoded data removed]",
      "text/html": [
       "<p style=\"text-align:center;\">$\\left[\\ \\right]$</p>"
      ],
      "text/latex": [
       "$\\left[\\ \\right]$"
      ],
      "text/plain": [
       "Sistema([])"
      ]
     },
     "execution_count": 14,
     "metadata": {},
     "output_type": "execute_result"
    }
   ],
   "source": [
    "(M.span() & ~(M.span())).base"
   ]
  },
  {
   "cell_type": "code",
   "execution_count": 15,
   "id": "instrumental-strip",
   "metadata": {},
   "outputs": [
    {
     "data": {
      "image/png": "[encoded data removed]",
      "text/html": [
       "<p style=\"text-align:center;\">$\\left[ \\begin{array}{c}\\left[ \\begin{array}{cc}0&0\\\\0&0\\\\ \\end{array} \\right];\\end{array} \\right]$</p>"
      ],
      "text/latex": [
       "$\\left[ \\begin{array}{c}\\left[ \\begin{array}{cc}0&0\\\\0&0\\\\ \\end{array} \\right];\\end{array} \\right]$"
      ],
      "text/plain": [
       "Sistema([Matrix([Vector([0, 0]), Vector([0, 0])]);])"
      ]
     },
     "execution_count": 15,
     "metadata": {},
     "output_type": "execute_result"
    }
   ],
   "source": [
    "(M.span() & ~(M.span())).sgen"
   ]
  },
  {
   "cell_type": "code",
   "execution_count": 16,
   "id": "resistant-laundry",
   "metadata": {},
   "outputs": [
    {
     "data": {
      "text/latex": [
       "$\\displaystyle \\left[ \\begin{array}{ccc|c}\\left[ \\begin{array}{cc}1&0\\\\0&1\\\\ \\end{array} \\right]&\\left[ \\begin{array}{cc}1&2\\\\2&3\\\\ \\end{array} \\right]&\\left[ \\begin{array}{cc}5&8\\\\8&13\\\\ \\end{array} \\right]&\\left[ \\begin{array}{cc}-10&-20\\\\-20&-30\\\\ \\end{array} \\right]\\\\ \\hline 1&0&0&0\\\\0&1&0&0\\\\0&0&1&0\\\\ \\hline 0&0&0&1\\\\ \\end{array} \\right]\\xrightarrow{\\underset{\\begin{subarray}{c} \\left[\\left(-1\\right)\\mathbf{1}+\\mathbf{2} \\right]\\\\\\left[\\left(-5\\right)\\mathbf{1}+\\mathbf{3} \\right]\\\\\\left[\\left(10\\right)\\mathbf{1}+\\mathbf{4} \\right]\\end{subarray}}{\\pmb{\\tau}}}\\left[ \\begin{array}{ccc|c}\\left[ \\begin{array}{cc}1&0\\\\0&1\\\\ \\end{array} \\right]&\\left[ \\begin{array}{cc}0&2\\\\2&2\\\\ \\end{array} \\right]&\\left[ \\begin{array}{cc}0&8\\\\8&8\\\\ \\end{array} \\right]&\\left[ \\begin{array}{cc}0&-20\\\\-20&-20\\\\ \\end{array} \\right]\\\\ \\hline 1&-1&-5&10\\\\0&1&0&0\\\\0&0&1&0\\\\ \\hline 0&0&0&1\\\\ \\end{array} \\right]\\xrightarrow{\\underset{\\begin{subarray}{c} \\left[\\left(-4\\right)\\mathbf{2}+\\mathbf{3} \\right]\\\\\\left[\\left(10\\right)\\mathbf{2}+\\mathbf{4} \\right]\\end{subarray}}{\\pmb{\\tau}}}\\left[ \\begin{array}{ccc|c}\\left[ \\begin{array}{cc}1&0\\\\0&1\\\\ \\end{array} \\right]&\\left[ \\begin{array}{cc}0&2\\\\2&2\\\\ \\end{array} \\right]&\\left[ \\begin{array}{cc}0&0\\\\0&0\\\\ \\end{array} \\right]&\\left[ \\begin{array}{cc}0&0\\\\0&0\\\\ \\end{array} \\right]\\\\ \\hline 1&-1&-1&0\\\\0&1&-4&10\\\\0&0&1&0\\\\ \\hline 0&0&0&1\\\\ \\end{array} \\right]$"
      ],
      "text/plain": [
       "<IPython.core.display.Math object>"
      ]
     },
     "metadata": {},
     "output_type": "display_data"
    },
    {
     "data": {
      "text/html": [
       "<p style=\"text-align:center;\">$\\left\\{ \\boldsymbol{v}\\in\\mathbb{R}^3\\ \\left|\\ \\exists\\boldsymbol{p}\\in\\mathbb{R}^1,\\; \\boldsymbol{v}= \\begin{pmatrix}0\\\\ 10\\\\ 0\\end{pmatrix}+\\left[ \\begin{array}{c}-1\\\\-4\\\\1\\\\ \\end{array} \\right]\\boldsymbol{p}\\right. \\right\\}$</p>"
      ],
      "text/plain": [
       "Vector([0, 10, 0]) + Combinaciones lineales de (Sistema([Vector([-1, -4, 1]);]))"
      ]
     },
     "execution_count": 16,
     "metadata": {},
     "output_type": "execute_result"
    }
   ],
   "source": [
    "SEL(M,M*Vector([-1,6,1]),1)"
   ]
  },
  {
   "cell_type": "code",
   "execution_count": 17,
   "id": "dried-ethics",
   "metadata": {},
   "outputs": [
    {
     "data": {
      "text/html": [
       "<p style=\"text-align:center;\">$\\left\\{ \\pmb{\\mathsf{M}}\\in\\mathbb{R}^{2\\times2}\\ \\left|\\ \\exists\\boldsymbol{p}\\in\\mathbb{R}^2,\\; \\mathsf{\\pmb{M}}= \\left[ \\begin{array}{cc}0&-1\\\\0&-1\\\\ \\end{array} \\right]+\\left[ \\begin{array}{cc}\\left[ \\begin{array}{cc}1&0\\\\0&1\\\\ \\end{array} \\right];& \\left[ \\begin{array}{cc}1&2\\\\2&3\\\\ \\end{array} \\right];\\end{array} \\right]\\boldsymbol{p}\\right. \\right\\}\\; = \\;\\left\\{ \\mathsf{\\pmb{M}}\\in\\mathbb{R}^{2\\times2}\\ \\left|\\ \\left[ \\begin{array}{cccc}0&-1&1&0\\\\-1&-1&0&1\\\\ \\end{array} \\right]vec(\\mathsf{\\pmb{M}})=\\begin{pmatrix}-1\\\\ -1\\end{pmatrix}\\right.\\right\\}$</p>"
      ],
      "text/plain": [
       "<nacal.nacal.EAfin at 0x7f9fb08eda00>"
      ]
     },
     "execution_count": 17,
     "metadata": {},
     "output_type": "execute_result"
    }
   ],
   "source": [
    "EAfin(M,Matrix([[1,1],[2,2]]))"
   ]
  },
  {
   "cell_type": "code",
   "execution_count": 18,
   "id": "union-blackjack",
   "metadata": {},
   "outputs": [
    {
     "data": {
      "text/html": [
       "<p style=\"text-align:center;\">$\\left\\{ \\pmb{\\mathsf{M}}\\in\\mathbb{R}^{2\\times2}\\ \\left|\\ \\exists\\boldsymbol{p}\\in\\mathbb{R}^2,\\; \\mathsf{\\pmb{M}}= \\left[ \\begin{array}{cc}\\left[ \\begin{array}{cc}0&1\\\\-1&0\\\\ \\end{array} \\right];& \\left[ \\begin{array}{cc}-1&0\\\\-1&1\\\\ \\end{array} \\right];\\end{array} \\right]\\boldsymbol{p}\\right. \\right\\}\\; = \\;\\left\\{ \\mathsf{\\pmb{M}}\\in\\mathbb{R}^{2\\times2}\\ \\left|\\ \\left[ \\begin{array}{cccc}-1&1&1&0\\\\1&0&0&1\\\\ \\end{array} \\right]vec(\\mathsf{\\pmb{M}})=\\begin{pmatrix}0\\\\ 0\\end{pmatrix}\\right.\\right\\}$</p>"
      ],
      "text/plain": [
       "<nacal.nacal.SubEspacio at 0x7f9fb08ce880>"
      ]
     },
     "execution_count": 18,
     "metadata": {},
     "output_type": "execute_result"
    }
   ],
   "source": [
    "~EAfin(M,Matrix([[1,1],[2,2]]))"
   ]
  },
  {
   "cell_type": "code",
   "execution_count": null,
   "id": "distinct-parade",
   "metadata": {},
   "outputs": [],
   "source": []
  }
 ],
 "metadata": {
  "kernelspec": {
   "display_name": "Python 3",
   "language": "python",
   "name": "python3"
  },
  "language_info": {
   "codemirror_mode": {
    "name": "ipython",
    "version": 3
   },
   "file_extension": ".py",
   "mimetype": "text/x-python",
   "name": "python",
   "nbconvert_exporter": "python",
   "pygments_lexer": "ipython3",
   "version": "3.9.2"
  }
 },
 "nbformat": 4,
 "nbformat_minor": 5
}
